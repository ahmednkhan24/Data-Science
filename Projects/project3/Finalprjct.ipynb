{
 "cells": [
  {
   "cell_type": "code",
   "execution_count": null,
   "metadata": {},
   "outputs": [],
   "source": [
    "# Final Project\n",
    "# TASK 01: PROBLEM SELECTION\n",
    "# The store wants to know better the customer purchase behaviour against different products"
   ]
  },
  {
   "cell_type": "code",
   "execution_count": 1,
   "metadata": {},
   "outputs": [],
   "source": [
    "# load libraries\n",
    "import pandas as pd\n",
    "import numpy as np \n",
    "from scipy import stats\n",
    "import matplotlib.pyplot as plt\n",
    "from sklearn.model_selection import train_test_split\n",
    "from sklearn.preprocessing import StandardScaler\n",
    "import statsmodels.formula.api as smf\n",
    "from sklearn import linear_model\n",
    "from sklearn.tree import DecisionTreeClassifier\n",
    "from sklearn.neighbors import KNeighborsClassifier \n",
    "from sklearn.naive_bayes import GaussianNB\n",
    "from sklearn.svm import SVC\n",
    "from sklearn.linear_model import LogisticRegression"
   ]
  },
  {
   "cell_type": "code",
   "execution_count": 2,
   "metadata": {},
   "outputs": [],
   "source": [
    "# TASK 02: DATA COLLECTION\n",
    "# read data from file\n",
    "data = pd.read_csv('BlackFriday.csv')"
   ]
  },
  {
   "cell_type": "code",
   "execution_count": 3,
   "metadata": {},
   "outputs": [
    {
     "data": {
      "text/html": [
       "<div>\n",
       "<style scoped>\n",
       "    .dataframe tbody tr th:only-of-type {\n",
       "        vertical-align: middle;\n",
       "    }\n",
       "\n",
       "    .dataframe tbody tr th {\n",
       "        vertical-align: top;\n",
       "    }\n",
       "\n",
       "    .dataframe thead th {\n",
       "        text-align: right;\n",
       "    }\n",
       "</style>\n",
       "<table border=\"1\" class=\"dataframe\">\n",
       "  <thead>\n",
       "    <tr style=\"text-align: right;\">\n",
       "      <th></th>\n",
       "      <th>User_ID</th>\n",
       "      <th>Product_ID</th>\n",
       "      <th>Gender</th>\n",
       "      <th>Age</th>\n",
       "      <th>Occupation</th>\n",
       "      <th>City_Category</th>\n",
       "      <th>Stay_In_Current_City_Years</th>\n",
       "      <th>Marital_Status</th>\n",
       "      <th>Product_Category_1</th>\n",
       "      <th>Product_Category_2</th>\n",
       "      <th>Product_Category_3</th>\n",
       "      <th>Purchase</th>\n",
       "    </tr>\n",
       "  </thead>\n",
       "  <tbody>\n",
       "    <tr>\n",
       "      <th>0</th>\n",
       "      <td>1000001</td>\n",
       "      <td>P00069042</td>\n",
       "      <td>F</td>\n",
       "      <td>0-17</td>\n",
       "      <td>10</td>\n",
       "      <td>A</td>\n",
       "      <td>2</td>\n",
       "      <td>0</td>\n",
       "      <td>3</td>\n",
       "      <td>NaN</td>\n",
       "      <td>NaN</td>\n",
       "      <td>8370</td>\n",
       "    </tr>\n",
       "    <tr>\n",
       "      <th>1</th>\n",
       "      <td>1000001</td>\n",
       "      <td>P00248942</td>\n",
       "      <td>F</td>\n",
       "      <td>0-17</td>\n",
       "      <td>10</td>\n",
       "      <td>A</td>\n",
       "      <td>2</td>\n",
       "      <td>0</td>\n",
       "      <td>1</td>\n",
       "      <td>6.0</td>\n",
       "      <td>14.0</td>\n",
       "      <td>15200</td>\n",
       "    </tr>\n",
       "    <tr>\n",
       "      <th>2</th>\n",
       "      <td>1000001</td>\n",
       "      <td>P00087842</td>\n",
       "      <td>F</td>\n",
       "      <td>0-17</td>\n",
       "      <td>10</td>\n",
       "      <td>A</td>\n",
       "      <td>2</td>\n",
       "      <td>0</td>\n",
       "      <td>12</td>\n",
       "      <td>NaN</td>\n",
       "      <td>NaN</td>\n",
       "      <td>1422</td>\n",
       "    </tr>\n",
       "    <tr>\n",
       "      <th>3</th>\n",
       "      <td>1000001</td>\n",
       "      <td>P00085442</td>\n",
       "      <td>F</td>\n",
       "      <td>0-17</td>\n",
       "      <td>10</td>\n",
       "      <td>A</td>\n",
       "      <td>2</td>\n",
       "      <td>0</td>\n",
       "      <td>12</td>\n",
       "      <td>14.0</td>\n",
       "      <td>NaN</td>\n",
       "      <td>1057</td>\n",
       "    </tr>\n",
       "    <tr>\n",
       "      <th>4</th>\n",
       "      <td>1000002</td>\n",
       "      <td>P00285442</td>\n",
       "      <td>M</td>\n",
       "      <td>55+</td>\n",
       "      <td>16</td>\n",
       "      <td>C</td>\n",
       "      <td>4+</td>\n",
       "      <td>0</td>\n",
       "      <td>8</td>\n",
       "      <td>NaN</td>\n",
       "      <td>NaN</td>\n",
       "      <td>7969</td>\n",
       "    </tr>\n",
       "  </tbody>\n",
       "</table>\n",
       "</div>"
      ],
      "text/plain": [
       "   User_ID Product_ID Gender   Age  Occupation City_Category  \\\n",
       "0  1000001  P00069042      F  0-17          10             A   \n",
       "1  1000001  P00248942      F  0-17          10             A   \n",
       "2  1000001  P00087842      F  0-17          10             A   \n",
       "3  1000001  P00085442      F  0-17          10             A   \n",
       "4  1000002  P00285442      M   55+          16             C   \n",
       "\n",
       "  Stay_In_Current_City_Years  Marital_Status  Product_Category_1  \\\n",
       "0                          2               0                   3   \n",
       "1                          2               0                   1   \n",
       "2                          2               0                  12   \n",
       "3                          2               0                  12   \n",
       "4                         4+               0                   8   \n",
       "\n",
       "   Product_Category_2  Product_Category_3  Purchase  \n",
       "0                 NaN                 NaN      8370  \n",
       "1                 6.0                14.0     15200  \n",
       "2                 NaN                 NaN      1422  \n",
       "3                14.0                 NaN      1057  \n",
       "4                 NaN                 NaN      7969  "
      ]
     },
     "execution_count": 3,
     "metadata": {},
     "output_type": "execute_result"
    }
   ],
   "source": [
    "data.head()"
   ]
  },
  {
   "cell_type": "code",
   "execution_count": 4,
   "metadata": {},
   "outputs": [
    {
     "data": {
      "text/plain": [
       "(537577, 12)"
      ]
     },
     "execution_count": 4,
     "metadata": {},
     "output_type": "execute_result"
    }
   ],
   "source": [
    "# there are 537,577 rows, and 12 columns\n",
    "data.shape"
   ]
  },
  {
   "cell_type": "code",
   "execution_count": 5,
   "metadata": {},
   "outputs": [
    {
     "name": "stdout",
     "output_type": "stream",
     "text": [
      "<class 'pandas.core.frame.DataFrame'>\n",
      "RangeIndex: 537577 entries, 0 to 537576\n",
      "Data columns (total 12 columns):\n",
      "User_ID                       537577 non-null int64\n",
      "Product_ID                    537577 non-null object\n",
      "Gender                        537577 non-null object\n",
      "Age                           537577 non-null object\n",
      "Occupation                    537577 non-null int64\n",
      "City_Category                 537577 non-null object\n",
      "Stay_In_Current_City_Years    537577 non-null object\n",
      "Marital_Status                537577 non-null int64\n",
      "Product_Category_1            537577 non-null int64\n",
      "Product_Category_2            370591 non-null float64\n",
      "Product_Category_3            164278 non-null float64\n",
      "Purchase                      537577 non-null int64\n",
      "dtypes: float64(2), int64(5), object(5)\n",
      "memory usage: 49.2+ MB\n"
     ]
    }
   ],
   "source": [
    "data.info()"
   ]
  },
  {
   "cell_type": "code",
   "execution_count": 6,
   "metadata": {},
   "outputs": [
    {
     "name": "stdout",
     "output_type": "stream",
     "text": [
      "Product_Category_3            373299\n",
      "Product_Category_2            166986\n",
      "Purchase                           0\n",
      "Product_Category_1                 0\n",
      "Marital_Status                     0\n",
      "Stay_In_Current_City_Years         0\n",
      "City_Category                      0\n",
      "Occupation                         0\n",
      "Age                                0\n",
      "Gender                             0\n",
      "Product_ID                         0\n",
      "User_ID                            0\n",
      "dtype: int64\n"
     ]
    }
   ],
   "source": [
    "# check for missing data\n",
    "missing = data.isnull().sum().sort_values(ascending = False)\n",
    "print(missing)"
   ]
  },
  {
   "cell_type": "code",
   "execution_count": 7,
   "metadata": {},
   "outputs": [],
   "source": [
    "# TASK 03: DATA PREPARATION\n",
    "# It seems that only 2 attributes contain missing data\n",
    "# Seeing that these attributes are categorical data that describe the product,\n",
    "# we believe it is safe to replace these with 0 since it being empty implies that\n",
    "# those categories don't describe the product\n",
    "data['Product_Category_2'] = data['Product_Category_2'].fillna(0)\n",
    "data['Product_Category_3'] = data['Product_Category_3'].fillna(0)"
   ]
  },
  {
   "cell_type": "code",
   "execution_count": 8,
   "metadata": {},
   "outputs": [],
   "source": [
    "# convert categorical data to numerical in order to run regressional analysis\n",
    "# Create new gender column mapping Male = 1 and Female = 0\n",
    "data['Gender_Num'] = np.where(data['Gender'] == 'M', 1, 0)"
   ]
  },
  {
   "cell_type": "code",
   "execution_count": 9,
   "metadata": {},
   "outputs": [],
   "source": [
    "s = {\n",
    "    '0-17': '0',\n",
    "    '18-25': '1',\n",
    "    '26-35': '2',\n",
    "    '36-45': '3',\n",
    "    '46-50': '4',\n",
    "    '51-55': '5',\n",
    "    '55+': '6'\n",
    "}\n",
    "\n",
    "data['Age_Num'] = data['Age']\n",
    "data['Age_Num'] = data['Age_Num'].map(s)"
   ]
  },
  {
   "cell_type": "code",
   "execution_count": 10,
   "metadata": {},
   "outputs": [],
   "source": [
    "s = {\n",
    "    'A': '0',\n",
    "    'B': '1',\n",
    "    'C': '2'\n",
    "}\n",
    "\n",
    "data['City_Category_Num'] = data['City_Category'].map(s)"
   ]
  },
  {
   "cell_type": "code",
   "execution_count": 11,
   "metadata": {},
   "outputs": [],
   "source": [
    "s = {\n",
    "    '0': '0',\n",
    "    '1': '1',\n",
    "    '2': '2',\n",
    "    '3': '3',\n",
    "    '4+': '4'\n",
    "}\n",
    "data['Stay_In_Years_Num'] = data['Stay_In_Current_City_Years'].map(s)"
   ]
  },
  {
   "cell_type": "code",
   "execution_count": 12,
   "metadata": {},
   "outputs": [
    {
     "data": {
      "text/html": [
       "<div>\n",
       "<style scoped>\n",
       "    .dataframe tbody tr th:only-of-type {\n",
       "        vertical-align: middle;\n",
       "    }\n",
       "\n",
       "    .dataframe tbody tr th {\n",
       "        vertical-align: top;\n",
       "    }\n",
       "\n",
       "    .dataframe thead th {\n",
       "        text-align: right;\n",
       "    }\n",
       "</style>\n",
       "<table border=\"1\" class=\"dataframe\">\n",
       "  <thead>\n",
       "    <tr style=\"text-align: right;\">\n",
       "      <th></th>\n",
       "      <th>User_ID</th>\n",
       "      <th>Product_ID</th>\n",
       "      <th>Gender</th>\n",
       "      <th>Age</th>\n",
       "      <th>Occupation</th>\n",
       "      <th>City_Category</th>\n",
       "      <th>Stay_In_Current_City_Years</th>\n",
       "      <th>Marital_Status</th>\n",
       "      <th>Product_Category_1</th>\n",
       "      <th>Product_Category_2</th>\n",
       "      <th>Product_Category_3</th>\n",
       "      <th>Purchase</th>\n",
       "      <th>Gender_Num</th>\n",
       "      <th>Age_Num</th>\n",
       "      <th>City_Category_Num</th>\n",
       "      <th>Stay_In_Years_Num</th>\n",
       "    </tr>\n",
       "  </thead>\n",
       "  <tbody>\n",
       "    <tr>\n",
       "      <th>0</th>\n",
       "      <td>1000001</td>\n",
       "      <td>P00069042</td>\n",
       "      <td>F</td>\n",
       "      <td>0-17</td>\n",
       "      <td>10</td>\n",
       "      <td>A</td>\n",
       "      <td>2</td>\n",
       "      <td>0</td>\n",
       "      <td>3</td>\n",
       "      <td>0.0</td>\n",
       "      <td>0.0</td>\n",
       "      <td>8370</td>\n",
       "      <td>0</td>\n",
       "      <td>0</td>\n",
       "      <td>0</td>\n",
       "      <td>2</td>\n",
       "    </tr>\n",
       "    <tr>\n",
       "      <th>1</th>\n",
       "      <td>1000001</td>\n",
       "      <td>P00248942</td>\n",
       "      <td>F</td>\n",
       "      <td>0-17</td>\n",
       "      <td>10</td>\n",
       "      <td>A</td>\n",
       "      <td>2</td>\n",
       "      <td>0</td>\n",
       "      <td>1</td>\n",
       "      <td>6.0</td>\n",
       "      <td>14.0</td>\n",
       "      <td>15200</td>\n",
       "      <td>0</td>\n",
       "      <td>0</td>\n",
       "      <td>0</td>\n",
       "      <td>2</td>\n",
       "    </tr>\n",
       "    <tr>\n",
       "      <th>2</th>\n",
       "      <td>1000001</td>\n",
       "      <td>P00087842</td>\n",
       "      <td>F</td>\n",
       "      <td>0-17</td>\n",
       "      <td>10</td>\n",
       "      <td>A</td>\n",
       "      <td>2</td>\n",
       "      <td>0</td>\n",
       "      <td>12</td>\n",
       "      <td>0.0</td>\n",
       "      <td>0.0</td>\n",
       "      <td>1422</td>\n",
       "      <td>0</td>\n",
       "      <td>0</td>\n",
       "      <td>0</td>\n",
       "      <td>2</td>\n",
       "    </tr>\n",
       "    <tr>\n",
       "      <th>3</th>\n",
       "      <td>1000001</td>\n",
       "      <td>P00085442</td>\n",
       "      <td>F</td>\n",
       "      <td>0-17</td>\n",
       "      <td>10</td>\n",
       "      <td>A</td>\n",
       "      <td>2</td>\n",
       "      <td>0</td>\n",
       "      <td>12</td>\n",
       "      <td>14.0</td>\n",
       "      <td>0.0</td>\n",
       "      <td>1057</td>\n",
       "      <td>0</td>\n",
       "      <td>0</td>\n",
       "      <td>0</td>\n",
       "      <td>2</td>\n",
       "    </tr>\n",
       "    <tr>\n",
       "      <th>4</th>\n",
       "      <td>1000002</td>\n",
       "      <td>P00285442</td>\n",
       "      <td>M</td>\n",
       "      <td>55+</td>\n",
       "      <td>16</td>\n",
       "      <td>C</td>\n",
       "      <td>4+</td>\n",
       "      <td>0</td>\n",
       "      <td>8</td>\n",
       "      <td>0.0</td>\n",
       "      <td>0.0</td>\n",
       "      <td>7969</td>\n",
       "      <td>1</td>\n",
       "      <td>6</td>\n",
       "      <td>2</td>\n",
       "      <td>4</td>\n",
       "    </tr>\n",
       "  </tbody>\n",
       "</table>\n",
       "</div>"
      ],
      "text/plain": [
       "   User_ID Product_ID Gender   Age  Occupation City_Category  \\\n",
       "0  1000001  P00069042      F  0-17          10             A   \n",
       "1  1000001  P00248942      F  0-17          10             A   \n",
       "2  1000001  P00087842      F  0-17          10             A   \n",
       "3  1000001  P00085442      F  0-17          10             A   \n",
       "4  1000002  P00285442      M   55+          16             C   \n",
       "\n",
       "  Stay_In_Current_City_Years  Marital_Status  Product_Category_1  \\\n",
       "0                          2               0                   3   \n",
       "1                          2               0                   1   \n",
       "2                          2               0                  12   \n",
       "3                          2               0                  12   \n",
       "4                         4+               0                   8   \n",
       "\n",
       "   Product_Category_2  Product_Category_3  Purchase  Gender_Num Age_Num  \\\n",
       "0                 0.0                 0.0      8370           0       0   \n",
       "1                 6.0                14.0     15200           0       0   \n",
       "2                 0.0                 0.0      1422           0       0   \n",
       "3                14.0                 0.0      1057           0       0   \n",
       "4                 0.0                 0.0      7969           1       6   \n",
       "\n",
       "  City_Category_Num Stay_In_Years_Num  \n",
       "0                 0                 2  \n",
       "1                 0                 2  \n",
       "2                 0                 2  \n",
       "3                 0                 2  \n",
       "4                 2                 4  "
      ]
     },
     "execution_count": 12,
     "metadata": {},
     "output_type": "execute_result"
    }
   ],
   "source": [
    "data.head()"
   ]
  },
  {
   "cell_type": "code",
   "execution_count": 13,
   "metadata": {},
   "outputs": [],
   "source": [
    "# as you can see, ID's are repeated on multiple lines in the data, which can affect results\n",
    "# we are going to make a copy of the data by having each ID in the new table be unique, \n",
    "# while accumulating the total purchase amount in dollars. \n",
    "# In order to do this we must drop some columns, but rest assured the original data set will not be altered\n",
    "aggregation_functions = {'Gender': 'first', \\\n",
    "                         'Age': 'first', \\\n",
    "                         'Occupation': 'first', \\\n",
    "                         'City_Category': 'first', \\\n",
    "                         'Stay_In_Current_City_Years': 'first', \\\n",
    "                         'Marital_Status': 'first',\n",
    "                         'Purchase': 'sum'}\n",
    "\n",
    "data_unique = data.groupby(data['User_ID']).aggregate(aggregation_functions)"
   ]
  },
  {
   "cell_type": "code",
   "execution_count": 14,
   "metadata": {},
   "outputs": [
    {
     "data": {
      "text/html": [
       "<div>\n",
       "<style scoped>\n",
       "    .dataframe tbody tr th:only-of-type {\n",
       "        vertical-align: middle;\n",
       "    }\n",
       "\n",
       "    .dataframe tbody tr th {\n",
       "        vertical-align: top;\n",
       "    }\n",
       "\n",
       "    .dataframe thead th {\n",
       "        text-align: right;\n",
       "    }\n",
       "</style>\n",
       "<table border=\"1\" class=\"dataframe\">\n",
       "  <thead>\n",
       "    <tr style=\"text-align: right;\">\n",
       "      <th></th>\n",
       "      <th>Gender</th>\n",
       "      <th>Age</th>\n",
       "      <th>Occupation</th>\n",
       "      <th>City_Category</th>\n",
       "      <th>Stay_In_Current_City_Years</th>\n",
       "      <th>Marital_Status</th>\n",
       "      <th>Purchase</th>\n",
       "    </tr>\n",
       "    <tr>\n",
       "      <th>User_ID</th>\n",
       "      <th></th>\n",
       "      <th></th>\n",
       "      <th></th>\n",
       "      <th></th>\n",
       "      <th></th>\n",
       "      <th></th>\n",
       "      <th></th>\n",
       "    </tr>\n",
       "  </thead>\n",
       "  <tbody>\n",
       "    <tr>\n",
       "      <th>1000001</th>\n",
       "      <td>F</td>\n",
       "      <td>0-17</td>\n",
       "      <td>10</td>\n",
       "      <td>A</td>\n",
       "      <td>2</td>\n",
       "      <td>0</td>\n",
       "      <td>333481</td>\n",
       "    </tr>\n",
       "    <tr>\n",
       "      <th>1000002</th>\n",
       "      <td>M</td>\n",
       "      <td>55+</td>\n",
       "      <td>16</td>\n",
       "      <td>C</td>\n",
       "      <td>4+</td>\n",
       "      <td>0</td>\n",
       "      <td>810353</td>\n",
       "    </tr>\n",
       "    <tr>\n",
       "      <th>1000003</th>\n",
       "      <td>M</td>\n",
       "      <td>26-35</td>\n",
       "      <td>15</td>\n",
       "      <td>A</td>\n",
       "      <td>3</td>\n",
       "      <td>0</td>\n",
       "      <td>341635</td>\n",
       "    </tr>\n",
       "    <tr>\n",
       "      <th>1000004</th>\n",
       "      <td>M</td>\n",
       "      <td>46-50</td>\n",
       "      <td>7</td>\n",
       "      <td>B</td>\n",
       "      <td>2</td>\n",
       "      <td>1</td>\n",
       "      <td>205987</td>\n",
       "    </tr>\n",
       "    <tr>\n",
       "      <th>1000005</th>\n",
       "      <td>M</td>\n",
       "      <td>26-35</td>\n",
       "      <td>20</td>\n",
       "      <td>A</td>\n",
       "      <td>1</td>\n",
       "      <td>1</td>\n",
       "      <td>821001</td>\n",
       "    </tr>\n",
       "  </tbody>\n",
       "</table>\n",
       "</div>"
      ],
      "text/plain": [
       "        Gender    Age  Occupation City_Category Stay_In_Current_City_Years  \\\n",
       "User_ID                                                                      \n",
       "1000001      F   0-17          10             A                          2   \n",
       "1000002      M    55+          16             C                         4+   \n",
       "1000003      M  26-35          15             A                          3   \n",
       "1000004      M  46-50           7             B                          2   \n",
       "1000005      M  26-35          20             A                          1   \n",
       "\n",
       "         Marital_Status  Purchase  \n",
       "User_ID                            \n",
       "1000001               0    333481  \n",
       "1000002               0    810353  \n",
       "1000003               0    341635  \n",
       "1000004               1    205987  \n",
       "1000005               1    821001  "
      ]
     },
     "execution_count": 14,
     "metadata": {},
     "output_type": "execute_result"
    }
   ],
   "source": [
    "data_unique.head()"
   ]
  },
  {
   "cell_type": "code",
   "execution_count": 15,
   "metadata": {},
   "outputs": [
    {
     "data": {
      "text/plain": [
       "(5891, 7)"
      ]
     },
     "execution_count": 15,
     "metadata": {},
     "output_type": "execute_result"
    }
   ],
   "source": [
    "# there are 5,891 different customers in the data set\n",
    "data_unique.shape"
   ]
  },
  {
   "cell_type": "code",
   "execution_count": 16,
   "metadata": {},
   "outputs": [
    {
     "data": {
      "text/plain": [
       "<matplotlib.axes._subplots.AxesSubplot at 0x1a21423320>"
      ]
     },
     "execution_count": 16,
     "metadata": {},
     "output_type": "execute_result"
    },
    {
     "data": {
      "image/png": "[encoded data removed]",
      "text/plain": [
       "<matplotlib.figure.Figure at 0x10ea45780>"
      ]
     },
     "metadata": {},
     "output_type": "display_data"
    }
   ],
   "source": [
    "# Check for outliers in the purchase columns\n",
    "data.boxplot(column=['Purchase'], grid=True)"
   ]
  },
  {
   "cell_type": "code",
   "execution_count": 17,
   "metadata": {},
   "outputs": [],
   "source": [
    "# there seems to be a few upper outliers, but no lower outliers"
   ]
  },
  {
   "cell_type": "code",
   "execution_count": 18,
   "metadata": {},
   "outputs": [
    {
     "data": {
      "text/plain": [
       "(array([ 32175.,  57237., 130109., 104444.,  79179.,  24980.,  63928.,\n",
       "         13437.,  29772.,   2316.]),\n",
       " array([  185. ,  2562.6,  4940.2,  7317.8,  9695.4, 12073. , 14450.6,\n",
       "        16828.2, 19205.8, 21583.4, 23961. ]),\n",
       " <a list of 10 Patch objects>)"
      ]
     },
     "execution_count": 18,
     "metadata": {},
     "output_type": "execute_result"
    },
    {
     "data": {
      "image/png": "[encoded data removed]",
      "text/plain": [
       "<matplotlib.figure.Figure at 0x1a214482e8>"
      ]
     },
     "metadata": {},
     "output_type": "display_data"
    }
   ],
   "source": [
    "# TASK 04: EXPLORATORY DATA ANALYSIS\n",
    "# plot a histogram of the purchase data to check for normality\n",
    "plt.hist(data['Purchase'], color = 'blue', edgecolor = 'black')"
   ]
  },
  {
   "cell_type": "code",
   "execution_count": 19,
   "metadata": {},
   "outputs": [],
   "source": [
    "# the histogram seems to be somewhat rightly skewed"
   ]
  },
  {
   "cell_type": "code",
   "execution_count": 20,
   "metadata": {},
   "outputs": [],
   "source": [
    "# calculate descriptive statistics for each customer\n",
    "cumulative = np.array(data_unique['Purchase'])\n",
    "mean     = np.mean(cumulative)\n",
    "stdDev   = np.std(cumulative)\n",
    "median   = np.median(cumulative)\n",
    "mode     = stats.mode(cumulative)\n",
    "minVal   = cumulative.min()\n",
    "maxVal   = cumulative.max()\n",
    "rangeVal = maxVal - minVal\n",
    "firstQ   = np.percentile(cumulative, 25)\n",
    "thirdQ   = np.percentile(cumulative, 75)\n",
    "tenthQ   = np.percentile(cumulative, 10)"
   ]
  },
  {
   "cell_type": "code",
   "execution_count": 21,
   "metadata": {},
   "outputs": [
    {
     "name": "stdout",
     "output_type": "stream",
     "text": [
      "MEAN:   851751.5494822611\n",
      "STD:    932918.6210067784\n",
      "MEDIAN: 512612.0\n",
      "MODE:   ModeResult(mode=array([92888]), count=array([2]))\n",
      "MIN:    44108\n",
      "MAX:    10536783\n",
      "RANGE:  10492675\n",
      "25%:    234914.0\n",
      "75%:    1099005.0\n",
      "10%:    143530.0\n"
     ]
    }
   ],
   "source": [
    "# display the statistics calculated\n",
    "print(\"MEAN:   \" + str(mean))\n",
    "print(\"STD:    \" + str(stdDev))\n",
    "print(\"MEDIAN: \" + str(median))\n",
    "print(\"MODE:   \" + str(mode))\n",
    "print(\"MIN:    \" + str(minVal))\n",
    "print(\"MAX:    \" + str(maxVal))\n",
    "print(\"RANGE:  \" + str(rangeVal))\n",
    "print(\"25%:    \" + str(firstQ))\n",
    "print(\"75%:    \" + str(thirdQ))\n",
    "print(\"10%:    \" + str(tenthQ))"
   ]
  },
  {
   "cell_type": "code",
   "execution_count": 22,
   "metadata": {},
   "outputs": [],
   "source": [
    "# The maximum overall total any one customer purchased was $10,536,783\n",
    "# The minimum overall total any one customer purchased was $44,108\n",
    "# The mean is within one standard deviation of the median, which seems to imply normality amongst customers"
   ]
  },
  {
   "cell_type": "code",
   "execution_count": 23,
   "metadata": {},
   "outputs": [],
   "source": [
    "# figure out what the categories for age are\n",
    "age_categories = data_unique.Age.unique()"
   ]
  },
  {
   "cell_type": "code",
   "execution_count": 24,
   "metadata": {},
   "outputs": [
    {
     "data": {
      "text/plain": [
       "array(['0-17', '55+', '26-35', '46-50', '51-55', '36-45', '18-25'],\n",
       "      dtype=object)"
      ]
     },
     "execution_count": 24,
     "metadata": {},
     "output_type": "execute_result"
    }
   ],
   "source": [
    "age_categories"
   ]
  },
  {
   "cell_type": "code",
   "execution_count": 25,
   "metadata": {},
   "outputs": [],
   "source": [
    "age_distribution = data_unique.groupby('Age').size()"
   ]
  },
  {
   "cell_type": "code",
   "execution_count": 26,
   "metadata": {},
   "outputs": [
    {
     "data": {
      "text/plain": [
       "Age\n",
       "0-17      218\n",
       "18-25    1069\n",
       "26-35    2053\n",
       "36-45    1167\n",
       "46-50     531\n",
       "51-55     481\n",
       "55+       372\n",
       "dtype: int64"
      ]
     },
     "execution_count": 26,
     "metadata": {},
     "output_type": "execute_result"
    }
   ],
   "source": [
    "age_distribution"
   ]
  },
  {
   "cell_type": "code",
   "execution_count": 27,
   "metadata": {},
   "outputs": [
    {
     "data": {
      "image/png": "[encoded data removed]",
      "text/plain": [
       "<matplotlib.figure.Figure at 0x1a2250ec50>"
      ]
     },
     "metadata": {},
     "output_type": "display_data"
    }
   ],
   "source": [
    "# pie chart displaying age of all customers\n",
    "df = pd.DataFrame({'Age': age_distribution}, index=age_categories)\n",
    "plot = df.plot.pie(y='Age', figsize=(8, 8))"
   ]
  },
  {
   "cell_type": "code",
   "execution_count": 28,
   "metadata": {},
   "outputs": [
    {
     "data": {
      "image/png": "[encoded data removed]",
      "text/plain": [
       "<matplotlib.figure.Figure at 0x1a200ade10>"
      ]
     },
     "metadata": {},
     "output_type": "display_data"
    }
   ],
   "source": [
    "# bar graph displaying age of all customers\n",
    "df = pd.DataFrame({'Age': age_distribution}, index=age_categories)\n",
    "ax = df.plot.bar(rot=0)"
   ]
  },
  {
   "cell_type": "code",
   "execution_count": 29,
   "metadata": {},
   "outputs": [],
   "source": [
    "# The highest demographic age of customers at this particular retail store is the 26-35 years range, with 2,053.\n",
    "# The lowest demographic age of customers at this particular retail store is the 0-17 years range, with 218."
   ]
  },
  {
   "cell_type": "code",
   "execution_count": 30,
   "metadata": {},
   "outputs": [],
   "source": [
    "gender_distribution =  data_unique.groupby('Gender').size()"
   ]
  },
  {
   "cell_type": "code",
   "execution_count": 31,
   "metadata": {},
   "outputs": [
    {
     "data": {
      "image/png": "[encoded data removed]",
      "text/plain": [
       "<matplotlib.figure.Figure at 0x1a225a7518>"
      ]
     },
     "metadata": {},
     "output_type": "display_data"
    }
   ],
   "source": [
    "# pie chart displaying age of all customers\n",
    "df = pd.DataFrame({'Gender': gender_distribution}, index=['M', 'F'])\n",
    "plot = df.plot.pie(y='Gender', figsize=(8, 8))"
   ]
  },
  {
   "cell_type": "code",
   "execution_count": 32,
   "metadata": {},
   "outputs": [],
   "source": [
    "# The data shows that the majority of the retail stores customers are men"
   ]
  },
  {
   "cell_type": "code",
   "execution_count": 33,
   "metadata": {},
   "outputs": [],
   "source": [
    "# analyze the relationship between marital status and gender\n",
    "male = data_unique[data_unique['Gender'] == 'M']\n",
    "\n",
    "maleMarried = male[male['Marital_Status'] == 1]\n",
    "maleNotMarried = male[male['Marital_Status'] == 0]\n",
    "\n",
    "\n",
    "female = data_unique[data_unique['Gender'] == 'F']\n",
    "\n",
    "femaleMarried = female[female['Marital_Status'] == 1]\n",
    "femaleNotMarried = female[female['Marital_Status'] == 0]"
   ]
  },
  {
   "cell_type": "code",
   "execution_count": 34,
   "metadata": {},
   "outputs": [
    {
     "data": {
      "text/plain": [
       "<Container object of 4 artists>"
      ]
     },
     "execution_count": 34,
     "metadata": {},
     "output_type": "execute_result"
    },
    {
     "data": {
      "image/png": "[encoded data removed]",
      "text/plain": [
       "<matplotlib.figure.Figure at 0x1a22656b00>"
      ]
     },
     "metadata": {},
     "output_type": "display_data"
    }
   ],
   "source": [
    "x = ['M Married', 'M Not Married', 'F Married', 'F Not Married']\n",
    "y = [maleMarried['Gender'].count(), \\\n",
    "     maleNotMarried['Gender'].count(), \\\n",
    "     femaleMarried['Gender'].count(), \\\n",
    "     femaleNotMarried['Gender'].count()]\n",
    "ax = plt.subplot(111)\n",
    "ax.bar(x, y, width=0.5,color='b',align='center')"
   ]
  },
  {
   "cell_type": "code",
   "execution_count": 35,
   "metadata": {},
   "outputs": [],
   "source": [
    "# More non-married customers of each gender frequently visit the retail store than married of that gender customers do"
   ]
  },
  {
   "cell_type": "code",
   "execution_count": 36,
   "metadata": {},
   "outputs": [
    {
     "data": {
      "image/png": "[encoded data removed]",
      "text/plain": [
       "<matplotlib.figure.Figure at 0x1a2270e668>"
      ]
     },
     "metadata": {},
     "output_type": "display_data"
    }
   ],
   "source": [
    "# Group each product category sales compared to the gender of the customer\n",
    "index = ['Category 1', 'Category 2', 'Category C']\n",
    "\n",
    "maleCat = [data[data['Gender'] == 'M']['Product_Category_1'].sum(), \\\n",
    "           data[data['Gender'] == 'M']['Product_Category_2'].sum(), \\\n",
    "           data[data['Gender'] == 'M']['Product_Category_3'].sum()]\n",
    "\n",
    "femaleCat = [data[data['Gender'] == 'F']['Product_Category_1'].sum(), \\\n",
    "             data[data['Gender'] == 'F']['Product_Category_2'].sum(), \\\n",
    "             data[data['Gender'] == 'F']['Product_Category_3'].sum()]\n",
    "\n",
    "df = pd.DataFrame({'Male': maleCat, 'Female': femaleCat}, index=index)\n",
    "ax = df.plot.bar(rot=0)"
   ]
  },
  {
   "cell_type": "code",
   "execution_count": 37,
   "metadata": {},
   "outputs": [],
   "source": [
    "# It seems that men buy much more of each product than women do"
   ]
  },
  {
   "cell_type": "code",
   "execution_count": 38,
   "metadata": {},
   "outputs": [
    {
     "data": {
      "text/plain": [
       "Product_ID\n",
       "P00091742         405\n",
       "P00309042         726\n",
       "P00353042        1545\n",
       "P00325342        1656\n",
       "P00012942        1717\n",
       "P00287042        1739\n",
       "P00104042        1745\n",
       "P00357542        1791\n",
       "P00063442        1866\n",
       "P00293442        1914\n",
       "P00107442        1924\n",
       "P00300742        1958\n",
       "P00069742        1977\n",
       "P00203242        2009\n",
       "P00013842        2021\n",
       "P00107842        2050\n",
       "P00172642        2069\n",
       "P00077542        2096\n",
       "P00203742        2103\n",
       "P00012342        2118\n",
       "P00338242        2123\n",
       "P00065942        2139\n",
       "P00107942        2161\n",
       "P00365942        2177\n",
       "P00299042        2183\n",
       "P00169842        2223\n",
       "P00106342        2229\n",
       "P00298342        2233\n",
       "P00083542        2248\n",
       "P00059342        2256\n",
       "               ...   \n",
       "P0097242     14249873\n",
       "P00120042    14254199\n",
       "P00128942    14603678\n",
       "P00113242    15494499\n",
       "P00112442    15632165\n",
       "P00242742    16065026\n",
       "P00111142    16140243\n",
       "P00270942    16363769\n",
       "P00334242    17230484\n",
       "P00044442    17441510\n",
       "P00005042    17486938\n",
       "P00112542    17847524\n",
       "P00114942    18942450\n",
       "P00052842    19492434\n",
       "P00145042    20089014\n",
       "P00148642    20381950\n",
       "P00028842    20634646\n",
       "P00080342    20842960\n",
       "P00046742    20869698\n",
       "P00110842    21023004\n",
       "P00010742    21865042\n",
       "P00057642    22493690\n",
       "P00237542    23096487\n",
       "P00110942    23232538\n",
       "P00112142    23882624\n",
       "P00059442    23948299\n",
       "P00184942    24060871\n",
       "P00255842    24652442\n",
       "P00110742    26382569\n",
       "P00025442    27532426\n",
       "Name: Purchase, Length: 3623, dtype: int64"
      ]
     },
     "execution_count": 38,
     "metadata": {},
     "output_type": "execute_result"
    }
   ],
   "source": [
    "# Total amount of money spent on each product\n",
    "# The highest selling product was P00025442 which sold $27,532,426.\n",
    "# The lowest selling product was P00091742 which sold $405\n",
    "products = data.groupby('Product_ID')\n",
    "display_p = products['Purchase'].agg(np.sum)\n",
    "display_p.sort_values(ascending = True)"
   ]
  },
  {
   "cell_type": "code",
   "execution_count": 39,
   "metadata": {},
   "outputs": [],
   "source": [
    "years_in_city = data_unique.Stay_In_Current_City_Years.unique()"
   ]
  },
  {
   "cell_type": "code",
   "execution_count": 40,
   "metadata": {},
   "outputs": [
    {
     "data": {
      "text/plain": [
       "array(['2', '4+', '3', '1', '0'], dtype=object)"
      ]
     },
     "execution_count": 40,
     "metadata": {},
     "output_type": "execute_result"
    }
   ],
   "source": [
    "#find categories for number of years staying in current city\n",
    "years_in_city"
   ]
  },
  {
   "cell_type": "code",
   "execution_count": 41,
   "metadata": {},
   "outputs": [],
   "source": [
    "current_city_distribution = data_unique.groupby('Stay_In_Current_City_Years').size()"
   ]
  },
  {
   "cell_type": "code",
   "execution_count": 42,
   "metadata": {},
   "outputs": [
    {
     "data": {
      "text/plain": [
       "Stay_In_Current_City_Years\n",
       "0      772\n",
       "1     2086\n",
       "2     1145\n",
       "3      979\n",
       "4+     909\n",
       "dtype: int64"
      ]
     },
     "execution_count": 42,
     "metadata": {},
     "output_type": "execute_result"
    }
   ],
   "source": [
    "current_city_distribution"
   ]
  },
  {
   "cell_type": "code",
   "execution_count": 43,
   "metadata": {},
   "outputs": [
    {
     "data": {
      "image/png": "[encoded data removed]",
      "text/plain": [
       "<matplotlib.figure.Figure at 0x1a227a7ac8>"
      ]
     },
     "metadata": {},
     "output_type": "display_data"
    }
   ],
   "source": [
    "# pie chart displaying Stay_In_Current_City_Years of all customers\n",
    "df = pd.DataFrame({'Stay_In_Current_City_Years': current_city_distribution}, index=years_in_city)\n",
    "plot = df.plot.pie(y='Stay_In_Current_City_Years', figsize=(8, 8))"
   ]
  },
  {
   "cell_type": "code",
   "execution_count": 44,
   "metadata": {},
   "outputs": [
    {
     "data": {
      "image/png": "[encoded data removed]",
      "text/plain": [
       "<matplotlib.figure.Figure at 0x1a227bad30>"
      ]
     },
     "metadata": {},
     "output_type": "display_data"
    }
   ],
   "source": [
    "# bar graph displaying year stayed in the current city of all customers\n",
    "df = pd.DataFrame({'Stay_In_Current_City_Years': current_city_distribution}, index=years_in_city)\n",
    "ax = df.plot.bar(rot=0)"
   ]
  },
  {
   "cell_type": "code",
   "execution_count": 45,
   "metadata": {},
   "outputs": [],
   "source": [
    "# The highest number of customers have lived in their current city for 1 year, with 2086.\n",
    "# The lowest number of customers have lived in their current city for less than a year, with 772."
   ]
  },
  {
   "cell_type": "code",
   "execution_count": 46,
   "metadata": {},
   "outputs": [],
   "source": [
    "# sort the customers based on how long they've lived in their current city\n",
    "zero = data_unique[data_unique['Stay_In_Current_City_Years'] == '0']\n",
    "one = data_unique[data_unique['Stay_In_Current_City_Years'] == '1']\n",
    "two = data_unique[data_unique['Stay_In_Current_City_Years'] == '2']\n",
    "three = data_unique[data_unique['Stay_In_Current_City_Years'] == '3']\n",
    "fourPlus = data_unique[data_unique['Stay_In_Current_City_Years'] == '4+']"
   ]
  },
  {
   "cell_type": "code",
   "execution_count": 47,
   "metadata": {},
   "outputs": [
    {
     "data": {
      "text/plain": [
       "<Container object of 5 artists>"
      ]
     },
     "execution_count": 47,
     "metadata": {},
     "output_type": "execute_result"
    },
    {
     "data": {
      "image/png": "[encoded data removed]",
      "text/plain": [
       "<matplotlib.figure.Figure at 0x1a226e0710>"
      ]
     },
     "metadata": {},
     "output_type": "display_data"
    }
   ],
   "source": [
    "# calculate the total amount of purchases in dollars for each year, and graph the data\n",
    "x = ['0', '1', '2', '3', '4+']\n",
    "y = [zero['Purchase'].sum(), \\\n",
    "     one['Purchase'].sum(), \\\n",
    "     two['Purchase'].sum(), \\\n",
    "     three['Purchase'].sum(), \\\n",
    "     fourPlus['Purchase'].sum()]\n",
    "ax = plt.subplot(111)\n",
    "ax.bar(x, y, width=0.5,color='b',align='center')"
   ]
  },
  {
   "cell_type": "code",
   "execution_count": 48,
   "metadata": {},
   "outputs": [],
   "source": [
    "# The data shows that residents who have lived in his/her current city for only a year spent the most.\n",
    "# After living in the city for a year, residents have spent less and less each year.\n",
    "# Residents who have lived in his/her city for less than a year spent the least amount of money"
   ]
  },
  {
   "cell_type": "code",
   "execution_count": 49,
   "metadata": {},
   "outputs": [],
   "source": [
    "city_categories = data_unique.City_Category.unique()"
   ]
  },
  {
   "cell_type": "code",
   "execution_count": 50,
   "metadata": {},
   "outputs": [
    {
     "data": {
      "text/plain": [
       "array(['A', 'C', 'B'], dtype=object)"
      ]
     },
     "execution_count": 50,
     "metadata": {},
     "output_type": "execute_result"
    }
   ],
   "source": [
    "city_categories"
   ]
  },
  {
   "cell_type": "code",
   "execution_count": 51,
   "metadata": {},
   "outputs": [],
   "source": [
    "# sort the customers based on what city category they live in\n",
    "a = data_unique[data_unique['City_Category'] == 'A']\n",
    "b = data_unique[data_unique['City_Category'] == 'B']\n",
    "c = data_unique[data_unique['City_Category'] == 'C']"
   ]
  },
  {
   "cell_type": "code",
   "execution_count": 52,
   "metadata": {},
   "outputs": [
    {
     "data": {
      "text/plain": [
       "<Container object of 3 artists>"
      ]
     },
     "execution_count": 52,
     "metadata": {},
     "output_type": "execute_result"
    },
    {
     "data": {
      "image/png": "[encoded data removed]",
      "text/plain": [
       "<matplotlib.figure.Figure at 0x1a22608240>"
      ]
     },
     "metadata": {},
     "output_type": "display_data"
    }
   ],
   "source": [
    "# calculate the total amount of residents who live in each city category\n",
    "x = ['Category A', 'Category B', 'Category C']\n",
    "y = [a['Gender'].count(), \\\n",
    "     b['Gender'].count(), \\\n",
    "     c['Gender'].count()]\n",
    "ax = plt.subplot(111)\n",
    "ax.bar(x, y, width=0.5,color='b',align='center')"
   ]
  },
  {
   "cell_type": "code",
   "execution_count": 53,
   "metadata": {},
   "outputs": [],
   "source": [
    "# The most amount of customers live in city category C\n",
    "# The least amount of customers live in city category A"
   ]
  },
  {
   "cell_type": "code",
   "execution_count": 54,
   "metadata": {},
   "outputs": [
    {
     "data": {
      "text/plain": [
       "<Container object of 3 artists>"
      ]
     },
     "execution_count": 54,
     "metadata": {},
     "output_type": "execute_result"
    },
    {
     "data": {
      "image/png": "[encoded data removed]",
      "text/plain": [
       "<matplotlib.figure.Figure at 0x1a2252ee48>"
      ]
     },
     "metadata": {},
     "output_type": "display_data"
    }
   ],
   "source": [
    "# calculate the total amount of sales of each product category\n",
    "x = ['Category 1', 'Category 2', 'Category C']\n",
    "y = [data['Product_Category_1'].sum(), \\\n",
    "     data['Product_Category_2'].sum(), \\\n",
    "     data['Product_Category_3'].sum()]\n",
    "ax = plt.subplot(111)\n",
    "ax.bar(x, y, width=0.5,color='b',align='center')"
   ]
  },
  {
   "cell_type": "code",
   "execution_count": 55,
   "metadata": {},
   "outputs": [],
   "source": [
    "# The product category that sells the most amount of units is product category 2\n",
    "# The product category that sells the least amount of units is product category 3"
   ]
  },
  {
   "cell_type": "code",
   "execution_count": 56,
   "metadata": {},
   "outputs": [],
   "source": [
    "# TASK 05: DATA MODELING\n",
    "# partition dataset into training, validation, and test sets using holdout method\n",
    "# Response Variable: Purchase amount\n",
    "X_train, X_test, Y_train, Y_test = train_test_split(data[['Gender_Num', \\\n",
    "                                                          'Age_Num', \\\n",
    "                                                          'Occupation', \\\n",
    "                                                          'City_Category_Num', \\\n",
    "                                                          'Stay_In_Years_Num', \\\n",
    "                                                          'Marital_Status', \\\n",
    "                                                          'Product_Category_1', \\\n",
    "                                                          'Product_Category_2', \\\n",
    "                                                          'Product_Category_3']], \\\n",
    "                                                data['Purchase'], test_size = 0.25, random_state = 0)\n",
    "X_train, X_val, Y_train, Y_val = train_test_split(X_train, Y_train, test_size = 0.25, random_state = 0)"
   ]
  },
  {
   "cell_type": "code",
   "execution_count": 57,
   "metadata": {},
   "outputs": [],
   "source": [
    "# Standardize the data\n",
    "scaler = StandardScaler()\n",
    "scaler.fit(X_train)\n",
    "X_train_scaled = scaler.transform(X_train) \n",
    "X_test_scaled = scaler.transform(X_test)"
   ]
  },
  {
   "cell_type": "code",
   "execution_count": 58,
   "metadata": {},
   "outputs": [
    {
     "data": {
      "text/html": [
       "<div>\n",
       "<style scoped>\n",
       "    .dataframe tbody tr th:only-of-type {\n",
       "        vertical-align: middle;\n",
       "    }\n",
       "\n",
       "    .dataframe tbody tr th {\n",
       "        vertical-align: top;\n",
       "    }\n",
       "\n",
       "    .dataframe thead th {\n",
       "        text-align: right;\n",
       "    }\n",
       "</style>\n",
       "<table border=\"1\" class=\"dataframe\">\n",
       "  <thead>\n",
       "    <tr style=\"text-align: right;\">\n",
       "      <th></th>\n",
       "      <th>User_ID</th>\n",
       "      <th>Product_ID</th>\n",
       "      <th>Gender</th>\n",
       "      <th>Age</th>\n",
       "      <th>Occupation</th>\n",
       "      <th>City_Category</th>\n",
       "      <th>Stay_In_Current_City_Years</th>\n",
       "      <th>Marital_Status</th>\n",
       "      <th>Product_Category_1</th>\n",
       "      <th>Product_Category_2</th>\n",
       "      <th>Product_Category_3</th>\n",
       "      <th>Purchase</th>\n",
       "      <th>Gender_Num</th>\n",
       "      <th>Age_Num</th>\n",
       "      <th>City_Category_Num</th>\n",
       "      <th>Stay_In_Years_Num</th>\n",
       "    </tr>\n",
       "  </thead>\n",
       "  <tbody>\n",
       "    <tr>\n",
       "      <th>0</th>\n",
       "      <td>1000001</td>\n",
       "      <td>P00069042</td>\n",
       "      <td>F</td>\n",
       "      <td>0-17</td>\n",
       "      <td>10</td>\n",
       "      <td>A</td>\n",
       "      <td>2</td>\n",
       "      <td>0</td>\n",
       "      <td>3</td>\n",
       "      <td>0.0</td>\n",
       "      <td>0.0</td>\n",
       "      <td>8370</td>\n",
       "      <td>0</td>\n",
       "      <td>0</td>\n",
       "      <td>0</td>\n",
       "      <td>2</td>\n",
       "    </tr>\n",
       "    <tr>\n",
       "      <th>1</th>\n",
       "      <td>1000001</td>\n",
       "      <td>P00248942</td>\n",
       "      <td>F</td>\n",
       "      <td>0-17</td>\n",
       "      <td>10</td>\n",
       "      <td>A</td>\n",
       "      <td>2</td>\n",
       "      <td>0</td>\n",
       "      <td>1</td>\n",
       "      <td>6.0</td>\n",
       "      <td>14.0</td>\n",
       "      <td>15200</td>\n",
       "      <td>0</td>\n",
       "      <td>0</td>\n",
       "      <td>0</td>\n",
       "      <td>2</td>\n",
       "    </tr>\n",
       "    <tr>\n",
       "      <th>2</th>\n",
       "      <td>1000001</td>\n",
       "      <td>P00087842</td>\n",
       "      <td>F</td>\n",
       "      <td>0-17</td>\n",
       "      <td>10</td>\n",
       "      <td>A</td>\n",
       "      <td>2</td>\n",
       "      <td>0</td>\n",
       "      <td>12</td>\n",
       "      <td>0.0</td>\n",
       "      <td>0.0</td>\n",
       "      <td>1422</td>\n",
       "      <td>0</td>\n",
       "      <td>0</td>\n",
       "      <td>0</td>\n",
       "      <td>2</td>\n",
       "    </tr>\n",
       "    <tr>\n",
       "      <th>3</th>\n",
       "      <td>1000001</td>\n",
       "      <td>P00085442</td>\n",
       "      <td>F</td>\n",
       "      <td>0-17</td>\n",
       "      <td>10</td>\n",
       "      <td>A</td>\n",
       "      <td>2</td>\n",
       "      <td>0</td>\n",
       "      <td>12</td>\n",
       "      <td>14.0</td>\n",
       "      <td>0.0</td>\n",
       "      <td>1057</td>\n",
       "      <td>0</td>\n",
       "      <td>0</td>\n",
       "      <td>0</td>\n",
       "      <td>2</td>\n",
       "    </tr>\n",
       "    <tr>\n",
       "      <th>4</th>\n",
       "      <td>1000002</td>\n",
       "      <td>P00285442</td>\n",
       "      <td>M</td>\n",
       "      <td>55+</td>\n",
       "      <td>16</td>\n",
       "      <td>C</td>\n",
       "      <td>4+</td>\n",
       "      <td>0</td>\n",
       "      <td>8</td>\n",
       "      <td>0.0</td>\n",
       "      <td>0.0</td>\n",
       "      <td>7969</td>\n",
       "      <td>1</td>\n",
       "      <td>6</td>\n",
       "      <td>2</td>\n",
       "      <td>4</td>\n",
       "    </tr>\n",
       "  </tbody>\n",
       "</table>\n",
       "</div>"
      ],
      "text/plain": [
       "   User_ID Product_ID Gender   Age  Occupation City_Category  \\\n",
       "0  1000001  P00069042      F  0-17          10             A   \n",
       "1  1000001  P00248942      F  0-17          10             A   \n",
       "2  1000001  P00087842      F  0-17          10             A   \n",
       "3  1000001  P00085442      F  0-17          10             A   \n",
       "4  1000002  P00285442      M   55+          16             C   \n",
       "\n",
       "  Stay_In_Current_City_Years  Marital_Status  Product_Category_1  \\\n",
       "0                          2               0                   3   \n",
       "1                          2               0                   1   \n",
       "2                          2               0                  12   \n",
       "3                          2               0                  12   \n",
       "4                         4+               0                   8   \n",
       "\n",
       "   Product_Category_2  Product_Category_3  Purchase  Gender_Num Age_Num  \\\n",
       "0                 0.0                 0.0      8370           0       0   \n",
       "1                 6.0                14.0     15200           0       0   \n",
       "2                 0.0                 0.0      1422           0       0   \n",
       "3                14.0                 0.0      1057           0       0   \n",
       "4                 0.0                 0.0      7969           1       6   \n",
       "\n",
       "  City_Category_Num Stay_In_Years_Num  \n",
       "0                 0                 2  \n",
       "1                 0                 2  \n",
       "2                 0                 2  \n",
       "3                 0                 2  \n",
       "4                 2                 4  "
      ]
     },
     "execution_count": 58,
     "metadata": {},
     "output_type": "execute_result"
    }
   ],
   "source": [
    "data.head()"
   ]
  },
  {
   "cell_type": "code",
   "execution_count": 59,
   "metadata": {},
   "outputs": [
    {
     "name": "stdout",
     "output_type": "stream",
     "text": [
      "[0.0034917267707089694, 0.003529674815596184, 0.00392916092846618]\n"
     ]
    }
   ],
   "source": [
    "# simple linear regression for gender predicting purchase\n",
    "model = linear_model.LinearRegression().fit(X = X_train[['Gender_Num']], y = Y_train)\n",
    "score_train = model.score(X = X_train[['Gender_Num']], y = Y_train) # R squared (training)\n",
    "score_val = model.score(X = X_val[['Gender_Num']], y = Y_val) # R squared (validation)\n",
    "score_test = model.score(X = X_test[['Gender_Num']], y = Y_test) # R squared (test)\n",
    "print([score_train, score_val, score_test])"
   ]
  },
  {
   "cell_type": "code",
   "execution_count": 60,
   "metadata": {},
   "outputs": [
    {
     "name": "stdout",
     "output_type": "stream",
     "text": [
      "[0.0049192498352463865, 0.004301144171112714, 0.004464388488319426]\n"
     ]
    }
   ],
   "source": [
    "# simple linear regression for city category predicting purchase\n",
    "model = linear_model.LinearRegression().fit(X = X_train[['City_Category_Num']], y = Y_train)\n",
    "score_train = model.score(X = X_train[['City_Category_Num']], y = Y_train) # R squared (training)\n",
    "score_val = model.score(X = X_val[['City_Category_Num']], y = Y_val) # R squared (validation)\n",
    "score_test = model.score(X = X_test[['City_Category_Num']], y = Y_test) # R squared (test)\n",
    "print([score_train, score_val, score_test])"
   ]
  },
  {
   "cell_type": "code",
   "execution_count": 61,
   "metadata": {},
   "outputs": [
    {
     "name": "stdout",
     "output_type": "stream",
     "text": [
      "[1.8972650218662679e-06, -8.631667805181209e-06, -1.2471066042518686e-05]\n"
     ]
    }
   ],
   "source": [
    "# simple linear regression for marital status predicting purchase\n",
    "model = linear_model.LinearRegression().fit(X = X_train[['Marital_Status']], y = Y_train)\n",
    "score_train = model.score(X = X_train[['Marital_Status']], y = Y_train) # R squared (training)\n",
    "score_val = model.score(X = X_val[['Marital_Status']], y = Y_val) # R squared (validation)\n",
    "score_test = model.score(X = X_test[['Marital_Status']], y = Y_test) # R squared (test)\n",
    "print([score_train, score_val, score_test])"
   ]
  },
  {
   "cell_type": "code",
   "execution_count": 62,
   "metadata": {},
   "outputs": [
    {
     "name": "stdout",
     "output_type": "stream",
     "text": [
      "[0.13091403785948041, 0.13046157706840766, 0.12634023338141998]\n"
     ]
    }
   ],
   "source": [
    "# multiple linear regression for product category 1, 2, and 3 predicting purchase\n",
    "model = linear_model.LinearRegression().fit(X = X_train[['Product_Category_1', 'Product_Category_2', 'Product_Category_3']], y = Y_train)\n",
    "score_train = model.score(X = X_train[['Product_Category_1', 'Product_Category_2', 'Product_Category_3']], y = Y_train) # R squared (training)\n",
    "score_val = model.score(X = X_val[['Product_Category_1', 'Product_Category_2', 'Product_Category_3']], y = Y_val) # R squared (validation)\n",
    "score_test = model.score(X = X_test[['Product_Category_1', 'Product_Category_2', 'Product_Category_3']], y = Y_test) # R squared (test)\n",
    "print([score_train, score_val, score_test])"
   ]
  },
  {
   "cell_type": "code",
   "execution_count": 63,
   "metadata": {},
   "outputs": [
    {
     "name": "stdout",
     "output_type": "stream",
     "text": [
      "[0.0038072751307989265, 0.003979808211693303, 0.004266820585295039]\n"
     ]
    }
   ],
   "source": [
    "# multiple linear regression for customer gender, age, and marital status predicting purchase\n",
    "model = linear_model.LinearRegression().fit(X = X_train[['Gender_Num', 'Age_Num', 'Marital_Status']], y = Y_train)\n",
    "score_train = model.score(X = X_train[['Gender_Num', 'Age_Num', 'Marital_Status']], y = Y_train) # R squared (training)\n",
    "score_val = model.score(X = X_val[['Gender_Num', 'Age_Num', 'Marital_Status']], y = Y_val) # R squared (validation)\n",
    "score_test = model.score(X = X_test[['Gender_Num', 'Age_Num', 'Marital_Status']], y = Y_test) # R squared (test)\n",
    "print([score_train, score_val, score_test])"
   ]
  },
  {
   "cell_type": "code",
   "execution_count": 64,
   "metadata": {},
   "outputs": [
    {
     "name": "stdout",
     "output_type": "stream",
     "text": [
      "[0.008500290734304583, 0.008035506269598036, 0.008543080765523348]\n"
     ]
    }
   ],
   "source": [
    "# multiple linear regression for customer gender, age, and city category predicting purchase\n",
    "model = linear_model.LinearRegression().fit(X = X_train[['Gender_Num', 'Age_Num', 'City_Category_Num']], y = Y_train)\n",
    "score_train = model.score(X = X_train[['Gender_Num', 'Age_Num', 'City_Category_Num']], y = Y_train) # R squared (training)\n",
    "score_val = model.score(X = X_val[['Gender_Num', 'Age_Num', 'City_Category_Num']], y = Y_val) # R squared (validation)\n",
    "score_test = model.score(X = X_test[['Gender_Num', 'Age_Num', 'City_Category_Num']], y = Y_test) # R squared (test)\n",
    "print([score_train, score_val, score_test])"
   ]
  },
  {
   "cell_type": "code",
   "execution_count": 65,
   "metadata": {},
   "outputs": [
    {
     "name": "stdout",
     "output_type": "stream",
     "text": [
      "[0.136630284590452, 0.13589437917607217, 0.13190147462730284]\n"
     ]
    }
   ],
   "source": [
    "# multiple linear regression for all variables predicting purchase\n",
    "model = linear_model.LinearRegression().fit(X = X_train[['Gender_Num', \\\n",
    "                                                         'Age_Num', \\\n",
    "                                                         'Occupation', \\\n",
    "                                                         'City_Category_Num', \\\n",
    "                                                         'Stay_In_Years_Num', \\\n",
    "                                                         'Marital_Status', \\\n",
    "                                                         'Product_Category_1', \\\n",
    "                                                         'Product_Category_2', \\\n",
    "                                                         'Product_Category_3']], y = Y_train)\n",
    "score_train = model.score(X = X_train[['Gender_Num', \\\n",
    "                                       'Age_Num', \\\n",
    "                                       'Occupation', \\\n",
    "                                       'City_Category_Num', \\\n",
    "                                       'Stay_In_Years_Num', \\\n",
    "                                       'Marital_Status', \\\n",
    "                                       'Product_Category_1', \\\n",
    "                                       'Product_Category_2', \\\n",
    "                                       'Product_Category_3']], y = Y_train) # R squared (training)\n",
    "score_val = model.score(X = X_val[['Gender_Num', \\\n",
    "                                   'Age_Num', \\\n",
    "                                   'Occupation', \\\n",
    "                                   'City_Category_Num', \\\n",
    "                                   'Stay_In_Years_Num', \\\n",
    "                                   'Marital_Status', \\\n",
    "                                   'Product_Category_1', \\\n",
    "                                   'Product_Category_2', \\\n",
    "                                   'Product_Category_3']], y = Y_val) # R squared (validation)\n",
    "score_test = model.score(X = X_test[['Gender_Num', \\\n",
    "                                   'Age_Num', \\\n",
    "                                   'Occupation', \\\n",
    "                                   'City_Category_Num', \\\n",
    "                                   'Stay_In_Years_Num', \\\n",
    "                                   'Marital_Status', \\\n",
    "                                   'Product_Category_1', \\\n",
    "                                   'Product_Category_2', \\\n",
    "                                   'Product_Category_3']], y = Y_test) # R squared (test)\n",
    "print([score_train, score_val, score_test])"
   ]
  },
  {
   "cell_type": "code",
   "execution_count": 66,
   "metadata": {},
   "outputs": [
    {
     "data": {
      "text/html": [
       "<div>\n",
       "<style scoped>\n",
       "    .dataframe tbody tr th:only-of-type {\n",
       "        vertical-align: middle;\n",
       "    }\n",
       "\n",
       "    .dataframe tbody tr th {\n",
       "        vertical-align: top;\n",
       "    }\n",
       "\n",
       "    .dataframe thead th {\n",
       "        text-align: right;\n",
       "    }\n",
       "</style>\n",
       "<table border=\"1\" class=\"dataframe\">\n",
       "  <thead>\n",
       "    <tr style=\"text-align: right;\">\n",
       "      <th></th>\n",
       "      <th>User_ID</th>\n",
       "      <th>Product_ID</th>\n",
       "      <th>Gender</th>\n",
       "      <th>Age</th>\n",
       "      <th>Occupation</th>\n",
       "      <th>City_Category</th>\n",
       "      <th>Stay_In_Current_City_Years</th>\n",
       "      <th>Marital_Status</th>\n",
       "      <th>Product_Category_1</th>\n",
       "      <th>Product_Category_2</th>\n",
       "      <th>Product_Category_3</th>\n",
       "      <th>Purchase</th>\n",
       "      <th>Gender_Num</th>\n",
       "      <th>Age_Num</th>\n",
       "      <th>City_Category_Num</th>\n",
       "      <th>Stay_In_Years_Num</th>\n",
       "    </tr>\n",
       "  </thead>\n",
       "  <tbody>\n",
       "    <tr>\n",
       "      <th>0</th>\n",
       "      <td>1000001</td>\n",
       "      <td>P00069042</td>\n",
       "      <td>F</td>\n",
       "      <td>0-17</td>\n",
       "      <td>10</td>\n",
       "      <td>A</td>\n",
       "      <td>2</td>\n",
       "      <td>0</td>\n",
       "      <td>3</td>\n",
       "      <td>0.0</td>\n",
       "      <td>0.0</td>\n",
       "      <td>8370</td>\n",
       "      <td>0</td>\n",
       "      <td>0</td>\n",
       "      <td>0</td>\n",
       "      <td>2</td>\n",
       "    </tr>\n",
       "    <tr>\n",
       "      <th>1</th>\n",
       "      <td>1000001</td>\n",
       "      <td>P00248942</td>\n",
       "      <td>F</td>\n",
       "      <td>0-17</td>\n",
       "      <td>10</td>\n",
       "      <td>A</td>\n",
       "      <td>2</td>\n",
       "      <td>0</td>\n",
       "      <td>1</td>\n",
       "      <td>6.0</td>\n",
       "      <td>14.0</td>\n",
       "      <td>15200</td>\n",
       "      <td>0</td>\n",
       "      <td>0</td>\n",
       "      <td>0</td>\n",
       "      <td>2</td>\n",
       "    </tr>\n",
       "    <tr>\n",
       "      <th>2</th>\n",
       "      <td>1000001</td>\n",
       "      <td>P00087842</td>\n",
       "      <td>F</td>\n",
       "      <td>0-17</td>\n",
       "      <td>10</td>\n",
       "      <td>A</td>\n",
       "      <td>2</td>\n",
       "      <td>0</td>\n",
       "      <td>12</td>\n",
       "      <td>0.0</td>\n",
       "      <td>0.0</td>\n",
       "      <td>1422</td>\n",
       "      <td>0</td>\n",
       "      <td>0</td>\n",
       "      <td>0</td>\n",
       "      <td>2</td>\n",
       "    </tr>\n",
       "    <tr>\n",
       "      <th>3</th>\n",
       "      <td>1000001</td>\n",
       "      <td>P00085442</td>\n",
       "      <td>F</td>\n",
       "      <td>0-17</td>\n",
       "      <td>10</td>\n",
       "      <td>A</td>\n",
       "      <td>2</td>\n",
       "      <td>0</td>\n",
       "      <td>12</td>\n",
       "      <td>14.0</td>\n",
       "      <td>0.0</td>\n",
       "      <td>1057</td>\n",
       "      <td>0</td>\n",
       "      <td>0</td>\n",
       "      <td>0</td>\n",
       "      <td>2</td>\n",
       "    </tr>\n",
       "    <tr>\n",
       "      <th>4</th>\n",
       "      <td>1000002</td>\n",
       "      <td>P00285442</td>\n",
       "      <td>M</td>\n",
       "      <td>55+</td>\n",
       "      <td>16</td>\n",
       "      <td>C</td>\n",
       "      <td>4+</td>\n",
       "      <td>0</td>\n",
       "      <td>8</td>\n",
       "      <td>0.0</td>\n",
       "      <td>0.0</td>\n",
       "      <td>7969</td>\n",
       "      <td>1</td>\n",
       "      <td>6</td>\n",
       "      <td>2</td>\n",
       "      <td>4</td>\n",
       "    </tr>\n",
       "  </tbody>\n",
       "</table>\n",
       "</div>"
      ],
      "text/plain": [
       "   User_ID Product_ID Gender   Age  Occupation City_Category  \\\n",
       "0  1000001  P00069042      F  0-17          10             A   \n",
       "1  1000001  P00248942      F  0-17          10             A   \n",
       "2  1000001  P00087842      F  0-17          10             A   \n",
       "3  1000001  P00085442      F  0-17          10             A   \n",
       "4  1000002  P00285442      M   55+          16             C   \n",
       "\n",
       "  Stay_In_Current_City_Years  Marital_Status  Product_Category_1  \\\n",
       "0                          2               0                   3   \n",
       "1                          2               0                   1   \n",
       "2                          2               0                  12   \n",
       "3                          2               0                  12   \n",
       "4                         4+               0                   8   \n",
       "\n",
       "   Product_Category_2  Product_Category_3  Purchase  Gender_Num Age_Num  \\\n",
       "0                 0.0                 0.0      8370           0       0   \n",
       "1                 6.0                14.0     15200           0       0   \n",
       "2                 0.0                 0.0      1422           0       0   \n",
       "3                14.0                 0.0      1057           0       0   \n",
       "4                 0.0                 0.0      7969           1       6   \n",
       "\n",
       "  City_Category_Num Stay_In_Years_Num  \n",
       "0                 0                 2  \n",
       "1                 0                 2  \n",
       "2                 0                 2  \n",
       "3                 0                 2  \n",
       "4                 2                 4  "
      ]
     },
     "execution_count": 66,
     "metadata": {},
     "output_type": "execute_result"
    }
   ],
   "source": [
    "data.head()"
   ]
  },
  {
   "cell_type": "code",
   "execution_count": 67,
   "metadata": {},
   "outputs": [],
   "source": [
    "#new holdout for classification\n",
    "X_train1, X_test1, Y_train1, Y_test1 = train_test_split(data[['Age_Num']], \\\n",
    "                                                data['Product_Category_1'], test_size = 0.25, random_state = 0)\n",
    "X_train1, X_val1, Y_train1, Y_val1 = train_test_split(X_train1, Y_train1, test_size = 0.25, random_state = 0)\n",
    "X_train2, X_test2, Y_train2, Y_test2 = train_test_split(data[['Age_Num']], \\\n",
    "                                                data['Product_Category_2'], test_size = 0.25, random_state = 0)\n",
    "X_train2, X_val2, Y_train2, Y_val2 = train_test_split(X_train2, Y_train2, test_size = 0.25, random_state = 0)\n",
    "X_train3, X_test3, Y_train3, Y_test3 = train_test_split(data[['Age_Num']], \\\n",
    "                                                data['Product_Category_3'], test_size = 0.25, random_state = 0)\n",
    "X_train3, X_val3, Y_train3, Y_val3 = train_test_split(X_train3, Y_train3, test_size = 0.25, random_state = 0)"
   ]
  },
  {
   "cell_type": "code",
   "execution_count": 68,
   "metadata": {},
   "outputs": [
    {
     "name": "stdout",
     "output_type": "stream",
     "text": [
      "[[    0     0     0     0 33192     0     0  1051     0     0     0     0\n",
      "      0     0     0     0     0     0]\n",
      " [    0     0     0     0  5686     0     0   202     0     0     0     0\n",
      "      0     0     0     0     0     0]\n",
      " [    0     0     0     0  4924     0     0   112     0     0     0     0\n",
      "      0     0     0     0     0     0]\n",
      " [    0     0     0     0  2807     0     0    87     0     0     0     0\n",
      "      0     0     0     0     0     0]\n",
      " [    0     0     0     0 35975     0     0  1323     0     0     0     0\n",
      "      0     0     0     0     0     0]\n",
      " [    0     0     0     0  4781     0     0   223     0     0     0     0\n",
      "      0     0     0     0     0     0]\n",
      " [    0     0     0     0   920     0     0    29     0     0     0     0\n",
      "      0     0     0     0     0     0]\n",
      " [    0     0     0     0 26484     0     0  1514     0     0     0     0\n",
      "      0     0     0     0     0     0]\n",
      " [    0     0     0     0    89     0     0     2     0     0     0     0\n",
      "      0     0     0     0     0     0]\n",
      " [    0     0     0     0  1222     0     0   111     0     0     0     0\n",
      "      0     0     0     0     0     0]\n",
      " [    0     0     0     0  5903     0     0   157     0     0     0     0\n",
      "      0     0     0     0     0     0]\n",
      " [    0     0     0     0   888     0     0    66     0     0     0     0\n",
      "      0     0     0     0     0     0]\n",
      " [    0     0     0     0  1274     0     0    69     0     0     0     0\n",
      "      0     0     0     0     0     0]\n",
      " [    0     0     0     0   348     0     0    22     0     0     0     0\n",
      "      0     0     0     0     0     0]\n",
      " [    0     0     0     0  1456     0     0    67     0     0     0     0\n",
      "      0     0     0     0     0     0]\n",
      " [    0     0     0     0  2407     0     0    83     0     0     0     0\n",
      "      0     0     0     0     0     0]\n",
      " [    0     0     0     0   144     0     0    15     0     0     0     0\n",
      "      0     0     0     0     0     0]\n",
      " [    0     0     0     0   711     0     0    51     0     0     0     0\n",
      "      0     0     0     0     0     0]]\n"
     ]
    }
   ],
   "source": [
    "from sklearn.linear_model import LogisticRegression\n",
    "from sklearn import metrics\n",
    "classifier1 = LogisticRegression() \n",
    "classifier1.fit(X_train1, Y_train1)\n",
    "# predict class labels using logistic regression classifier\n",
    "y_pred1 = classifier1.predict(X_test1)\n",
    "conf_matrix = metrics.confusion_matrix(Y_test1, y_pred1)\n",
    "print(conf_matrix)"
   ]
  },
  {
   "cell_type": "code",
   "execution_count": 69,
   "metadata": {
    "scrolled": true
   },
   "outputs": [
    {
     "name": "stdout",
     "output_type": "stream",
     "text": [
      "[0.2789463893746047, 0.7210536106253953, array([0.        , 0.        , 0.        , 0.        , 0.27842057,\n",
      "       0.        , 0.        , 0.29205247, 0.        , 0.        ,\n",
      "       0.        , 0.        , 0.        , 0.        , 0.        ,\n",
      "       0.        , 0.        , 0.        ]), array([0.        , 0.        , 0.        , 0.        , 0.96452893,\n",
      "       0.        , 0.        , 0.05407529, 0.        , 0.        ,\n",
      "       0.        , 0.        , 0.        , 0.        , 0.        ,\n",
      "       0.        , 0.        , 0.        ]), array([0.        , 0.        , 0.        , 0.        , 0.43210877,\n",
      "       0.        , 0.        , 0.09125429, 0.        , 0.        ,\n",
      "       0.        , 0.        , 0.        , 0.        , 0.        ,\n",
      "       0.        , 0.        , 0.        ])]\n"
     ]
    },
    {
     "name": "stderr",
     "output_type": "stream",
     "text": [
      "/Users/vanijais/anaconda3/lib/python3.6/site-packages/sklearn/metrics/classification.py:1135: UndefinedMetricWarning: Precision is ill-defined and being set to 0.0 in labels with no predicted samples.\n",
      "  'precision', 'predicted', average, warn_for)\n",
      "/Users/vanijais/anaconda3/lib/python3.6/site-packages/sklearn/metrics/classification.py:1135: UndefinedMetricWarning: F-score is ill-defined and being set to 0.0 in labels with no predicted samples.\n",
      "  'precision', 'predicted', average, warn_for)\n"
     ]
    }
   ],
   "source": [
    "accuracy = metrics.accuracy_score(Y_test1, y_pred1)\n",
    "error = 1 - metrics.accuracy_score(Y_test1, y_pred1)\n",
    "precision = metrics.precision_score(Y_test1, y_pred1, average = None)\n",
    "recall = metrics.recall_score(Y_test1, y_pred1, average = None)\n",
    "F1_score = metrics.f1_score(Y_test1, y_pred1, average = None)\n",
    "print([accuracy, error, precision, recall, F1_score])"
   ]
  },
  {
   "cell_type": "code",
   "execution_count": 82,
   "metadata": {},
   "outputs": [
    {
     "name": "stdout",
     "output_type": "stream",
     "text": [
      "[[41942     0     0     0     0     0     0     0     0     0     0     0\n",
      "      0     0     0     0     0     0]\n",
      " [11927     0     0     0     0     0     0     0     0     0     0     0\n",
      "      0     0     0     0     0     0]\n",
      " [  710     0     0     0     0     0     0     0     0     0     0     0\n",
      "      0     0     0     0     0     0]\n",
      " [ 6448     0     0     0     0     0     0     0     0     0     0     0\n",
      "      0     0     0     0     0     0]\n",
      " [ 6544     0     0     0     0     0     0     0     0     0     0     0\n",
      "      0     0     0     0     0     0]\n",
      " [ 4049     0     0     0     0     0     0     0     0     0     0     0\n",
      "      0     0     0     0     0     0]\n",
      " [  165     0     0     0     0     0     0     0     0     0     0     0\n",
      "      0     0     0     0     0     0]\n",
      " [15784     0     0     0     0     0     0     0     0     0     0     0\n",
      "      0     0     0     0     0     0]\n",
      " [ 1353     0     0     0     0     0     0     0     0     0     0     0\n",
      "      0     0     0     0     0     0]\n",
      " [  726     0     0     0     0     0     0     0     0     0     0     0\n",
      "      0     0     0     0     0     0]\n",
      " [ 3499     0     0     0     0     0     0     0     0     0     0     0\n",
      "      0     0     0     0     0     0]\n",
      " [ 1329     0     0     0     0     0     0     0     0     0     0     0\n",
      "      0     0     0     0     0     0]\n",
      " [ 2637     0     0     0     0     0     0     0     0     0     0     0\n",
      "      0     0     0     0     0     0]\n",
      " [13467     0     0     0     0     0     0     0     0     0     0     0\n",
      "      0     0     0     0     0     0]\n",
      " [ 9387     0     0     0     0     0     0     0     0     0     0     0\n",
      "      0     0     0     0     0     0]\n",
      " [10544     0     0     0     0     0     0     0     0     0     0     0\n",
      "      0     0     0     0     0     0]\n",
      " [ 3237     0     0     0     0     0     0     0     0     0     0     0\n",
      "      0     0     0     0     0     0]\n",
      " [  647     0     0     0     0     0     0     0     0     0     0     0\n",
      "      0     0     0     0     0     0]]\n"
     ]
    }
   ],
   "source": [
    "from sklearn.linear_model import LogisticRegression\n",
    "from sklearn import metrics\n",
    "classifier1 = LogisticRegression() \n",
    "classifier1.fit(X_train2, Y_train2)\n",
    "# predict class labels using logistic regression classifier\n",
    "y_pred2 = classifier1.predict(X_test2)\n",
    "conf_matrix = metrics.confusion_matrix(Y_test2, y_pred2)\n",
    "print(conf_matrix)"
   ]
  },
  {
   "cell_type": "code",
   "execution_count": 83,
   "metadata": {},
   "outputs": [
    {
     "name": "stdout",
     "output_type": "stream",
     "text": [
      "[0.31208006250232523, 0.6879199374976748, array([0.31208006, 0.        , 0.        , 0.        , 0.        ,\n",
      "       0.        , 0.        , 0.        , 0.        , 0.        ,\n",
      "       0.        , 0.        , 0.        , 0.        , 0.        ,\n",
      "       0.        , 0.        , 0.        ]), array([1., 0., 0., 0., 0., 0., 0., 0., 0., 0., 0., 0., 0., 0., 0., 0., 0.,\n",
      "       0.]), array([0.47570277, 0.        , 0.        , 0.        , 0.        ,\n",
      "       0.        , 0.        , 0.        , 0.        , 0.        ,\n",
      "       0.        , 0.        , 0.        , 0.        , 0.        ,\n",
      "       0.        , 0.        , 0.        ])]\n"
     ]
    },
    {
     "name": "stderr",
     "output_type": "stream",
     "text": [
      "/Users/vanijais/anaconda3/lib/python3.6/site-packages/sklearn/metrics/classification.py:1135: UndefinedMetricWarning: Precision is ill-defined and being set to 0.0 in labels with no predicted samples.\n",
      "  'precision', 'predicted', average, warn_for)\n",
      "/Users/vanijais/anaconda3/lib/python3.6/site-packages/sklearn/metrics/classification.py:1135: UndefinedMetricWarning: F-score is ill-defined and being set to 0.0 in labels with no predicted samples.\n",
      "  'precision', 'predicted', average, warn_for)\n"
     ]
    }
   ],
   "source": [
    "accuracy = metrics.accuracy_score(Y_test2, y_pred2)\n",
    "error = 1 - metrics.accuracy_score(Y_test2, y_pred2)\n",
    "precision = metrics.precision_score(Y_test2, y_pred2, average = None)\n",
    "recall = metrics.recall_score(Y_test2, y_pred2, average = None)\n",
    "F1_score = metrics.f1_score(Y_test2, y_pred2, average = None)\n",
    "print([accuracy, error, precision, recall, F1_score])"
   ]
  },
  {
   "cell_type": "code",
   "execution_count": 84,
   "metadata": {},
   "outputs": [
    {
     "name": "stdout",
     "output_type": "stream",
     "text": [
      "[[93504     0     0     0     0     0     0     0     0     0     0     0\n",
      "      0     0     0     0]\n",
      " [  151     0     0     0     0     0     0     0     0     0     0     0\n",
      "      0     0     0     0]\n",
      " [  454     0     0     0     0     0     0     0     0     0     0     0\n",
      "      0     0     0     0]\n",
      " [ 4089     0     0     0     0     0     0     0     0     0     0     0\n",
      "      0     0     0     0]\n",
      " [ 1178     0     0     0     0     0     0     0     0     0     0     0\n",
      "      0     0     0     0]\n",
      " [ 3065     0     0     0     0     0     0     0     0     0     0     0\n",
      "      0     0     0     0]\n",
      " [ 2851     0     0     0     0     0     0     0     0     0     0     0\n",
      "      0     0     0     0]\n",
      " [  401     0     0     0     0     0     0     0     0     0     0     0\n",
      "      0     0     0     0]\n",
      " [  434     0     0     0     0     0     0     0     0     0     0     0\n",
      "      0     0     0     0]\n",
      " [ 2293     0     0     0     0     0     0     0     0     0     0     0\n",
      "      0     0     0     0]\n",
      " [ 1366     0     0     0     0     0     0     0     0     0     0     0\n",
      "      0     0     0     0]\n",
      " [ 4502     0     0     0     0     0     0     0     0     0     0     0\n",
      "      0     0     0     0]\n",
      " [ 6878     0     0     0     0     0     0     0     0     0     0     0\n",
      "      0     0     0     0]\n",
      " [ 8016     0     0     0     0     0     0     0     0     0     0     0\n",
      "      0     0     0     0]\n",
      " [ 4027     0     0     0     0     0     0     0     0     0     0     0\n",
      "      0     0     0     0]\n",
      " [ 1186     0     0     0     0     0     0     0     0     0     0     0\n",
      "      0     0     0     0]]\n"
     ]
    }
   ],
   "source": [
    "from sklearn.linear_model import LogisticRegression\n",
    "from sklearn import metrics\n",
    "classifier1 = LogisticRegression() \n",
    "classifier1.fit(X_train3, Y_train3)\n",
    "# predict class labels using logistic regression classifier\n",
    "y_pred3 = classifier1.predict(X_test3)\n",
    "conf_matrix = metrics.confusion_matrix(Y_test3, y_pred3)\n",
    "print(conf_matrix)"
   ]
  },
  {
   "cell_type": "code",
   "execution_count": 85,
   "metadata": {},
   "outputs": [
    {
     "name": "stdout",
     "output_type": "stream",
     "text": [
      "[0.6957401689050932, 0.30425983109490684, array([0.69574017, 0.        , 0.        , 0.        , 0.        ,\n",
      "       0.        , 0.        , 0.        , 0.        , 0.        ,\n",
      "       0.        , 0.        , 0.        , 0.        , 0.        ,\n",
      "       0.        ]), array([1., 0., 0., 0., 0., 0., 0., 0., 0., 0., 0., 0., 0., 0., 0., 0.]), array([0.82057403, 0.        , 0.        , 0.        , 0.        ,\n",
      "       0.        , 0.        , 0.        , 0.        , 0.        ,\n",
      "       0.        , 0.        , 0.        , 0.        , 0.        ,\n",
      "       0.        ])]\n"
     ]
    },
    {
     "name": "stderr",
     "output_type": "stream",
     "text": [
      "/Users/vanijais/anaconda3/lib/python3.6/site-packages/sklearn/metrics/classification.py:1135: UndefinedMetricWarning: Precision is ill-defined and being set to 0.0 in labels with no predicted samples.\n",
      "  'precision', 'predicted', average, warn_for)\n",
      "/Users/vanijais/anaconda3/lib/python3.6/site-packages/sklearn/metrics/classification.py:1135: UndefinedMetricWarning: F-score is ill-defined and being set to 0.0 in labels with no predicted samples.\n",
      "  'precision', 'predicted', average, warn_for)\n"
     ]
    }
   ],
   "source": [
    "accuracy = metrics.accuracy_score(Y_test3, y_pred3)\n",
    "error = 1 - metrics.accuracy_score(Y_test3, y_pred3)\n",
    "precision = metrics.precision_score(Y_test3, y_pred3, average = None)\n",
    "recall = metrics.recall_score(Y_test3, y_pred3, average = None)\n",
    "F1_score = metrics.f1_score(Y_test3, y_pred3, average = None)\n",
    "print([accuracy, error, precision, recall, F1_score])"
   ]
  },
  {
   "cell_type": "code",
   "execution_count": 86,
   "metadata": {},
   "outputs": [
    {
     "name": "stdout",
     "output_type": "stream",
     "text": [
      "[[    0     0     0     0 33192     0     0  1051     0     0     0     0\n",
      "      0     0     0     0     0     0]\n",
      " [    0     0     0     0  5686     0     0   202     0     0     0     0\n",
      "      0     0     0     0     0     0]\n",
      " [    0     0     0     0  4924     0     0   112     0     0     0     0\n",
      "      0     0     0     0     0     0]\n",
      " [    0     0     0     0  2807     0     0    87     0     0     0     0\n",
      "      0     0     0     0     0     0]\n",
      " [    0     0     0     0 35975     0     0  1323     0     0     0     0\n",
      "      0     0     0     0     0     0]\n",
      " [    0     0     0     0  4781     0     0   223     0     0     0     0\n",
      "      0     0     0     0     0     0]\n",
      " [    0     0     0     0   920     0     0    29     0     0     0     0\n",
      "      0     0     0     0     0     0]\n",
      " [    0     0     0     0 26484     0     0  1514     0     0     0     0\n",
      "      0     0     0     0     0     0]\n",
      " [    0     0     0     0    89     0     0     2     0     0     0     0\n",
      "      0     0     0     0     0     0]\n",
      " [    0     0     0     0  1222     0     0   111     0     0     0     0\n",
      "      0     0     0     0     0     0]\n",
      " [    0     0     0     0  5903     0     0   157     0     0     0     0\n",
      "      0     0     0     0     0     0]\n",
      " [    0     0     0     0   888     0     0    66     0     0     0     0\n",
      "      0     0     0     0     0     0]\n",
      " [    0     0     0     0  1274     0     0    69     0     0     0     0\n",
      "      0     0     0     0     0     0]\n",
      " [    0     0     0     0   348     0     0    22     0     0     0     0\n",
      "      0     0     0     0     0     0]\n",
      " [    0     0     0     0  1456     0     0    67     0     0     0     0\n",
      "      0     0     0     0     0     0]\n",
      " [    0     0     0     0  2407     0     0    83     0     0     0     0\n",
      "      0     0     0     0     0     0]\n",
      " [    0     0     0     0   144     0     0    15     0     0     0     0\n",
      "      0     0     0     0     0     0]\n",
      " [    0     0     0     0   711     0     0    51     0     0     0     0\n",
      "      0     0     0     0     0     0]]\n"
     ]
    }
   ],
   "source": [
    "#decision tree\n",
    "classifier2 = DecisionTreeClassifier(criterion = \"entropy\", random_state = 0)\n",
    "classifier2.fit(X_train1, Y_train1)\n",
    "# predict class labels using logistic regression classifier\n",
    "y_pred1 = classifier2.predict(X_test1)\n",
    "conf_matrix = metrics.confusion_matrix(Y_test1, y_pred1)\n",
    "print(conf_matrix)"
   ]
  },
  {
   "cell_type": "code",
   "execution_count": 87,
   "metadata": {},
   "outputs": [
    {
     "name": "stdout",
     "output_type": "stream",
     "text": [
      "[0.2789463893746047, 0.7210536106253953, array([0.        , 0.        , 0.        , 0.        , 0.27842057,\n",
      "       0.        , 0.        , 0.29205247, 0.        , 0.        ,\n",
      "       0.        , 0.        , 0.        , 0.        , 0.        ,\n",
      "       0.        , 0.        , 0.        ]), array([0.        , 0.        , 0.        , 0.        , 0.96452893,\n",
      "       0.        , 0.        , 0.05407529, 0.        , 0.        ,\n",
      "       0.        , 0.        , 0.        , 0.        , 0.        ,\n",
      "       0.        , 0.        , 0.        ]), array([0.        , 0.        , 0.        , 0.        , 0.43210877,\n",
      "       0.        , 0.        , 0.09125429, 0.        , 0.        ,\n",
      "       0.        , 0.        , 0.        , 0.        , 0.        ,\n",
      "       0.        , 0.        , 0.        ])]\n"
     ]
    },
    {
     "name": "stderr",
     "output_type": "stream",
     "text": [
      "/Users/vanijais/anaconda3/lib/python3.6/site-packages/sklearn/metrics/classification.py:1135: UndefinedMetricWarning: Precision is ill-defined and being set to 0.0 in labels with no predicted samples.\n",
      "  'precision', 'predicted', average, warn_for)\n",
      "/Users/vanijais/anaconda3/lib/python3.6/site-packages/sklearn/metrics/classification.py:1135: UndefinedMetricWarning: F-score is ill-defined and being set to 0.0 in labels with no predicted samples.\n",
      "  'precision', 'predicted', average, warn_for)\n"
     ]
    }
   ],
   "source": [
    "accuracy = metrics.accuracy_score(Y_test1, y_pred1)\n",
    "error = 1 - metrics.accuracy_score(Y_test1, y_pred1)\n",
    "precision = metrics.precision_score(Y_test1, y_pred1, average = None)\n",
    "recall = metrics.recall_score(Y_test1, y_pred1, average = None)\n",
    "F1_score = metrics.f1_score(Y_test1, y_pred1, average = None)\n",
    "print([accuracy, error, precision, recall, F1_score])"
   ]
  },
  {
   "cell_type": "code",
   "execution_count": 88,
   "metadata": {},
   "outputs": [
    {
     "name": "stdout",
     "output_type": "stream",
     "text": [
      "[[41942     0     0     0     0     0     0     0     0     0     0     0\n",
      "      0     0     0     0     0     0]\n",
      " [11927     0     0     0     0     0     0     0     0     0     0     0\n",
      "      0     0     0     0     0     0]\n",
      " [  710     0     0     0     0     0     0     0     0     0     0     0\n",
      "      0     0     0     0     0     0]\n",
      " [ 6448     0     0     0     0     0     0     0     0     0     0     0\n",
      "      0     0     0     0     0     0]\n",
      " [ 6544     0     0     0     0     0     0     0     0     0     0     0\n",
      "      0     0     0     0     0     0]\n",
      " [ 4049     0     0     0     0     0     0     0     0     0     0     0\n",
      "      0     0     0     0     0     0]\n",
      " [  165     0     0     0     0     0     0     0     0     0     0     0\n",
      "      0     0     0     0     0     0]\n",
      " [15784     0     0     0     0     0     0     0     0     0     0     0\n",
      "      0     0     0     0     0     0]\n",
      " [ 1353     0     0     0     0     0     0     0     0     0     0     0\n",
      "      0     0     0     0     0     0]\n",
      " [  726     0     0     0     0     0     0     0     0     0     0     0\n",
      "      0     0     0     0     0     0]\n",
      " [ 3499     0     0     0     0     0     0     0     0     0     0     0\n",
      "      0     0     0     0     0     0]\n",
      " [ 1329     0     0     0     0     0     0     0     0     0     0     0\n",
      "      0     0     0     0     0     0]\n",
      " [ 2637     0     0     0     0     0     0     0     0     0     0     0\n",
      "      0     0     0     0     0     0]\n",
      " [13467     0     0     0     0     0     0     0     0     0     0     0\n",
      "      0     0     0     0     0     0]\n",
      " [ 9387     0     0     0     0     0     0     0     0     0     0     0\n",
      "      0     0     0     0     0     0]\n",
      " [10544     0     0     0     0     0     0     0     0     0     0     0\n",
      "      0     0     0     0     0     0]\n",
      " [ 3237     0     0     0     0     0     0     0     0     0     0     0\n",
      "      0     0     0     0     0     0]\n",
      " [  647     0     0     0     0     0     0     0     0     0     0     0\n",
      "      0     0     0     0     0     0]]\n"
     ]
    }
   ],
   "source": [
    "classifier2 = DecisionTreeClassifier(criterion = \"entropy\", random_state = 0)\n",
    "classifier2.fit(X_train2, Y_train2)\n",
    "# predict class labels using logistic regression classifier\n",
    "y_pred2 = classifier2.predict(X_test2)\n",
    "conf_matrix = metrics.confusion_matrix(Y_test2, y_pred2)\n",
    "print(conf_matrix)"
   ]
  },
  {
   "cell_type": "code",
   "execution_count": 89,
   "metadata": {},
   "outputs": [
    {
     "name": "stdout",
     "output_type": "stream",
     "text": [
      "[0.31208006250232523, 0.6879199374976748, array([0.31208006, 0.        , 0.        , 0.        , 0.        ,\n",
      "       0.        , 0.        , 0.        , 0.        , 0.        ,\n",
      "       0.        , 0.        , 0.        , 0.        , 0.        ,\n",
      "       0.        , 0.        , 0.        ]), array([1., 0., 0., 0., 0., 0., 0., 0., 0., 0., 0., 0., 0., 0., 0., 0., 0.,\n",
      "       0.]), array([0.47570277, 0.        , 0.        , 0.        , 0.        ,\n",
      "       0.        , 0.        , 0.        , 0.        , 0.        ,\n",
      "       0.        , 0.        , 0.        , 0.        , 0.        ,\n",
      "       0.        , 0.        , 0.        ])]\n"
     ]
    },
    {
     "name": "stderr",
     "output_type": "stream",
     "text": [
      "/Users/vanijais/anaconda3/lib/python3.6/site-packages/sklearn/metrics/classification.py:1135: UndefinedMetricWarning: Precision is ill-defined and being set to 0.0 in labels with no predicted samples.\n",
      "  'precision', 'predicted', average, warn_for)\n",
      "/Users/vanijais/anaconda3/lib/python3.6/site-packages/sklearn/metrics/classification.py:1135: UndefinedMetricWarning: F-score is ill-defined and being set to 0.0 in labels with no predicted samples.\n",
      "  'precision', 'predicted', average, warn_for)\n"
     ]
    }
   ],
   "source": [
    "accuracy = metrics.accuracy_score(Y_test2, y_pred2)\n",
    "error = 1 - metrics.accuracy_score(Y_test2, y_pred2)\n",
    "precision = metrics.precision_score(Y_test2, y_pred2, average = None)\n",
    "recall = metrics.recall_score(Y_test2, y_pred2, average = None)\n",
    "F1_score = metrics.f1_score(Y_test2, y_pred2, average = None)\n",
    "print([accuracy, error, precision, recall, F1_score])"
   ]
  },
  {
   "cell_type": "code",
   "execution_count": 90,
   "metadata": {},
   "outputs": [
    {
     "name": "stdout",
     "output_type": "stream",
     "text": [
      "[[93504     0     0     0     0     0     0     0     0     0     0     0\n",
      "      0     0     0     0]\n",
      " [  151     0     0     0     0     0     0     0     0     0     0     0\n",
      "      0     0     0     0]\n",
      " [  454     0     0     0     0     0     0     0     0     0     0     0\n",
      "      0     0     0     0]\n",
      " [ 4089     0     0     0     0     0     0     0     0     0     0     0\n",
      "      0     0     0     0]\n",
      " [ 1178     0     0     0     0     0     0     0     0     0     0     0\n",
      "      0     0     0     0]\n",
      " [ 3065     0     0     0     0     0     0     0     0     0     0     0\n",
      "      0     0     0     0]\n",
      " [ 2851     0     0     0     0     0     0     0     0     0     0     0\n",
      "      0     0     0     0]\n",
      " [  401     0     0     0     0     0     0     0     0     0     0     0\n",
      "      0     0     0     0]\n",
      " [  434     0     0     0     0     0     0     0     0     0     0     0\n",
      "      0     0     0     0]\n",
      " [ 2293     0     0     0     0     0     0     0     0     0     0     0\n",
      "      0     0     0     0]\n",
      " [ 1366     0     0     0     0     0     0     0     0     0     0     0\n",
      "      0     0     0     0]\n",
      " [ 4502     0     0     0     0     0     0     0     0     0     0     0\n",
      "      0     0     0     0]\n",
      " [ 6878     0     0     0     0     0     0     0     0     0     0     0\n",
      "      0     0     0     0]\n",
      " [ 8016     0     0     0     0     0     0     0     0     0     0     0\n",
      "      0     0     0     0]\n",
      " [ 4027     0     0     0     0     0     0     0     0     0     0     0\n",
      "      0     0     0     0]\n",
      " [ 1186     0     0     0     0     0     0     0     0     0     0     0\n",
      "      0     0     0     0]]\n"
     ]
    }
   ],
   "source": [
    "classifier2 = DecisionTreeClassifier(criterion = \"entropy\", random_state = 0)\n",
    "classifier2.fit(X_train3, Y_train3)\n",
    "# predict class labels using logistic regression classifier\n",
    "y_pred3 = classifier2.predict(X_test3)\n",
    "conf_matrix = metrics.confusion_matrix(Y_test3, y_pred3)\n",
    "print(conf_matrix)"
   ]
  },
  {
   "cell_type": "code",
   "execution_count": 91,
   "metadata": {},
   "outputs": [
    {
     "name": "stdout",
     "output_type": "stream",
     "text": [
      "[0.6957401689050932, 0.30425983109490684, array([0.69574017, 0.        , 0.        , 0.        , 0.        ,\n",
      "       0.        , 0.        , 0.        , 0.        , 0.        ,\n",
      "       0.        , 0.        , 0.        , 0.        , 0.        ,\n",
      "       0.        ]), array([1., 0., 0., 0., 0., 0., 0., 0., 0., 0., 0., 0., 0., 0., 0., 0.]), array([0.82057403, 0.        , 0.        , 0.        , 0.        ,\n",
      "       0.        , 0.        , 0.        , 0.        , 0.        ,\n",
      "       0.        , 0.        , 0.        , 0.        , 0.        ,\n",
      "       0.        ])]\n"
     ]
    },
    {
     "name": "stderr",
     "output_type": "stream",
     "text": [
      "/Users/vanijais/anaconda3/lib/python3.6/site-packages/sklearn/metrics/classification.py:1135: UndefinedMetricWarning: Precision is ill-defined and being set to 0.0 in labels with no predicted samples.\n",
      "  'precision', 'predicted', average, warn_for)\n",
      "/Users/vanijais/anaconda3/lib/python3.6/site-packages/sklearn/metrics/classification.py:1135: UndefinedMetricWarning: F-score is ill-defined and being set to 0.0 in labels with no predicted samples.\n",
      "  'precision', 'predicted', average, warn_for)\n"
     ]
    }
   ],
   "source": [
    "accuracy = metrics.accuracy_score(Y_test3, y_pred3)\n",
    "error = 1 - metrics.accuracy_score(Y_test3, y_pred3)\n",
    "precision = metrics.precision_score(Y_test3, y_pred3, average = None)\n",
    "recall = metrics.recall_score(Y_test3, y_pred3, average = None)\n",
    "F1_score = metrics.f1_score(Y_test3, y_pred3, average = None)\n",
    "print([accuracy, error, precision, recall, F1_score])"
   ]
  },
  {
   "cell_type": "code",
   "execution_count": 80,
   "metadata": {},
   "outputs": [
    {
     "name": "stdout",
     "output_type": "stream",
     "text": [
      "[[    0     0     0     0 30993     0     0  3250     0     0     0     0\n",
      "      0     0     0     0     0     0]\n",
      " [    0     0     0     0  5256     0     0   632     0     0     0     0\n",
      "      0     0     0     0     0     0]\n",
      " [    0     0     0     0  4695     0     0   341     0     0     0     0\n",
      "      0     0     0     0     0     0]\n",
      " [    0     0     0     0  2651     0     0   243     0     0     0     0\n",
      "      0     0     0     0     0     0]\n",
      " [    0     0     0     0 33521     0     0  3777     0     0     0     0\n",
      "      0     0     0     0     0     0]\n",
      " [    0     0     0     0  4418     0     0   586     0     0     0     0\n",
      "      0     0     0     0     0     0]\n",
      " [    0     0     0     0   860     0     0    89     0     0     0     0\n",
      "      0     0     0     0     0     0]\n",
      " [    0     0     0     0 24191     0     0  3807     0     0     0     0\n",
      "      0     0     0     0     0     0]\n",
      " [    0     0     0     0    81     0     0    10     0     0     0     0\n",
      "      0     0     0     0     0     0]\n",
      " [    0     0     0     0  1087     0     0   246     0     0     0     0\n",
      "      0     0     0     0     0     0]\n",
      " [    0     0     0     0  5548     0     0   512     0     0     0     0\n",
      "      0     0     0     0     0     0]\n",
      " [    0     0     0     0   783     0     0   171     0     0     0     0\n",
      "      0     0     0     0     0     0]\n",
      " [    0     0     0     0  1145     0     0   198     0     0     0     0\n",
      "      0     0     0     0     0     0]\n",
      " [    0     0     0     0   310     0     0    60     0     0     0     0\n",
      "      0     0     0     0     0     0]\n",
      " [    0     0     0     0  1345     0     0   178     0     0     0     0\n",
      "      0     0     0     0     0     0]\n",
      " [    0     0     0     0  2233     0     0   257     0     0     0     0\n",
      "      0     0     0     0     0     0]\n",
      " [    0     0     0     0   114     0     0    45     0     0     0     0\n",
      "      0     0     0     0     0     0]\n",
      " [    0     0     0     0   602     0     0   160     0     0     0     0\n",
      "      0     0     0     0     0     0]]\n"
     ]
    }
   ],
   "source": [
    "classifier3 =  GaussianNB()\n",
    "classifier3.fit(X_train1, Y_train1)\n",
    "# predict class labels using logistic regression classifier\n",
    "y_pred1 = classifier3.predict(X_test1)\n",
    "conf_matrix = metrics.confusion_matrix(Y_test1, y_pred1)\n",
    "print(conf_matrix)"
   ]
  },
  {
   "cell_type": "code",
   "execution_count": 92,
   "metadata": {},
   "outputs": [
    {
     "name": "stdout",
     "output_type": "stream",
     "text": [
      "[0.2789463893746047, 0.7210536106253953, array([0.        , 0.        , 0.        , 0.        , 0.27842057,\n",
      "       0.        , 0.        , 0.29205247, 0.        , 0.        ,\n",
      "       0.        , 0.        , 0.        , 0.        , 0.        ,\n",
      "       0.        , 0.        , 0.        ]), array([0.        , 0.        , 0.        , 0.        , 0.96452893,\n",
      "       0.        , 0.        , 0.05407529, 0.        , 0.        ,\n",
      "       0.        , 0.        , 0.        , 0.        , 0.        ,\n",
      "       0.        , 0.        , 0.        ]), array([0.        , 0.        , 0.        , 0.        , 0.43210877,\n",
      "       0.        , 0.        , 0.09125429, 0.        , 0.        ,\n",
      "       0.        , 0.        , 0.        , 0.        , 0.        ,\n",
      "       0.        , 0.        , 0.        ])]\n"
     ]
    },
    {
     "name": "stderr",
     "output_type": "stream",
     "text": [
      "/Users/vanijais/anaconda3/lib/python3.6/site-packages/sklearn/metrics/classification.py:1135: UndefinedMetricWarning: Precision is ill-defined and being set to 0.0 in labels with no predicted samples.\n",
      "  'precision', 'predicted', average, warn_for)\n",
      "/Users/vanijais/anaconda3/lib/python3.6/site-packages/sklearn/metrics/classification.py:1135: UndefinedMetricWarning: F-score is ill-defined and being set to 0.0 in labels with no predicted samples.\n",
      "  'precision', 'predicted', average, warn_for)\n"
     ]
    }
   ],
   "source": [
    "accuracy = metrics.accuracy_score(Y_test1, y_pred1)\n",
    "error = 1 - metrics.accuracy_score(Y_test1, y_pred1)\n",
    "precision = metrics.precision_score(Y_test1, y_pred1, average = None)\n",
    "recall = metrics.recall_score(Y_test1, y_pred1, average = None)\n",
    "F1_score = metrics.f1_score(Y_test1, y_pred1, average = None)\n",
    "print([accuracy, error, precision, recall, F1_score])"
   ]
  },
  {
   "cell_type": "code",
   "execution_count": 93,
   "metadata": {},
   "outputs": [
    {
     "name": "stdout",
     "output_type": "stream",
     "text": [
      "[[41942     0     0     0     0     0     0     0     0     0     0     0\n",
      "      0     0     0     0     0     0]\n",
      " [11927     0     0     0     0     0     0     0     0     0     0     0\n",
      "      0     0     0     0     0     0]\n",
      " [  710     0     0     0     0     0     0     0     0     0     0     0\n",
      "      0     0     0     0     0     0]\n",
      " [ 6448     0     0     0     0     0     0     0     0     0     0     0\n",
      "      0     0     0     0     0     0]\n",
      " [ 6544     0     0     0     0     0     0     0     0     0     0     0\n",
      "      0     0     0     0     0     0]\n",
      " [ 4049     0     0     0     0     0     0     0     0     0     0     0\n",
      "      0     0     0     0     0     0]\n",
      " [  165     0     0     0     0     0     0     0     0     0     0     0\n",
      "      0     0     0     0     0     0]\n",
      " [15784     0     0     0     0     0     0     0     0     0     0     0\n",
      "      0     0     0     0     0     0]\n",
      " [ 1353     0     0     0     0     0     0     0     0     0     0     0\n",
      "      0     0     0     0     0     0]\n",
      " [  726     0     0     0     0     0     0     0     0     0     0     0\n",
      "      0     0     0     0     0     0]\n",
      " [ 3499     0     0     0     0     0     0     0     0     0     0     0\n",
      "      0     0     0     0     0     0]\n",
      " [ 1329     0     0     0     0     0     0     0     0     0     0     0\n",
      "      0     0     0     0     0     0]\n",
      " [ 2637     0     0     0     0     0     0     0     0     0     0     0\n",
      "      0     0     0     0     0     0]\n",
      " [13467     0     0     0     0     0     0     0     0     0     0     0\n",
      "      0     0     0     0     0     0]\n",
      " [ 9387     0     0     0     0     0     0     0     0     0     0     0\n",
      "      0     0     0     0     0     0]\n",
      " [10544     0     0     0     0     0     0     0     0     0     0     0\n",
      "      0     0     0     0     0     0]\n",
      " [ 3237     0     0     0     0     0     0     0     0     0     0     0\n",
      "      0     0     0     0     0     0]\n",
      " [  647     0     0     0     0     0     0     0     0     0     0     0\n",
      "      0     0     0     0     0     0]]\n"
     ]
    }
   ],
   "source": [
    "classifier3 =  GaussianNB()\n",
    "classifier3.fit(X_train2, Y_train2)\n",
    "# predict class labels using logistic regression classifier\n",
    "y_pred2 = classifier3.predict(X_test2)\n",
    "conf_matrix = metrics.confusion_matrix(Y_test2, y_pred2)\n",
    "print(conf_matrix)"
   ]
  },
  {
   "cell_type": "code",
   "execution_count": 94,
   "metadata": {},
   "outputs": [
    {
     "name": "stdout",
     "output_type": "stream",
     "text": [
      "[0.31208006250232523, 0.6879199374976748, array([0.31208006, 0.        , 0.        , 0.        , 0.        ,\n",
      "       0.        , 0.        , 0.        , 0.        , 0.        ,\n",
      "       0.        , 0.        , 0.        , 0.        , 0.        ,\n",
      "       0.        , 0.        , 0.        ]), array([1., 0., 0., 0., 0., 0., 0., 0., 0., 0., 0., 0., 0., 0., 0., 0., 0.,\n",
      "       0.]), array([0.47570277, 0.        , 0.        , 0.        , 0.        ,\n",
      "       0.        , 0.        , 0.        , 0.        , 0.        ,\n",
      "       0.        , 0.        , 0.        , 0.        , 0.        ,\n",
      "       0.        , 0.        , 0.        ])]\n"
     ]
    },
    {
     "name": "stderr",
     "output_type": "stream",
     "text": [
      "/Users/vanijais/anaconda3/lib/python3.6/site-packages/sklearn/metrics/classification.py:1135: UndefinedMetricWarning: Precision is ill-defined and being set to 0.0 in labels with no predicted samples.\n",
      "  'precision', 'predicted', average, warn_for)\n",
      "/Users/vanijais/anaconda3/lib/python3.6/site-packages/sklearn/metrics/classification.py:1135: UndefinedMetricWarning: F-score is ill-defined and being set to 0.0 in labels with no predicted samples.\n",
      "  'precision', 'predicted', average, warn_for)\n"
     ]
    }
   ],
   "source": [
    "accuracy = metrics.accuracy_score(Y_test2, y_pred2)\n",
    "error = 1 - metrics.accuracy_score(Y_test2, y_pred2)\n",
    "precision = metrics.precision_score(Y_test2, y_pred2, average = None)\n",
    "recall = metrics.recall_score(Y_test2, y_pred2, average = None)\n",
    "F1_score = metrics.f1_score(Y_test2, y_pred2, average = None)\n",
    "print([accuracy, error, precision, recall, F1_score])"
   ]
  },
  {
   "cell_type": "code",
   "execution_count": 95,
   "metadata": {},
   "outputs": [
    {
     "name": "stdout",
     "output_type": "stream",
     "text": [
      "[[93504     0     0     0     0     0     0     0     0     0     0     0\n",
      "      0     0     0     0]\n",
      " [  151     0     0     0     0     0     0     0     0     0     0     0\n",
      "      0     0     0     0]\n",
      " [  454     0     0     0     0     0     0     0     0     0     0     0\n",
      "      0     0     0     0]\n",
      " [ 4089     0     0     0     0     0     0     0     0     0     0     0\n",
      "      0     0     0     0]\n",
      " [ 1178     0     0     0     0     0     0     0     0     0     0     0\n",
      "      0     0     0     0]\n",
      " [ 3065     0     0     0     0     0     0     0     0     0     0     0\n",
      "      0     0     0     0]\n",
      " [ 2851     0     0     0     0     0     0     0     0     0     0     0\n",
      "      0     0     0     0]\n",
      " [  401     0     0     0     0     0     0     0     0     0     0     0\n",
      "      0     0     0     0]\n",
      " [  434     0     0     0     0     0     0     0     0     0     0     0\n",
      "      0     0     0     0]\n",
      " [ 2293     0     0     0     0     0     0     0     0     0     0     0\n",
      "      0     0     0     0]\n",
      " [ 1366     0     0     0     0     0     0     0     0     0     0     0\n",
      "      0     0     0     0]\n",
      " [ 4502     0     0     0     0     0     0     0     0     0     0     0\n",
      "      0     0     0     0]\n",
      " [ 6878     0     0     0     0     0     0     0     0     0     0     0\n",
      "      0     0     0     0]\n",
      " [ 8016     0     0     0     0     0     0     0     0     0     0     0\n",
      "      0     0     0     0]\n",
      " [ 4027     0     0     0     0     0     0     0     0     0     0     0\n",
      "      0     0     0     0]\n",
      " [ 1186     0     0     0     0     0     0     0     0     0     0     0\n",
      "      0     0     0     0]]\n"
     ]
    }
   ],
   "source": [
    "classifier3 =  GaussianNB()\n",
    "classifier3.fit(X_train3, Y_train3)\n",
    "# predict class labels using logistic regression classifier\n",
    "y_pred3 = classifier3.predict(X_test3)\n",
    "conf_matrix = metrics.confusion_matrix(Y_test3, y_pred3)\n",
    "print(conf_matrix)"
   ]
  },
  {
   "cell_type": "code",
   "execution_count": 96,
   "metadata": {},
   "outputs": [
    {
     "name": "stdout",
     "output_type": "stream",
     "text": [
      "[0.6957401689050932, 0.30425983109490684, array([0.69574017, 0.        , 0.        , 0.        , 0.        ,\n",
      "       0.        , 0.        , 0.        , 0.        , 0.        ,\n",
      "       0.        , 0.        , 0.        , 0.        , 0.        ,\n",
      "       0.        ]), array([1., 0., 0., 0., 0., 0., 0., 0., 0., 0., 0., 0., 0., 0., 0., 0.]), array([0.82057403, 0.        , 0.        , 0.        , 0.        ,\n",
      "       0.        , 0.        , 0.        , 0.        , 0.        ,\n",
      "       0.        , 0.        , 0.        , 0.        , 0.        ,\n",
      "       0.        ])]\n"
     ]
    },
    {
     "name": "stderr",
     "output_type": "stream",
     "text": [
      "/Users/vanijais/anaconda3/lib/python3.6/site-packages/sklearn/metrics/classification.py:1135: UndefinedMetricWarning: Precision is ill-defined and being set to 0.0 in labels with no predicted samples.\n",
      "  'precision', 'predicted', average, warn_for)\n",
      "/Users/vanijais/anaconda3/lib/python3.6/site-packages/sklearn/metrics/classification.py:1135: UndefinedMetricWarning: F-score is ill-defined and being set to 0.0 in labels with no predicted samples.\n",
      "  'precision', 'predicted', average, warn_for)\n"
     ]
    }
   ],
   "source": [
    "accuracy = metrics.accuracy_score(Y_test3, y_pred3)\n",
    "error = 1 - metrics.accuracy_score(Y_test3, y_pred3)\n",
    "precision = metrics.precision_score(Y_test3, y_pred3, average = None)\n",
    "recall = metrics.recall_score(Y_test3, y_pred3, average = None)\n",
    "F1_score = metrics.f1_score(Y_test3, y_pred3, average = None)\n",
    "print([accuracy, error, precision, recall, F1_score])"
   ]
  },
  {
   "cell_type": "code",
   "execution_count": null,
   "metadata": {},
   "outputs": [],
   "source": []
  }
 ],
 "metadata": {
  "kernelspec": {
   "display_name": "Python 3",
   "language": "python",
   "name": "python3"
  },
  "language_info": {
   "codemirror_mode": {
    "name": "ipython",
    "version": 3
   },
   "file_extension": ".py",
   "mimetype": "text/x-python",
   "name": "python",
   "nbconvert_exporter": "python",
   "pygments_lexer": "ipython3",
   "version": "3.6.5"
  }
 },
 "nbformat": 4,
 "nbformat_minor": 2
}

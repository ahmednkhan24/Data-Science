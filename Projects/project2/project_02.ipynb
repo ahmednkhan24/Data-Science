{
 "cells": [
  {
   "cell_type": "code",
   "execution_count": 1,
   "metadata": {},
   "outputs": [],
   "source": [
    "# Project 02"
   ]
  },
  {
   "cell_type": "code",
   "execution_count": 2,
   "metadata": {},
   "outputs": [],
   "source": [
    "# load libraries\n",
    "import pandas as pd\n",
    "from sklearn.model_selection import train_test_split\n",
    "import statsmodels.formula.api as smf\n",
    "from sklearn.preprocessing import StandardScaler\n",
    "from sklearn.neighbors import KNeighborsClassifier\n",
    "from sklearn.naive_bayes import GaussianNB\n",
    "from sklearn import metrics\n",
    "import seaborn as sns\n",
    "import matplotlib.pyplot as plt\n",
    "from sklearn.naive_bayes import GaussianNB\n",
    "from sklearn.linear_model import LogisticRegression"
   ]
  },
  {
   "cell_type": "code",
   "execution_count": 3,
   "metadata": {},
   "outputs": [],
   "source": [
    "# read data\n",
    "data_train = pd.read_csv('merged_train.csv')\n",
    "data_test = pd.read_csv('demographics_test.csv')"
   ]
  },
  {
   "cell_type": "code",
   "execution_count": 4,
   "metadata": {},
   "outputs": [
    {
     "data": {
      "text/html": [
       "<div>\n",
       "<style scoped>\n",
       "    .dataframe tbody tr th:only-of-type {\n",
       "        vertical-align: middle;\n",
       "    }\n",
       "\n",
       "    .dataframe tbody tr th {\n",
       "        vertical-align: top;\n",
       "    }\n",
       "\n",
       "    .dataframe thead th {\n",
       "        text-align: right;\n",
       "    }\n",
       "</style>\n",
       "<table border=\"1\" class=\"dataframe\">\n",
       "  <thead>\n",
       "    <tr style=\"text-align: right;\">\n",
       "      <th></th>\n",
       "      <th>County</th>\n",
       "      <th>State</th>\n",
       "      <th>2014 Population</th>\n",
       "      <th>2010 Population</th>\n",
       "      <th>Population Percent Change</th>\n",
       "      <th>Percent Under 5 Years</th>\n",
       "      <th>Percent Under 18 Years</th>\n",
       "      <th>Percent 65 and Older</th>\n",
       "      <th>Percent Female</th>\n",
       "      <th>Percent White</th>\n",
       "      <th>...</th>\n",
       "      <th>Ted Cruz.Percent of Votes</th>\n",
       "      <th>No Preference.Number of Votes</th>\n",
       "      <th>No Preference.Party</th>\n",
       "      <th>No Preference.Percent of Votes</th>\n",
       "      <th>Uncommitted.Number of Votes</th>\n",
       "      <th>Uncommitted.Party</th>\n",
       "      <th>Uncommitted.Percent of Votes</th>\n",
       "      <th>Democratic</th>\n",
       "      <th>Republican</th>\n",
       "      <th>Party</th>\n",
       "    </tr>\n",
       "  </thead>\n",
       "  <tbody>\n",
       "    <tr>\n",
       "      <th>0</th>\n",
       "      <td>Clinton</td>\n",
       "      <td>IN</td>\n",
       "      <td>32776</td>\n",
       "      <td>33224</td>\n",
       "      <td>-1.3</td>\n",
       "      <td>6.9</td>\n",
       "      <td>26.3</td>\n",
       "      <td>15.8</td>\n",
       "      <td>50.5</td>\n",
       "      <td>97.8</td>\n",
       "      <td>...</td>\n",
       "      <td>39.9</td>\n",
       "      <td>0</td>\n",
       "      <td>NaN</td>\n",
       "      <td>0.0</td>\n",
       "      <td>0</td>\n",
       "      <td>NaN</td>\n",
       "      <td>0.0</td>\n",
       "      <td>1770</td>\n",
       "      <td>6363</td>\n",
       "      <td>0</td>\n",
       "    </tr>\n",
       "    <tr>\n",
       "      <th>1</th>\n",
       "      <td>Cass</td>\n",
       "      <td>NE</td>\n",
       "      <td>25524</td>\n",
       "      <td>25241</td>\n",
       "      <td>1.1</td>\n",
       "      <td>6.0</td>\n",
       "      <td>24.6</td>\n",
       "      <td>16.1</td>\n",
       "      <td>49.6</td>\n",
       "      <td>97.0</td>\n",
       "      <td>...</td>\n",
       "      <td>22.5</td>\n",
       "      <td>0</td>\n",
       "      <td>NaN</td>\n",
       "      <td>0.0</td>\n",
       "      <td>0</td>\n",
       "      <td>NaN</td>\n",
       "      <td>0.0</td>\n",
       "      <td>283</td>\n",
       "      <td>2767</td>\n",
       "      <td>0</td>\n",
       "    </tr>\n",
       "    <tr>\n",
       "      <th>2</th>\n",
       "      <td>Walton</td>\n",
       "      <td>GA</td>\n",
       "      <td>87615</td>\n",
       "      <td>83768</td>\n",
       "      <td>4.6</td>\n",
       "      <td>6.2</td>\n",
       "      <td>25.9</td>\n",
       "      <td>14.2</td>\n",
       "      <td>51.3</td>\n",
       "      <td>79.6</td>\n",
       "      <td>...</td>\n",
       "      <td>30.9</td>\n",
       "      <td>0</td>\n",
       "      <td>NaN</td>\n",
       "      <td>0.0</td>\n",
       "      <td>0</td>\n",
       "      <td>NaN</td>\n",
       "      <td>0.0</td>\n",
       "      <td>3278</td>\n",
       "      <td>18818</td>\n",
       "      <td>0</td>\n",
       "    </tr>\n",
       "    <tr>\n",
       "      <th>3</th>\n",
       "      <td>Norfolk</td>\n",
       "      <td>MA</td>\n",
       "      <td>692254</td>\n",
       "      <td>670850</td>\n",
       "      <td>3.2</td>\n",
       "      <td>5.4</td>\n",
       "      <td>21.6</td>\n",
       "      <td>15.7</td>\n",
       "      <td>52.1</td>\n",
       "      <td>80.9</td>\n",
       "      <td>...</td>\n",
       "      <td>8.8</td>\n",
       "      <td>6</td>\n",
       "      <td>NaN</td>\n",
       "      <td>0.3</td>\n",
       "      <td>0</td>\n",
       "      <td>NaN</td>\n",
       "      <td>0.0</td>\n",
       "      <td>1716</td>\n",
       "      <td>1686</td>\n",
       "      <td>1</td>\n",
       "    </tr>\n",
       "    <tr>\n",
       "      <th>4</th>\n",
       "      <td>Beaver</td>\n",
       "      <td>PA</td>\n",
       "      <td>169392</td>\n",
       "      <td>170539</td>\n",
       "      <td>-0.7</td>\n",
       "      <td>5.1</td>\n",
       "      <td>19.7</td>\n",
       "      <td>19.7</td>\n",
       "      <td>51.6</td>\n",
       "      <td>91.1</td>\n",
       "      <td>...</td>\n",
       "      <td>22.3</td>\n",
       "      <td>0</td>\n",
       "      <td>NaN</td>\n",
       "      <td>0.0</td>\n",
       "      <td>0</td>\n",
       "      <td>NaN</td>\n",
       "      <td>0.0</td>\n",
       "      <td>22526</td>\n",
       "      <td>19081</td>\n",
       "      <td>1</td>\n",
       "    </tr>\n",
       "  </tbody>\n",
       "</table>\n",
       "<p>5 rows × 92 columns</p>\n",
       "</div>"
      ],
      "text/plain": [
       "    County State  2014 Population  2010 Population  Population Percent Change  \\\n",
       "0  Clinton    IN            32776            33224                       -1.3   \n",
       "1     Cass    NE            25524            25241                        1.1   \n",
       "2   Walton    GA            87615            83768                        4.6   \n",
       "3  Norfolk    MA           692254           670850                        3.2   \n",
       "4   Beaver    PA           169392           170539                       -0.7   \n",
       "\n",
       "   Percent Under 5 Years  Percent Under 18 Years  Percent 65 and Older  \\\n",
       "0                    6.9                    26.3                  15.8   \n",
       "1                    6.0                    24.6                  16.1   \n",
       "2                    6.2                    25.9                  14.2   \n",
       "3                    5.4                    21.6                  15.7   \n",
       "4                    5.1                    19.7                  19.7   \n",
       "\n",
       "   Percent Female  Percent White  ...    Ted Cruz.Percent of Votes  \\\n",
       "0            50.5           97.8  ...                         39.9   \n",
       "1            49.6           97.0  ...                         22.5   \n",
       "2            51.3           79.6  ...                         30.9   \n",
       "3            52.1           80.9  ...                          8.8   \n",
       "4            51.6           91.1  ...                         22.3   \n",
       "\n",
       "   No Preference.Number of Votes  No Preference.Party  \\\n",
       "0                              0                  NaN   \n",
       "1                              0                  NaN   \n",
       "2                              0                  NaN   \n",
       "3                              6                  NaN   \n",
       "4                              0                  NaN   \n",
       "\n",
       "   No Preference.Percent of Votes  Uncommitted.Number of Votes  \\\n",
       "0                             0.0                            0   \n",
       "1                             0.0                            0   \n",
       "2                             0.0                            0   \n",
       "3                             0.3                            0   \n",
       "4                             0.0                            0   \n",
       "\n",
       "   Uncommitted.Party  Uncommitted.Percent of Votes  Democratic  Republican  \\\n",
       "0                NaN                           0.0        1770        6363   \n",
       "1                NaN                           0.0         283        2767   \n",
       "2                NaN                           0.0        3278       18818   \n",
       "3                NaN                           0.0        1716        1686   \n",
       "4                NaN                           0.0       22526       19081   \n",
       "\n",
       "   Party  \n",
       "0      0  \n",
       "1      0  \n",
       "2      0  \n",
       "3      1  \n",
       "4      1  \n",
       "\n",
       "[5 rows x 92 columns]"
      ]
     },
     "execution_count": 4,
     "metadata": {},
     "output_type": "execute_result"
    }
   ],
   "source": [
    "data_train.head()"
   ]
  },
  {
   "cell_type": "code",
   "execution_count": 5,
   "metadata": {},
   "outputs": [],
   "source": [
    "# TASK 01: Partition the data\n",
    "# partition dataset into training, validation, and test sets using holdout method\n",
    "# Predictor Variables: Race, Ethnicity\n",
    "# Response Variable: number of votes cast for candidates from the Democratic party in each county\n",
    "X_train, X_test, Y_train, Y_test = train_test_split(data_train[[\n",
    "                                                            'Percent Foreign Born', \\\n",
    "                                                            'Percent Language Other than English at Home', \\\n",
    "                                                            'Population per Square Mile', \\\n",
    "                                                            'Percent Black or African American', \\\n",
    "                                                            'Percent 65 and Older', \\\n",
    "                                                            'Percent Below Poverty Level', \\\n",
    "                                                            '2014 Population']], \\\n",
    "                                                data_train['Party'], test_size = 0.25, random_state = 0)\n",
    "X_train, X_val, Y_train, Y_val = train_test_split(X_train, Y_train, test_size = 0.25, random_state = 0)"
   ]
  },
  {
   "cell_type": "code",
   "execution_count": 6,
   "metadata": {},
   "outputs": [],
   "source": [
    "white = data_train['Percent White']\n",
    "black = data_train['Percent Black or African American']\n",
    "sixtyFivePlus = data_train['Percent 65 and Older']\n",
    "poverty = data_train['Percent Below Poverty Level']\n",
    "population2014 = data_train['2014 Population']"
   ]
  },
  {
   "cell_type": "code",
   "execution_count": 7,
   "metadata": {},
   "outputs": [],
   "source": [
    "# TASK 02: Standardize the data\n",
    "scaler = StandardScaler()\n",
    "scaler.fit(X_train)\n",
    "X_train_scaled = scaler.transform(X_train) \n",
    "X_test_scaled = scaler.transform(X_test)"
   ]
  },
  {
   "cell_type": "code",
   "execution_count": 8,
   "metadata": {},
   "outputs": [
    {
     "name": "stdout",
     "output_type": "stream",
     "text": [
      "                            OLS Regression Results                            \n",
      "==============================================================================\n",
      "Dep. Variable:             Democratic   R-squared:                       0.011\n",
      "Model:                            OLS   Adj. R-squared:                  0.010\n",
      "Method:                 Least Squares   F-statistic:                     23.08\n",
      "Date:                Wed, 28 Nov 2018   Prob (F-statistic):           1.67e-06\n",
      "Time:                        21:55:54   Log-Likelihood:                -24994.\n",
      "No. Observations:                2115   AIC:                         4.999e+04\n",
      "Df Residuals:                    2113   BIC:                         5.000e+04\n",
      "Df Model:                           1                                         \n",
      "Covariance Type:            nonrobust                                         \n",
      "==============================================================================\n",
      "                 coef    std err          t      P>|t|      [0.025      0.975]\n",
      "------------------------------------------------------------------------------\n",
      "Intercept   6557.3986    855.175      7.668      0.000    4880.325    8234.472\n",
      "black        230.7447     48.033      4.804      0.000     136.548     324.941\n",
      "==============================================================================\n",
      "Omnibus:                     4330.457   Durbin-Watson:                   1.997\n",
      "Prob(Omnibus):                  0.000   Jarque-Bera (JB):         17699451.372\n",
      "Skew:                          16.441   Prob(JB):                         0.00\n",
      "Kurtosis:                     449.949   Cond. No.                         21.4\n",
      "==============================================================================\n",
      "\n",
      "Warnings:\n",
      "[1] Standard Errors assume that the covariance matrix of the errors is correctly specified.\n"
     ]
    }
   ],
   "source": [
    "# TASK 03: Simple Linear Regression - Democratic\n",
    "# build model with one predictor (using statsmodels)\n",
    "model = smf.ols(formula = 'Democratic ~ black', data = data_train)\n",
    "results = model.fit()\n",
    "print(results.summary())"
   ]
  },
  {
   "cell_type": "code",
   "execution_count": 9,
   "metadata": {},
   "outputs": [
    {
     "name": "stdout",
     "output_type": "stream",
     "text": [
      "                            OLS Regression Results                            \n",
      "==============================================================================\n",
      "Dep. Variable:             Democratic   R-squared:                       0.031\n",
      "Model:                            OLS   Adj. R-squared:                  0.031\n",
      "Method:                 Least Squares   F-statistic:                     67.56\n",
      "Date:                Wed, 28 Nov 2018   Prob (F-statistic):           3.52e-16\n",
      "Time:                        21:55:54   Log-Likelihood:                -24972.\n",
      "No. Observations:                2115   AIC:                         4.995e+04\n",
      "Df Residuals:                    2113   BIC:                         4.996e+04\n",
      "Df Model:                           1                                         \n",
      "Covariance Type:            nonrobust                                         \n",
      "==============================================================================\n",
      "                 coef    std err          t      P>|t|      [0.025      0.975]\n",
      "------------------------------------------------------------------------------\n",
      "Intercept   3.974e+04   3827.106     10.383      0.000    3.22e+04    4.72e+04\n",
      "white       -364.0005     44.285     -8.219      0.000    -450.848    -277.153\n",
      "==============================================================================\n",
      "Omnibus:                     4342.729   Durbin-Watson:                   2.001\n",
      "Prob(Omnibus):                  0.000   Jarque-Bera (JB):         18377774.981\n",
      "Skew:                          16.534   Prob(JB):                         0.00\n",
      "Kurtosis:                     458.465   Cond. No.                         468.\n",
      "==============================================================================\n",
      "\n",
      "Warnings:\n",
      "[1] Standard Errors assume that the covariance matrix of the errors is correctly specified.\n"
     ]
    }
   ],
   "source": [
    "# TASK 03: Simple Linear Regression - Democratic\n",
    "# build model with one predictor (using statsmodels)\n",
    "model = smf.ols(formula = 'Democratic ~ white', data = data_train)\n",
    "results = model.fit()\n",
    "print(results.summary())"
   ]
  },
  {
   "cell_type": "code",
   "execution_count": 10,
   "metadata": {},
   "outputs": [
    {
     "name": "stdout",
     "output_type": "stream",
     "text": [
      "                            OLS Regression Results                            \n",
      "==============================================================================\n",
      "Dep. Variable:             Democratic   R-squared:                       0.035\n",
      "Model:                            OLS   Adj. R-squared:                  0.035\n",
      "Method:                 Least Squares   F-statistic:                     76.61\n",
      "Date:                Wed, 28 Nov 2018   Prob (F-statistic):           4.17e-18\n",
      "Time:                        21:55:55   Log-Likelihood:                -24968.\n",
      "No. Observations:                2115   AIC:                         4.994e+04\n",
      "Df Residuals:                    2113   BIC:                         4.995e+04\n",
      "Df Model:                           1                                         \n",
      "Covariance Type:            nonrobust                                         \n",
      "=================================================================================\n",
      "                    coef    std err          t      P>|t|      [0.025      0.975]\n",
      "---------------------------------------------------------------------------------\n",
      "Intercept      3.386e+04   2946.920     11.491      0.000    2.81e+04    3.96e+04\n",
      "sixtyFivePlus -1428.7531    163.234     -8.753      0.000   -1748.870   -1108.636\n",
      "==============================================================================\n",
      "Omnibus:                     4347.945   Durbin-Watson:                   1.990\n",
      "Prob(Omnibus):                  0.000   Jarque-Bera (JB):         18350801.123\n",
      "Skew:                          16.584   Prob(JB):                         0.00\n",
      "Kurtosis:                     458.122   Cond. No.                         75.7\n",
      "==============================================================================\n",
      "\n",
      "Warnings:\n",
      "[1] Standard Errors assume that the covariance matrix of the errors is correctly specified.\n"
     ]
    }
   ],
   "source": [
    "# TASK 03: Simple Linear Regression - Democratic\n",
    "# build model with one predictor (using statsmodels)\n",
    "model = smf.ols(formula = 'Democratic ~ sixtyFivePlus', data = data_train)\n",
    "results = model.fit()\n",
    "print(results.summary())"
   ]
  },
  {
   "cell_type": "code",
   "execution_count": 11,
   "metadata": {},
   "outputs": [
    {
     "name": "stdout",
     "output_type": "stream",
     "text": [
      "                            OLS Regression Results                            \n",
      "==============================================================================\n",
      "Dep. Variable:             Democratic   R-squared:                       0.003\n",
      "Model:                            OLS   Adj. R-squared:                  0.003\n",
      "Method:                 Least Squares   F-statistic:                     6.833\n",
      "Date:                Wed, 28 Nov 2018   Prob (F-statistic):            0.00901\n",
      "Time:                        21:55:55   Log-Likelihood:                -25002.\n",
      "No. Observations:                2115   AIC:                         5.001e+04\n",
      "Df Residuals:                    2113   BIC:                         5.002e+04\n",
      "Df Model:                           1                                         \n",
      "Covariance Type:            nonrobust                                         \n",
      "==============================================================================\n",
      "                 coef    std err          t      P>|t|      [0.025      0.975]\n",
      "------------------------------------------------------------------------------\n",
      "Intercept   1.371e+04   2002.238      6.846      0.000    9780.266    1.76e+04\n",
      "poverty     -285.0442    109.048     -2.614      0.009    -498.897     -71.192\n",
      "==============================================================================\n",
      "Omnibus:                     4321.620   Durbin-Watson:                   1.992\n",
      "Prob(Omnibus):                  0.000   Jarque-Bera (JB):         17254784.160\n",
      "Skew:                          16.373   Prob(JB):                         0.00\n",
      "Kurtosis:                     444.278   Cond. No.                         51.4\n",
      "==============================================================================\n",
      "\n",
      "Warnings:\n",
      "[1] Standard Errors assume that the covariance matrix of the errors is correctly specified.\n"
     ]
    }
   ],
   "source": [
    "# TASK 03: Simple Linear Regression - Democratic\n",
    "# build model with one predictor (using statsmodels)\n",
    "model = smf.ols(formula = 'Democratic ~ poverty', data = data_train)\n",
    "results = model.fit()\n",
    "print(results.summary())"
   ]
  },
  {
   "cell_type": "code",
   "execution_count": 12,
   "metadata": {},
   "outputs": [
    {
     "name": "stdout",
     "output_type": "stream",
     "text": [
      "                            OLS Regression Results                            \n",
      "==============================================================================\n",
      "Dep. Variable:             Democratic   R-squared:                       0.841\n",
      "Model:                            OLS   Adj. R-squared:                  0.841\n",
      "Method:                 Least Squares   F-statistic:                 1.117e+04\n",
      "Date:                Wed, 28 Nov 2018   Prob (F-statistic):               0.00\n",
      "Time:                        21:55:55   Log-Likelihood:                -23061.\n",
      "No. Observations:                2115   AIC:                         4.613e+04\n",
      "Df Residuals:                    2113   BIC:                         4.614e+04\n",
      "Df Model:                           1                                         \n",
      "Covariance Type:            nonrobust                                         \n",
      "==================================================================================\n",
      "                     coef    std err          t      P>|t|      [0.025      0.975]\n",
      "----------------------------------------------------------------------------------\n",
      "Intercept       -424.4931    299.303     -1.418      0.156   -1011.452     162.466\n",
      "population2014     0.0864      0.001    105.695      0.000       0.085       0.088\n",
      "==============================================================================\n",
      "Omnibus:                      837.038   Durbin-Watson:                   1.966\n",
      "Prob(Omnibus):                  0.000   Jarque-Bera (JB):           706906.470\n",
      "Skew:                          -0.098   Prob(JB):                         0.00\n",
      "Kurtosis:                      92.563   Cond. No.                     3.83e+05\n",
      "==============================================================================\n",
      "\n",
      "Warnings:\n",
      "[1] Standard Errors assume that the covariance matrix of the errors is correctly specified.\n",
      "[2] The condition number is large, 3.83e+05. This might indicate that there are\n",
      "strong multicollinearity or other numerical problems.\n"
     ]
    }
   ],
   "source": [
    "# TASK 03: Simple Linear Regression - Democratic\n",
    "# build model with one predictor (using statsmodels)\n",
    "model = smf.ols(formula = 'Democratic ~ population2014', data = data_train)\n",
    "results = model.fit()\n",
    "print(results.summary())"
   ]
  },
  {
   "cell_type": "code",
   "execution_count": 13,
   "metadata": {},
   "outputs": [
    {
     "name": "stdout",
     "output_type": "stream",
     "text": [
      "0.8409404188759462\n"
     ]
    }
   ],
   "source": [
    "# train and test simple linear regression model (Democratic votes)\n",
    "r_squared = results.rsquared\n",
    "print(r_squared)"
   ]
  },
  {
   "cell_type": "code",
   "execution_count": 14,
   "metadata": {},
   "outputs": [
    {
     "name": "stdout",
     "output_type": "stream",
     "text": [
      "                            OLS Regression Results                            \n",
      "==============================================================================\n",
      "Dep. Variable:             Democratic   R-squared:                       0.843\n",
      "Model:                            OLS   Adj. R-squared:                  0.843\n",
      "Method:                 Least Squares   F-statistic:                     2271.\n",
      "Date:                Wed, 28 Nov 2018   Prob (F-statistic):               0.00\n",
      "Time:                        21:55:55   Log-Likelihood:                -23045.\n",
      "No. Observations:                2115   AIC:                         4.610e+04\n",
      "Df Residuals:                    2109   BIC:                         4.614e+04\n",
      "Df Model:                           5                                         \n",
      "Covariance Type:            nonrobust                                         \n",
      "==================================================================================\n",
      "                     coef    std err          t      P>|t|      [0.025      0.975]\n",
      "----------------------------------------------------------------------------------\n",
      "Intercept        946.5208   4039.980      0.234      0.815   -6976.241    8869.283\n",
      "white            -46.5759     40.707     -1.144      0.253    -126.405      33.253\n",
      "black             74.8552     42.024      1.781      0.075      -7.558     157.268\n",
      "sixtyFivePlus    169.8909     70.232      2.419      0.016      32.160     307.621\n",
      "poverty          -64.6850     50.099     -1.291      0.197    -162.933      33.563\n",
      "population2014     0.0862      0.001    101.313      0.000       0.085       0.088\n",
      "==============================================================================\n",
      "Omnibus:                      844.117   Durbin-Watson:                   1.971\n",
      "Prob(Omnibus):                  0.000   Jarque-Bera (JB):           712444.635\n",
      "Skew:                          -0.167   Prob(JB):                         0.00\n",
      "Kurtosis:                      92.913   Cond. No.                     5.20e+06\n",
      "==============================================================================\n",
      "\n",
      "Warnings:\n",
      "[1] Standard Errors assume that the covariance matrix of the errors is correctly specified.\n",
      "[2] The condition number is large, 5.2e+06. This might indicate that there are\n",
      "strong multicollinearity or other numerical problems.\n"
     ]
    }
   ],
   "source": [
    "# TASK 04: Multiple Linear Regression - Democratic\n",
    "# build model with one predictor (using statsmodels)\n",
    "model = smf.ols(formula = 'Democratic ~ white + black + sixtyFivePlus + poverty + population2014', data = data_train)\n",
    "results = model.fit()\n",
    "print(results.summary())"
   ]
  },
  {
   "cell_type": "code",
   "execution_count": 15,
   "metadata": {},
   "outputs": [
    {
     "name": "stdout",
     "output_type": "stream",
     "text": [
      "[0.8433391667878679, 0.8429677565621397]\n"
     ]
    }
   ],
   "source": [
    "# train and test multiple linear regression model (Democratic votes)\n",
    "r_squared = results.rsquared\n",
    "adjusted_r_squared = results.rsquared_adj\n",
    "print([r_squared, adjusted_r_squared])"
   ]
  },
  {
   "cell_type": "code",
   "execution_count": 16,
   "metadata": {},
   "outputs": [
    {
     "name": "stdout",
     "output_type": "stream",
     "text": [
      "                            OLS Regression Results                            \n",
      "==============================================================================\n",
      "Dep. Variable:             Republican   R-squared:                       0.005\n",
      "Model:                            OLS   Adj. R-squared:                  0.004\n",
      "Method:                 Least Squares   F-statistic:                     10.12\n",
      "Date:                Wed, 28 Nov 2018   Prob (F-statistic):            0.00149\n",
      "Time:                        21:55:55   Log-Likelihood:                -24059.\n",
      "No. Observations:                2115   AIC:                         4.812e+04\n",
      "Df Residuals:                    2113   BIC:                         4.813e+04\n",
      "Df Model:                           1                                         \n",
      "Covariance Type:            nonrobust                                         \n",
      "==============================================================================\n",
      "                 coef    std err          t      P>|t|      [0.025      0.975]\n",
      "------------------------------------------------------------------------------\n",
      "Intercept   8757.7532    549.519     15.937      0.000    7680.098    9835.408\n",
      "black         98.1884     30.865      3.181      0.001      37.660     158.717\n",
      "==============================================================================\n",
      "Omnibus:                     2427.122   Durbin-Watson:                   1.991\n",
      "Prob(Omnibus):                  0.000   Jarque-Bera (JB):           241988.427\n",
      "Skew:                           5.870   Prob(JB):                         0.00\n",
      "Kurtosis:                      54.070   Cond. No.                         21.4\n",
      "==============================================================================\n",
      "\n",
      "Warnings:\n",
      "[1] Standard Errors assume that the covariance matrix of the errors is correctly specified.\n"
     ]
    }
   ],
   "source": [
    "# TASK 05: Simple Linear Regression - Republican\n",
    "# build model with one predictor (using statsmodels)\n",
    "model = smf.ols(formula = 'Republican ~ black', data = data_train)\n",
    "results = model.fit()\n",
    "print(results.summary())"
   ]
  },
  {
   "cell_type": "code",
   "execution_count": 17,
   "metadata": {},
   "outputs": [
    {
     "name": "stdout",
     "output_type": "stream",
     "text": [
      "                            OLS Regression Results                            \n",
      "==============================================================================\n",
      "Dep. Variable:             Republican   R-squared:                       0.013\n",
      "Model:                            OLS   Adj. R-squared:                  0.013\n",
      "Method:                 Least Squares   F-statistic:                     28.25\n",
      "Date:                Wed, 28 Nov 2018   Prob (F-statistic):           1.18e-07\n",
      "Time:                        21:55:55   Log-Likelihood:                -24050.\n",
      "No. Observations:                2115   AIC:                         4.810e+04\n",
      "Df Residuals:                    2113   BIC:                         4.811e+04\n",
      "Df Model:                           1                                         \n",
      "Covariance Type:            nonrobust                                         \n",
      "==============================================================================\n",
      "                 coef    std err          t      P>|t|      [0.025      0.975]\n",
      "------------------------------------------------------------------------------\n",
      "Intercept   2.264e+04   2474.158      9.152      0.000    1.78e+04    2.75e+04\n",
      "white       -152.1634     28.630     -5.315      0.000    -208.309     -96.018\n",
      "==============================================================================\n",
      "Omnibus:                     2414.971   Durbin-Watson:                   1.994\n",
      "Prob(Omnibus):                  0.000   Jarque-Bera (JB):           239443.948\n",
      "Skew:                           5.818   Prob(JB):                         0.00\n",
      "Kurtosis:                      53.810   Cond. No.                         468.\n",
      "==============================================================================\n",
      "\n",
      "Warnings:\n",
      "[1] Standard Errors assume that the covariance matrix of the errors is correctly specified.\n"
     ]
    }
   ],
   "source": [
    "# TASK 05: Simple Linear Regression - Republican\n",
    "# build model with one predictor (using statsmodels)\n",
    "model = smf.ols(formula = 'Republican ~ white', data = data_train)\n",
    "results = model.fit()\n",
    "print(results.summary())"
   ]
  },
  {
   "cell_type": "code",
   "execution_count": 18,
   "metadata": {},
   "outputs": [
    {
     "name": "stdout",
     "output_type": "stream",
     "text": [
      "                            OLS Regression Results                            \n",
      "==============================================================================\n",
      "Dep. Variable:             Republican   R-squared:                       0.050\n",
      "Model:                            OLS   Adj. R-squared:                  0.050\n",
      "Method:                 Least Squares   F-statistic:                     112.1\n",
      "Date:                Wed, 28 Nov 2018   Prob (F-statistic):           1.46e-25\n",
      "Time:                        21:55:55   Log-Likelihood:                -24009.\n",
      "No. Observations:                2115   AIC:                         4.802e+04\n",
      "Df Residuals:                    2113   BIC:                         4.803e+04\n",
      "Df Model:                           1                                         \n",
      "Covariance Type:            nonrobust                                         \n",
      "=================================================================================\n",
      "                    coef    std err          t      P>|t|      [0.025      0.975]\n",
      "---------------------------------------------------------------------------------\n",
      "Intercept      2.897e+04   1872.761     15.471      0.000    2.53e+04    3.26e+04\n",
      "sixtyFivePlus -1098.3785    103.735    -10.588      0.000   -1301.812    -894.945\n",
      "==============================================================================\n",
      "Omnibus:                     2409.154   Durbin-Watson:                   1.981\n",
      "Prob(Omnibus):                  0.000   Jarque-Bera (JB):           237371.611\n",
      "Skew:                           5.795   Prob(JB):                         0.00\n",
      "Kurtosis:                      53.589   Cond. No.                         75.7\n",
      "==============================================================================\n",
      "\n",
      "Warnings:\n",
      "[1] Standard Errors assume that the covariance matrix of the errors is correctly specified.\n"
     ]
    }
   ],
   "source": [
    "# TASK 05: Simple Linear Regression - Republican\n",
    "# build model with one predictor (using statsmodels)\n",
    "model = smf.ols(formula = 'Republican ~ sixtyFivePlus', data = data_train)\n",
    "results = model.fit()\n",
    "print(results.summary())"
   ]
  },
  {
   "cell_type": "code",
   "execution_count": 19,
   "metadata": {},
   "outputs": [
    {
     "name": "stdout",
     "output_type": "stream",
     "text": [
      "                            OLS Regression Results                            \n",
      "==============================================================================\n",
      "Dep. Variable:             Republican   R-squared:                       0.022\n",
      "Model:                            OLS   Adj. R-squared:                  0.022\n",
      "Method:                 Least Squares   F-statistic:                     48.04\n",
      "Date:                Wed, 28 Nov 2018   Prob (F-statistic):           5.51e-12\n",
      "Time:                        21:55:56   Log-Likelihood:                -24040.\n",
      "No. Observations:                2115   AIC:                         4.808e+04\n",
      "Df Residuals:                    2113   BIC:                         4.810e+04\n",
      "Df Model:                           1                                         \n",
      "Covariance Type:            nonrobust                                         \n",
      "==============================================================================\n",
      "                 coef    std err          t      P>|t|      [0.025      0.975]\n",
      "------------------------------------------------------------------------------\n",
      "Intercept   1.794e+04   1270.402     14.124      0.000    1.55e+04    2.04e+04\n",
      "poverty     -479.5833     69.190     -6.931      0.000    -615.271    -343.896\n",
      "==============================================================================\n",
      "Omnibus:                     2457.995   Durbin-Watson:                   1.983\n",
      "Prob(Omnibus):                  0.000   Jarque-Bera (JB):           262298.494\n",
      "Skew:                           5.976   Prob(JB):                         0.00\n",
      "Kurtosis:                      56.231   Cond. No.                         51.4\n",
      "==============================================================================\n",
      "\n",
      "Warnings:\n",
      "[1] Standard Errors assume that the covariance matrix of the errors is correctly specified.\n"
     ]
    }
   ],
   "source": [
    "# TASK 05: Simple Linear Regression - Republican\n",
    "# build model with one predictor (using statsmodels)\n",
    "model = smf.ols(formula = 'Republican ~ poverty', data = data_train)\n",
    "results = model.fit()\n",
    "print(results.summary())"
   ]
  },
  {
   "cell_type": "code",
   "execution_count": 20,
   "metadata": {},
   "outputs": [
    {
     "name": "stdout",
     "output_type": "stream",
     "text": [
      "                            OLS Regression Results                            \n",
      "==============================================================================\n",
      "Dep. Variable:             Republican   R-squared:                       0.621\n",
      "Model:                            OLS   Adj. R-squared:                  0.621\n",
      "Method:                 Least Squares   F-statistic:                     3469.\n",
      "Date:                Wed, 28 Nov 2018   Prob (F-statistic):               0.00\n",
      "Time:                        21:55:56   Log-Likelihood:                -23036.\n",
      "No. Observations:                2115   AIC:                         4.608e+04\n",
      "Df Residuals:                    2113   BIC:                         4.609e+04\n",
      "Df Model:                           1                                         \n",
      "Covariance Type:            nonrobust                                         \n",
      "==================================================================================\n",
      "                     coef    std err          t      P>|t|      [0.025      0.975]\n",
      "----------------------------------------------------------------------------------\n",
      "Intercept       4629.3881    295.790     15.651      0.000    4049.319    5209.458\n",
      "population2014     0.0476      0.001     58.900      0.000       0.046       0.049\n",
      "==============================================================================\n",
      "Omnibus:                      895.053   Durbin-Watson:                   1.971\n",
      "Prob(Omnibus):                  0.000   Jarque-Bera (JB):           468191.762\n",
      "Skew:                          -0.565   Prob(JB):                         0.00\n",
      "Kurtosis:                      75.880   Cond. No.                     3.83e+05\n",
      "==============================================================================\n",
      "\n",
      "Warnings:\n",
      "[1] Standard Errors assume that the covariance matrix of the errors is correctly specified.\n",
      "[2] The condition number is large, 3.83e+05. This might indicate that there are\n",
      "strong multicollinearity or other numerical problems.\n"
     ]
    }
   ],
   "source": [
    "# TASK 05: Simple Linear Regression - Republican\n",
    "# build model with one predictor (using statsmodels)\n",
    "model = smf.ols(formula = 'Republican ~ population2014', data = data_train)\n",
    "results = model.fit()\n",
    "print(results.summary())"
   ]
  },
  {
   "cell_type": "code",
   "execution_count": 21,
   "metadata": {},
   "outputs": [
    {
     "name": "stdout",
     "output_type": "stream",
     "text": [
      "0.6214783099891945\n"
     ]
    }
   ],
   "source": [
    "# train and test simple linear regression model (Republican votes)\n",
    "r_squared = results.rsquared\n",
    "print(r_squared)"
   ]
  },
  {
   "cell_type": "code",
   "execution_count": 22,
   "metadata": {},
   "outputs": [
    {
     "name": "stdout",
     "output_type": "stream",
     "text": [
      "                            OLS Regression Results                            \n",
      "==============================================================================\n",
      "Dep. Variable:             Republican   R-squared:                       0.638\n",
      "Model:                            OLS   Adj. R-squared:                  0.637\n",
      "Method:                 Least Squares   F-statistic:                     743.3\n",
      "Date:                Wed, 28 Nov 2018   Prob (F-statistic):               0.00\n",
      "Time:                        21:55:56   Log-Likelihood:                -22989.\n",
      "No. Observations:                2115   AIC:                         4.599e+04\n",
      "Df Residuals:                    2109   BIC:                         4.602e+04\n",
      "Df Model:                           5                                         \n",
      "Covariance Type:            nonrobust                                         \n",
      "==================================================================================\n",
      "                     coef    std err          t      P>|t|      [0.025      0.975]\n",
      "----------------------------------------------------------------------------------\n",
      "Intercept       7892.2922   3934.324      2.006      0.045     176.731    1.56e+04\n",
      "white             86.2213     39.642      2.175      0.030       8.480     163.963\n",
      "black            167.9330     40.925      4.103      0.000      87.675     248.191\n",
      "sixtyFivePlus   -309.7334     68.395     -4.529      0.000    -443.862    -175.605\n",
      "poverty         -388.9631     48.789     -7.972      0.000    -484.642    -293.284\n",
      "population2014     0.0463      0.001     55.891      0.000       0.045       0.048\n",
      "==============================================================================\n",
      "Omnibus:                      820.062   Durbin-Watson:                   1.967\n",
      "Prob(Omnibus):                  0.000   Jarque-Bera (JB):           396271.778\n",
      "Skew:                          -0.342   Prob(JB):                         0.00\n",
      "Kurtosis:                      70.054   Cond. No.                     5.20e+06\n",
      "==============================================================================\n",
      "\n",
      "Warnings:\n",
      "[1] Standard Errors assume that the covariance matrix of the errors is correctly specified.\n",
      "[2] The condition number is large, 5.2e+06. This might indicate that there are\n",
      "strong multicollinearity or other numerical problems.\n"
     ]
    }
   ],
   "source": [
    "# TASK 06: Multiple Linear Regression - Republican\n",
    "model = smf.ols(formula = 'Republican ~ white + black + sixtyFivePlus + poverty + population2014', data = data_train)\n",
    "results = model.fit()\n",
    "print(results.summary())"
   ]
  },
  {
   "cell_type": "code",
   "execution_count": 23,
   "metadata": {},
   "outputs": [
    {
     "name": "stdout",
     "output_type": "stream",
     "text": [
      "[0.6379828528594493, 0.6371245855594481]\n"
     ]
    }
   ],
   "source": [
    "# train and test multiple linear regression model (Republican votes)\n",
    "r_squared = results.rsquared\n",
    "adjusted_r_squared = results.rsquared_adj\n",
    "print([r_squared, adjusted_r_squared])"
   ]
  },
  {
   "cell_type": "code",
   "execution_count": 24,
   "metadata": {},
   "outputs": [
    {
     "data": {
      "text/plain": [
       "KNeighborsClassifier(algorithm='auto', leaf_size=30, metric='minkowski',\n",
       "           metric_params=None, n_jobs=1, n_neighbors=3, p=2,\n",
       "           weights='uniform')"
      ]
     },
     "execution_count": 24,
     "metadata": {},
     "output_type": "execute_result"
    }
   ],
   "source": [
    "# TASK 07: Build a classification model to classify each county as Democratic or Republican\n",
    "scalar = StandardScaler()\n",
    "classifier = KNeighborsClassifier(n_neighbors = 3)  \n",
    "classifier.fit(X_train, Y_train)"
   ]
  },
  {
   "cell_type": "code",
   "execution_count": 25,
   "metadata": {},
   "outputs": [],
   "source": [
    "# predict class labels using k-nearest neighbors classifier\n",
    "y_pred = classifier.predict(X_test) "
   ]
  },
  {
   "cell_type": "code",
   "execution_count": 26,
   "metadata": {},
   "outputs": [
    {
     "name": "stdout",
     "output_type": "stream",
     "text": [
      "[[333  48]\n",
      " [108  40]]\n"
     ]
    }
   ],
   "source": [
    "# compute confusion matrix\n",
    "conf_matrix = metrics.confusion_matrix(Y_test, y_pred)\n",
    "print(conf_matrix)"
   ]
  },
  {
   "cell_type": "code",
   "execution_count": 27,
   "metadata": {},
   "outputs": [
    {
     "data": {
      "image/png": "[encoded data removed]",
      "text/plain": [
       "<Figure size 432x288 with 2 Axes>"
      ]
     },
     "metadata": {},
     "output_type": "display_data"
    }
   ],
   "source": [
    "# plot confusion matrix\n",
    "sns.heatmap(conf_matrix, annot = True, fmt = \".3f\", square = True, cmap = plt.cm.Blues)\n",
    "plt.ylabel('Actual')\n",
    "plt.xlabel('Predicted')\n",
    "plt.title('Confusion matrix')\n",
    "plt.tight_layout()"
   ]
  },
  {
   "cell_type": "code",
   "execution_count": 28,
   "metadata": {},
   "outputs": [
    {
     "name": "stdout",
     "output_type": "stream",
     "text": [
      "0.7051039697542533\n",
      "0.29489603024574673\n",
      "[0.75510204 0.45454545]\n",
      "[0.87401575 0.27027027]\n",
      "[0.81021898 0.33898305]\n"
     ]
    }
   ],
   "source": [
    "# compute evaluation metrics\n",
    "print(metrics.accuracy_score(Y_test, y_pred)) # accuracy\n",
    "print(1 - metrics.accuracy_score(Y_test, y_pred)) # error\n",
    "print(metrics.precision_score(Y_test, y_pred, average = None)) # precision\n",
    "print(metrics.recall_score(Y_test, y_pred, average = None)) # recall\n",
    "print(metrics.f1_score(Y_test, y_pred, average = None)) # F1 score"
   ]
  },
  {
   "cell_type": "code",
   "execution_count": 29,
   "metadata": {},
   "outputs": [
    {
     "data": {
      "text/plain": [
       "LogisticRegression(C=1.0, class_weight=None, dual=False, fit_intercept=True,\n",
       "          intercept_scaling=1, max_iter=100, multi_class='ovr', n_jobs=1,\n",
       "          penalty='l2', random_state=None, solver='liblinear', tol=0.0001,\n",
       "          verbose=0, warm_start=False)"
      ]
     },
     "execution_count": 29,
     "metadata": {},
     "output_type": "execute_result"
    }
   ],
   "source": [
    "# CLASSIFIER: Logistic Regression\n",
    "# initialize logistic regression classifier\n",
    "classifier = LogisticRegression() \n",
    "classifier.fit(X_train, Y_train)"
   ]
  },
  {
   "cell_type": "code",
   "execution_count": 30,
   "metadata": {},
   "outputs": [],
   "source": [
    "# predict class labels using logistic regression classifier\n",
    "y_pred = classifier.predict(X_test)"
   ]
  },
  {
   "cell_type": "code",
   "execution_count": 31,
   "metadata": {},
   "outputs": [
    {
     "name": "stdout",
     "output_type": "stream",
     "text": [
      "[[369  12]\n",
      " [119  29]]\n"
     ]
    }
   ],
   "source": [
    "# compute confusion matrix\n",
    "conf_matrix = metrics.confusion_matrix(Y_test, y_pred)\n",
    "print(conf_matrix)"
   ]
  },
  {
   "cell_type": "code",
   "execution_count": 32,
   "metadata": {},
   "outputs": [
    {
     "data": {
      "image/png": "[encoded data removed]",
      "text/plain": [
       "<Figure size 432x288 with 2 Axes>"
      ]
     },
     "metadata": {},
     "output_type": "display_data"
    }
   ],
   "source": [
    "# plot confusion matrix\n",
    "sns.heatmap(conf_matrix, annot = True, fmt = \".3f\", square = True, cmap = plt.cm.Blues)\n",
    "plt.ylabel('Actual')\n",
    "plt.xlabel('Predicted')\n",
    "plt.title('Confusion matrix')\n",
    "plt.tight_layout()"
   ]
  },
  {
   "cell_type": "code",
   "execution_count": 33,
   "metadata": {},
   "outputs": [
    {
     "name": "stdout",
     "output_type": "stream",
     "text": [
      "[0.7523629489603024, array([0.75614754, 0.70731707]), array([0.96850394, 0.19594595]), array([0.84925201, 0.30687831])]\n"
     ]
    }
   ],
   "source": [
    "# train and test classification model\n",
    "accuracy = metrics.accuracy_score(Y_test, y_pred)\n",
    "precision = metrics.precision_score(Y_test, y_pred, average = None)\n",
    "recall = metrics.recall_score(Y_test, y_pred, average = None)\n",
    "F1_score = metrics.f1_score(Y_test, y_pred, average = None)\n",
    "print([accuracy, precision, recall, F1_score])"
   ]
  },
  {
   "cell_type": "code",
   "execution_count": 34,
   "metadata": {},
   "outputs": [
    {
     "ename": "SyntaxError",
     "evalue": "invalid syntax (<ipython-input-34-27e2e4fa28bf>, line 2)",
     "output_type": "error",
     "traceback": [
      "\u001b[0;36m  File \u001b[0;32m\"<ipython-input-34-27e2e4fa28bf>\"\u001b[0;36m, line \u001b[0;32m2\u001b[0m\n\u001b[0;31m    adjusted_rand_index =\u001b[0m\n\u001b[0m                         ^\u001b[0m\n\u001b[0;31mSyntaxError\u001b[0m\u001b[0;31m:\u001b[0m invalid syntax\n"
     ]
    }
   ],
   "source": [
    "# train and test clustering model\n",
    "adjusted_rand_index =\n",
    "silhouette_coefficient ="
   ]
  },
  {
   "cell_type": "code",
   "execution_count": null,
   "metadata": {},
   "outputs": [],
   "source": []
  }
 ],
 "metadata": {
  "kernelspec": {
   "display_name": "Python 3",
   "language": "python",
   "name": "python3"
  },
  "language_info": {
   "codemirror_mode": {
    "name": "ipython",
    "version": 3
   },
   "file_extension": ".py",
   "mimetype": "text/x-python",
   "name": "python",
   "nbconvert_exporter": "python",
   "pygments_lexer": "ipython3",
   "version": "3.6.5"
  }
 },
 "nbformat": 4,
 "nbformat_minor": 2
}

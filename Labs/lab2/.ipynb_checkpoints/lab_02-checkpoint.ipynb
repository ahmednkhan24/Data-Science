{
 "cells": [
  {
   "cell_type": "code",
   "execution_count": null,
   "metadata": {},
   "outputs": [],
   "source": [
    "# Lab Assignment 02\n",
    "# The objective of this lab assignment is to build and evaluate regression models to predict\n",
    "# total charge given information from customers of a telephone company (data_lab_02.csv)."
   ]
  },
  {
   "cell_type": "code",
   "execution_count": null,
   "metadata": {},
   "outputs": [],
   "source": [
    "# load libraries\n",
    "import pandas as pd\n",
    "import matplotlib.pyplot as plt\n",
    "import seaborn as sns\n",
    "import numpy\n",
    "from sklearn.model_selection import train_test_split\n",
    "from sklearn.preprocessing import StandardScaler\n",
    "from sklearn import linear_model"
   ]
  },
  {
   "cell_type": "code",
   "execution_count": null,
   "metadata": {},
   "outputs": [],
   "source": [
    "# load the dataset and display the first five rows\n",
    "data = pd.read_csv('data_lab_02.csv')\n",
    "data.head()"
   ]
  },
  {
   "cell_type": "code",
   "execution_count": null,
   "metadata": {},
   "outputs": [],
   "source": [
    "# TASK 01: partition the dataset into training set and test set using sklearn.model_selection.train_test_split\n",
    "# HINT: use 75% of the data for training and 25% for testing and set parameter random_state to 0\n",
    "x_train, x_test, y_train, y_test = train_test_split(data[['Account length','International plan','Voice mail plan','Number voice mail messages','Total day minutes','Total day calls','Total eve minutes','Total eve calls','Total night minutes','Total night calls','Total intl minutes','Total intl calls','Customer service calls']], data['Total charge'], test_size = 0.25, random_state = 0)"
   ]
  },
  {
   "cell_type": "code",
   "execution_count": null,
   "metadata": {},
   "outputs": [],
   "source": [
    "# TASK 02: standardize the training set and test set using sklearn.preprocessing.StandardScaler\n",
    "# HINT: compute the mean and standard deviation using only the training set and then apply this\n",
    "# transformation on the training set and test set\n",
    "scaler = StandardScaler()\n",
    "scaler.fit(x_train)\n",
    "x_train_scaled = scaler.transform(x_train)\n",
    "x_test_scaled = scaler.transform(x_test)"
   ]
  },
  {
   "cell_type": "code",
   "execution_count": null,
   "metadata": {},
   "outputs": [],
   "source": [
    "# TASK 03: build a simple linear model to predict 'Total charge' with 'Total day minutes'\n",
    "# as the predictor using sklearn.linear_model\n",
    "# HINT: X must be a 2D array. \n",
    "model = linear_model.LinearRegression()\n",
    "fitted_model = model.fit(X = x_train[['Total day minutes']], y = y_train)"
   ]
  },
  {
   "cell_type": "code",
   "execution_count": null,
   "metadata": {},
   "outputs": [],
   "source": [
    "# TASK 04: print the coefficient and the y-intercept of the model\n",
    "print(fitted_model.coef_)\n",
    "print(fitted_model.intercept_)"
   ]
  },
  {
   "cell_type": "code",
   "execution_count": null,
   "metadata": {},
   "outputs": [],
   "source": [
    "# QUESTION 01: what is the coefficient and the y-intercept of the model?\n",
    "# ANSWER: Coefficient is 0.17059591, the y-intercept is 28.780857185323953"
   ]
  },
  {
   "cell_type": "code",
   "execution_count": null,
   "metadata": {},
   "outputs": [],
   "source": [
    "# TASK 05: use the model to predict 'Total charge' for the training set\n",
    "# HINT: X must be a 2D array.\n",
    "predicted = fitted_model.predict(X = x_train.values.reshape(-1,1))"
   ]
  },
  {
   "cell_type": "code",
   "execution_count": null,
   "metadata": {},
   "outputs": [],
   "source": [
    "# TASK 06: compute the coefficient of determination (R squared) of the model over the training set\n",
    "# HINT: you first have to compute the correlation coefficient between the predicted y-values\n",
    "# and the observed y-values\n",
    "corr_coef = numpy.corrcoef(x = x_train)[1, 0]\n",
    "R_squared = corr_coef * corr_coef\n",
    "print(R_squared)"
   ]
  },
  {
   "cell_type": "code",
   "execution_count": null,
   "metadata": {},
   "outputs": [],
   "source": [
    "# TASK 07: use the model to predict 'Total charge' for the test set\n",
    "# HINT: X must be a 2D array.\n",
    "predicted = fitted_model.predict(X = x_test.values.reshape(-1,1))"
   ]
  },
  {
   "cell_type": "code",
   "execution_count": null,
   "metadata": {},
   "outputs": [],
   "source": [
    "# TASK 08: compute the coefficient of determination (R squared) of the model over the test set\n",
    "# HINT: you first have to compute the correlation coefficient between the predicted y-values\n",
    "# and the observed y-values\n",
    "corr_coef = numpy.corrcoef(x = x_test)[1, 0]\n",
    "R_squared = corr_coef * corr_coef\n",
    "print(R_squared)"
   ]
  },
  {
   "cell_type": "code",
   "execution_count": null,
   "metadata": {},
   "outputs": [],
   "source": [
    "# QUESTION 02: what can you conclude about the performance of the model?\n",
    "# ANSWER: \n",
    "# The model performed well with the training set having an R squared value of 0.9371185470056625\n",
    "# and the test set having an R squared value of 0.7034378672291489"
   ]
  },
  {
   "cell_type": "code",
   "execution_count": null,
   "metadata": {},
   "outputs": [],
   "source": [
    "# TASK 09: build a multiple linear model to predict 'Total charge' with 'Total day minutes',\n",
    "# 'Total eve minutes', 'Total night minutes', and 'Total intl minutes' as predictors using sklearn.linear_model\n",
    "model = linear_model.LinearRegression()\n",
    "fitted_model = model.fit(X = x_train[['Total day minutes', 'Total eve minutes', 'Total night minutes', 'Total intl minutes']], y = y_train)"
   ]
  },
  {
   "cell_type": "code",
   "execution_count": null,
   "metadata": {},
   "outputs": [],
   "source": [
    "# TASK 10: print the coefficients and the y-intercept of the model\n",
    "print(fitted_model.coef_)\n",
    "print(fitted_model.intercept_)"
   ]
  },
  {
   "cell_type": "code",
   "execution_count": null,
   "metadata": {},
   "outputs": [],
   "source": [
    "# QUESTION 03: what are the coefficients and the y-intercept of the model?\n",
    "# ANSWER: \n",
    "# The coefficients are 0.16999751, 0.08500239, 0.04500045, and 0.26998079.\n",
    "# The y-interceipt is 0.0013842314269467693"
   ]
  },
  {
   "cell_type": "code",
   "execution_count": null,
   "metadata": {},
   "outputs": [],
   "source": [
    "# TASK 11: use the model to predict 'Total charge' for the training set\n",
    "predicted = fitted_model.predict([fitted_model.coef_])"
   ]
  },
  {
   "cell_type": "code",
   "execution_count": null,
   "metadata": {},
   "outputs": [],
   "source": [
    "# TASK 12: compute the coefficient of determination (R squared) of the model over the training set\n",
    "# HINT: you first have to compute the correlation coefficient between the predicted y-values\n",
    "# and the observed y-values\n",
    "corr_coef = numpy.corrcoef(x_train, x_test)[1, 0]\n",
    "R_squared = corr_coef * corr_coef\n",
    "print(R_squared)"
   ]
  },
  {
   "cell_type": "code",
   "execution_count": null,
   "metadata": {},
   "outputs": [],
   "source": [
    "# TASK 13: use the model to predict 'Total charge' for the test set\n",
    "predicted = fitted_model.predict([fitted_model.coef_])"
   ]
  },
  {
   "cell_type": "code",
   "execution_count": null,
   "metadata": {},
   "outputs": [],
   "source": [
    "# TASK 14: compute the coefficient of determination (R squared) of the model over the test set\n",
    "# HINT: you first have to compute the correlation coefficient between the predicted y-values\n",
    "# and the observed y-values\n",
    "corr_coef = numpy.corrcoef(x_test, x_train)[1, 0]\n",
    "R_squared = corr_coef * corr_coef\n",
    "print(R_squared)"
   ]
  },
  {
   "cell_type": "code",
   "execution_count": null,
   "metadata": {},
   "outputs": [],
   "source": [
    "# QUESTION 04: what can you conclude about the performance of the model?\n",
    "# ANSWER:\n",
    "# The model performed well with the training set having an R squared value of 0.9371185470056625\n",
    "# and the test set having an R squared value of 0.7034378672291489"
   ]
  },
  {
   "cell_type": "code",
   "execution_count": null,
   "metadata": {},
   "outputs": [],
   "source": [
    "# TASK 15: build a multiple linear model to predict 'Total charge' with all features as\n",
    "# predictors using sklearn.linear_model\n",
    "model = linear_model.LinearRegression()\n",
    "fitted_model = model.fit(X = x_train[['Account length','International plan','Voice mail plan','Number voice mail messages','Total day minutes','Total day calls','Total eve minutes','Total eve calls','Total night minutes','Total night calls','Total intl minutes','Total intl calls','Customer service calls']], y = y_train)"
   ]
  },
  {
   "cell_type": "code",
   "execution_count": null,
   "metadata": {},
   "outputs": [],
   "source": [
    "# TASK 16: print the coefficients and the y-intercept of the model\n",
    "print(fitted_model.coef_)\n",
    "print(fitted_model.intercept_)"
   ]
  },
  {
   "cell_type": "code",
   "execution_count": null,
   "metadata": {},
   "outputs": [],
   "source": [
    "# TASK 17: use the model to predict 'Total charge' for the training set\n",
    "predicted = fitted_model.predict([fitted_model.coef_])"
   ]
  },
  {
   "cell_type": "code",
   "execution_count": null,
   "metadata": {},
   "outputs": [],
   "source": [
    "# TASK 18: compute the coefficient of determination (R squared) of the model over the training set\n",
    "# HINT: you first have to compute the correlation coefficient between the predicted y-values\n",
    "# and the observed y-values\n",
    "corr_coef = numpy.corrcoef(x_train, x_test)[1, 0]\n",
    "R_squared = corr_coef * corr_coef\n",
    "print(R_squared)"
   ]
  },
  {
   "cell_type": "code",
   "execution_count": null,
   "metadata": {},
   "outputs": [],
   "source": [
    "# TASK 19: use the model to predict 'Total charge' for the test set\n",
    "predicted = fitted_model.predict([fitted_model.coef_])"
   ]
  },
  {
   "cell_type": "code",
   "execution_count": null,
   "metadata": {},
   "outputs": [],
   "source": [
    "# TASK 20: compute the coefficient of determination (R squared) of the model over the test set\n",
    "# HINT: you first have to compute the correlation coefficient between the predicted y-values\n",
    "# and the observed y-values\n",
    "corr_coef = numpy.corrcoef(x_test, x_train)[1, 0]\n",
    "R_squared = corr_coef * corr_coef\n",
    "print(R_squared)"
   ]
  },
  {
   "cell_type": "code",
   "execution_count": null,
   "metadata": {},
   "outputs": [],
   "source": [
    "# QUESTION 05: what can you conclude about the performance of the model?\n",
    "# ANSWER:\n",
    "# The model performed well with the training set having an R squared value of 0.9371185470056625\n",
    "# and the test set having an R squared value of 0.7034378672291489"
   ]
  },
  {
   "cell_type": "code",
   "execution_count": null,
   "metadata": {},
   "outputs": [],
   "source": [
    "# TASK 21: build a LASSO regression model to predict 'Total charge' with all features as\n",
    "# predictors using sklearn.linear_model\n",
    "# HINT: use parameter alpha = 1\n",
    "model = linear_model.Lasso(alpha = 1)\n",
    "fitted_model = model.fit(X = x_train, y = y_train)"
   ]
  },
  {
   "cell_type": "code",
   "execution_count": null,
   "metadata": {},
   "outputs": [],
   "source": [
    "# TASK 22: print the coefficients and the y-intercept of the model\n",
    "print(fitted_model.coef_)\n",
    "print(fitted_model.intercept_)"
   ]
  },
  {
   "cell_type": "code",
   "execution_count": null,
   "metadata": {},
   "outputs": [],
   "source": [
    "# QUESTION 06: what can you conclude about the coefficients of the model?\n",
    "# ANSWER: The coefficients are very low, so we can conclude that the Lasso Regression minimized the coefficients\n",
    "# as best as it could, and also made some coefficients become 0, which means they can be dropped."
   ]
  },
  {
   "cell_type": "code",
   "execution_count": null,
   "metadata": {},
   "outputs": [],
   "source": [
    "# TASK 23: use the model to predict 'Total charge' for the training set\n",
    "predicted = fitted_model.predict([fitted_model.coef_])"
   ]
  },
  {
   "cell_type": "code",
   "execution_count": null,
   "metadata": {},
   "outputs": [],
   "source": [
    "# TASK 24: compute the coefficient of determination (R squared) of the model over the training set\n",
    "# HINT: you first have to compute the correlation coefficient between the predicted y-values\n",
    "# and the observed y-values\n",
    "corr_coef = numpy.corrcoef(x_train, x_test)[1, 0]\n",
    "R_squared = corr_coef * corr_coef\n",
    "print(R_squared)"
   ]
  },
  {
   "cell_type": "code",
   "execution_count": null,
   "metadata": {},
   "outputs": [],
   "source": [
    "# TASK 25: use the model to predict 'Total charge' for the test set\n",
    "predicted = fitted_model.predict([fitted_model.coef_])"
   ]
  },
  {
   "cell_type": "code",
   "execution_count": null,
   "metadata": {},
   "outputs": [],
   "source": [
    "# TASK 26: compute the coefficient of determination (R squared) of the model over the test set\n",
    "# HINT: you first have to compute the correlation coefficient between the predicted y-values\n",
    "# and the observed y-values\n",
    "corr_coef = numpy.corrcoef(x_test, x_train)[1, 0]\n",
    "R_squared = corr_coef * corr_coef\n",
    "print(R_squared)"
   ]
  },
  {
   "cell_type": "code",
   "execution_count": null,
   "metadata": {},
   "outputs": [],
   "source": [
    "# QUESTION 07: what can you conclude about the performance of the model?\n",
    "# ANSWER:\n",
    "# The model performed well with the training set having an R squared value of 0.9371185470056625\n",
    "# and the test set having an R squared value of 0.7034378672291489"
   ]
  },
  {
   "cell_type": "code",
   "execution_count": null,
   "metadata": {},
   "outputs": [],
   "source": [
    "# QUESTION 08: based on all the results obtained, what are the most important variables\n",
    "# to predict the total charge of a customer? Justify your answer.\n",
    "# ANSWER: The Total day minutes, Total eve minutes, Total night minutes, and Total intl minutes are the most\n",
    "# important variables to predict the total charge of a customer since their coefficients did not become 0 when put \n",
    "# into the Lasso Regression technique, which means that they can not be dropped, which means they are important."
   ]
  }
 ],
 "metadata": {
  "kernelspec": {
   "display_name": "Python 3",
   "language": "python",
   "name": "python3"
  },
  "language_info": {
   "codemirror_mode": {
    "name": "ipython",
    "version": 3
   },
   "file_extension": ".py",
   "mimetype": "text/x-python",
   "name": "python",
   "nbconvert_exporter": "python",
   "pygments_lexer": "ipython3",
   "version": "3.6.5"
  }
 },
 "nbformat": 4,
 "nbformat_minor": 2
}

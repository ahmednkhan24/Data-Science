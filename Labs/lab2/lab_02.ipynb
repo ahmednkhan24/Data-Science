{
 "cells": [
  {
   "cell_type": "code",
   "execution_count": 1,
   "metadata": {},
   "outputs": [],
   "source": [
    "# Lab Assignment 02\n",
    "# The objective of this lab assignment is to build and evaluate regression models to predict\n",
    "# total charge given information from customers of a telephone company (data_lab_02.csv)."
   ]
  },
  {
   "cell_type": "code",
   "execution_count": 2,
   "metadata": {},
   "outputs": [],
   "source": [
    "# load libraries\n",
    "import pandas as pd\n",
    "import matplotlib.pyplot as plt\n",
    "import seaborn as sns\n",
    "import numpy\n",
    "from sklearn.model_selection import train_test_split\n",
    "from sklearn.preprocessing import StandardScaler\n",
    "from sklearn import linear_model"
   ]
  },
  {
   "cell_type": "code",
   "execution_count": 3,
   "metadata": {},
   "outputs": [
    {
     "data": {
      "text/html": [
       "<div>\n",
       "<style scoped>\n",
       "    .dataframe tbody tr th:only-of-type {\n",
       "        vertical-align: middle;\n",
       "    }\n",
       "\n",
       "    .dataframe tbody tr th {\n",
       "        vertical-align: top;\n",
       "    }\n",
       "\n",
       "    .dataframe thead th {\n",
       "        text-align: right;\n",
       "    }\n",
       "</style>\n",
       "<table border=\"1\" class=\"dataframe\">\n",
       "  <thead>\n",
       "    <tr style=\"text-align: right;\">\n",
       "      <th></th>\n",
       "      <th>Account length</th>\n",
       "      <th>International plan</th>\n",
       "      <th>Voice mail plan</th>\n",
       "      <th>Number voice mail messages</th>\n",
       "      <th>Total day minutes</th>\n",
       "      <th>Total day calls</th>\n",
       "      <th>Total eve minutes</th>\n",
       "      <th>Total eve calls</th>\n",
       "      <th>Total night minutes</th>\n",
       "      <th>Total night calls</th>\n",
       "      <th>Total intl minutes</th>\n",
       "      <th>Total intl calls</th>\n",
       "      <th>Customer service calls</th>\n",
       "      <th>Total charge</th>\n",
       "    </tr>\n",
       "  </thead>\n",
       "  <tbody>\n",
       "    <tr>\n",
       "      <th>0</th>\n",
       "      <td>128</td>\n",
       "      <td>0</td>\n",
       "      <td>1</td>\n",
       "      <td>25</td>\n",
       "      <td>265.1</td>\n",
       "      <td>110</td>\n",
       "      <td>197.4</td>\n",
       "      <td>99</td>\n",
       "      <td>244.7</td>\n",
       "      <td>91</td>\n",
       "      <td>10.0</td>\n",
       "      <td>3</td>\n",
       "      <td>1</td>\n",
       "      <td>75.56</td>\n",
       "    </tr>\n",
       "    <tr>\n",
       "      <th>1</th>\n",
       "      <td>107</td>\n",
       "      <td>0</td>\n",
       "      <td>1</td>\n",
       "      <td>26</td>\n",
       "      <td>161.6</td>\n",
       "      <td>123</td>\n",
       "      <td>195.5</td>\n",
       "      <td>103</td>\n",
       "      <td>254.4</td>\n",
       "      <td>103</td>\n",
       "      <td>13.7</td>\n",
       "      <td>3</td>\n",
       "      <td>1</td>\n",
       "      <td>59.24</td>\n",
       "    </tr>\n",
       "    <tr>\n",
       "      <th>2</th>\n",
       "      <td>137</td>\n",
       "      <td>0</td>\n",
       "      <td>0</td>\n",
       "      <td>0</td>\n",
       "      <td>243.4</td>\n",
       "      <td>114</td>\n",
       "      <td>121.2</td>\n",
       "      <td>110</td>\n",
       "      <td>162.6</td>\n",
       "      <td>104</td>\n",
       "      <td>12.2</td>\n",
       "      <td>5</td>\n",
       "      <td>0</td>\n",
       "      <td>62.29</td>\n",
       "    </tr>\n",
       "    <tr>\n",
       "      <th>3</th>\n",
       "      <td>84</td>\n",
       "      <td>1</td>\n",
       "      <td>0</td>\n",
       "      <td>0</td>\n",
       "      <td>299.4</td>\n",
       "      <td>71</td>\n",
       "      <td>61.9</td>\n",
       "      <td>88</td>\n",
       "      <td>196.9</td>\n",
       "      <td>89</td>\n",
       "      <td>6.6</td>\n",
       "      <td>7</td>\n",
       "      <td>2</td>\n",
       "      <td>66.80</td>\n",
       "    </tr>\n",
       "    <tr>\n",
       "      <th>4</th>\n",
       "      <td>75</td>\n",
       "      <td>1</td>\n",
       "      <td>0</td>\n",
       "      <td>0</td>\n",
       "      <td>166.7</td>\n",
       "      <td>113</td>\n",
       "      <td>148.3</td>\n",
       "      <td>122</td>\n",
       "      <td>186.9</td>\n",
       "      <td>121</td>\n",
       "      <td>10.1</td>\n",
       "      <td>3</td>\n",
       "      <td>3</td>\n",
       "      <td>52.09</td>\n",
       "    </tr>\n",
       "  </tbody>\n",
       "</table>\n",
       "</div>"
      ],
      "text/plain": [
       "   Account length  International plan  Voice mail plan  \\\n",
       "0             128                   0                1   \n",
       "1             107                   0                1   \n",
       "2             137                   0                0   \n",
       "3              84                   1                0   \n",
       "4              75                   1                0   \n",
       "\n",
       "   Number voice mail messages  Total day minutes  Total day calls  \\\n",
       "0                          25              265.1              110   \n",
       "1                          26              161.6              123   \n",
       "2                           0              243.4              114   \n",
       "3                           0              299.4               71   \n",
       "4                           0              166.7              113   \n",
       "\n",
       "   Total eve minutes  Total eve calls  Total night minutes  Total night calls  \\\n",
       "0              197.4               99                244.7                 91   \n",
       "1              195.5              103                254.4                103   \n",
       "2              121.2              110                162.6                104   \n",
       "3               61.9               88                196.9                 89   \n",
       "4              148.3              122                186.9                121   \n",
       "\n",
       "   Total intl minutes  Total intl calls  Customer service calls  Total charge  \n",
       "0                10.0                 3                       1         75.56  \n",
       "1                13.7                 3                       1         59.24  \n",
       "2                12.2                 5                       0         62.29  \n",
       "3                 6.6                 7                       2         66.80  \n",
       "4                10.1                 3                       3         52.09  "
      ]
     },
     "execution_count": 3,
     "metadata": {},
     "output_type": "execute_result"
    }
   ],
   "source": [
    "# load the dataset and display the first five rows\n",
    "data = pd.read_csv('data_lab_02.csv')\n",
    "data.head()"
   ]
  },
  {
   "cell_type": "code",
   "execution_count": 4,
   "metadata": {},
   "outputs": [],
   "source": [
    "# TASK 01: partition the dataset into training set and test set using sklearn.model_selection.train_test_split\n",
    "# HINT: use 75% of the data for training and 25% for testing and set parameter random_state to 0\n",
    "x_train, x_test, y_train, y_test = train_test_split(data[['Account length','International plan','Voice mail plan','Number voice mail messages','Total day minutes','Total day calls','Total eve minutes','Total eve calls','Total night minutes','Total night calls','Total intl minutes','Total intl calls','Customer service calls']], data['Total charge'], test_size = 0.25, random_state = 0)"
   ]
  },
  {
   "cell_type": "code",
   "execution_count": 5,
   "metadata": {},
   "outputs": [],
   "source": [
    "# TASK 02: standardize the training set and test set using sklearn.preprocessing.StandardScaler\n",
    "# HINT: compute the mean and standard deviation using only the training set and then apply this\n",
    "# transformation on the training set and test set\n",
    "scaler = StandardScaler()\n",
    "scaler.fit(x_train)\n",
    "x_train_scaled = scaler.transform(x_train)\n",
    "x_test_scaled = scaler.transform(x_test)"
   ]
  },
  {
   "cell_type": "code",
   "execution_count": 6,
   "metadata": {},
   "outputs": [],
   "source": [
    "# TASK 03: build a simple linear model to predict 'Total charge' with 'Total day minutes'\n",
    "# as the predictor using sklearn.linear_model\n",
    "# HINT: X must be a 2D array. \n",
    "model = linear_model.LinearRegression()\n",
    "fitted_model = model.fit(X = x_train[['Total day minutes']], y = y_train)"
   ]
  },
  {
   "cell_type": "code",
   "execution_count": 7,
   "metadata": {},
   "outputs": [
    {
     "name": "stdout",
     "output_type": "stream",
     "text": [
      "[0.17125159]\n",
      "28.72370904852092\n"
     ]
    }
   ],
   "source": [
    "# TASK 04: print the coefficient and the y-intercept of the model\n",
    "print(fitted_model.coef_)\n",
    "print(fitted_model.intercept_)"
   ]
  },
  {
   "cell_type": "code",
   "execution_count": 8,
   "metadata": {},
   "outputs": [],
   "source": [
    "# QUESTION 01: what is the coefficient and the y-intercept of the model?\n",
    "# ANSWER: Coefficient is 0.17059591, the y-intercept is 28.780857185323953"
   ]
  },
  {
   "cell_type": "code",
   "execution_count": 9,
   "metadata": {},
   "outputs": [],
   "source": [
    "# TASK 05: use the model to predict 'Total charge' for the training set\n",
    "# HINT: X must be a 2D array.\n",
    "predicted = fitted_model.predict(X = x_train.values.reshape(-1,1))"
   ]
  },
  {
   "cell_type": "code",
   "execution_count": 10,
   "metadata": {},
   "outputs": [
    {
     "name": "stdout",
     "output_type": "stream",
     "text": [
      "0.9371185470056625\n"
     ]
    }
   ],
   "source": [
    "# TASK 06: compute the coefficient of determination (R squared) of the model over the training set\n",
    "# HINT: you first have to compute the correlation coefficient between the predicted y-values\n",
    "# and the observed y-values\n",
    "corr_coef = numpy.corrcoef(x = x_train)[1, 0]\n",
    "R_squared = corr_coef * corr_coef\n",
    "print(R_squared)"
   ]
  },
  {
   "cell_type": "code",
   "execution_count": 11,
   "metadata": {},
   "outputs": [],
   "source": [
    "# TASK 07: use the model to predict 'Total charge' for the test set\n",
    "# HINT: X must be a 2D array.\n",
    "predicted = fitted_model.predict(X = x_test.values.reshape(-1,1))"
   ]
  },
  {
   "cell_type": "code",
   "execution_count": 12,
   "metadata": {},
   "outputs": [
    {
     "name": "stdout",
     "output_type": "stream",
     "text": [
      "0.7034378672291489\n"
     ]
    }
   ],
   "source": [
    "# TASK 08: compute the coefficient of determination (R squared) of the model over the test set\n",
    "# HINT: you first have to compute the correlation coefficient between the predicted y-values\n",
    "# and the observed y-values\n",
    "corr_coef = numpy.corrcoef(x = x_test)[1, 0]\n",
    "R_squared = corr_coef * corr_coef\n",
    "print(R_squared)"
   ]
  },
  {
   "cell_type": "code",
   "execution_count": 13,
   "metadata": {},
   "outputs": [],
   "source": [
    "# QUESTION 02: what can you conclude about the performance of the model?\n",
    "# ANSWER: \n",
    "# The model performed well with the training set having an R squared value of 0.9371185470056625\n",
    "# and the test set having an R squared value of 0.7034378672291489"
   ]
  },
  {
   "cell_type": "code",
   "execution_count": 14,
   "metadata": {},
   "outputs": [],
   "source": [
    "# TASK 09: build a multiple linear model to predict 'Total charge' with 'Total day minutes',\n",
    "# 'Total eve minutes', 'Total night minutes', and 'Total intl minutes' as predictors using sklearn.linear_model\n",
    "model = linear_model.LinearRegression()\n",
    "fitted_model = model.fit(X = x_train[['Total day minutes', 'Total eve minutes', 'Total night minutes', 'Total intl minutes']], y = y_train)"
   ]
  },
  {
   "cell_type": "code",
   "execution_count": 15,
   "metadata": {},
   "outputs": [
    {
     "name": "stdout",
     "output_type": "stream",
     "text": [
      "[0.16999751 0.08500239 0.04500045 0.26998079]\n",
      "0.0013842314269467693\n"
     ]
    }
   ],
   "source": [
    "# TASK 10: print the coefficients and the y-intercept of the model\n",
    "print(fitted_model.coef_)\n",
    "print(fitted_model.intercept_)"
   ]
  },
  {
   "cell_type": "code",
   "execution_count": 16,
   "metadata": {},
   "outputs": [],
   "source": [
    "# QUESTION 03: what are the coefficients and the y-intercept of the model?\n",
    "# ANSWER: \n",
    "# The coefficients are 0.16999751, 0.08500239, 0.04500045, and 0.26998079.\n",
    "# The y-interceipt is 0.0013842314269467693"
   ]
  },
  {
   "cell_type": "code",
   "execution_count": 17,
   "metadata": {},
   "outputs": [],
   "source": [
    "# TASK 11: use the model to predict 'Total charge' for the training set\n",
    "predicted = fitted_model.predict([fitted_model.coef_])"
   ]
  },
  {
   "cell_type": "code",
   "execution_count": 18,
   "metadata": {},
   "outputs": [
    {
     "name": "stdout",
     "output_type": "stream",
     "text": [
      "0.9371185470056625\n"
     ]
    }
   ],
   "source": [
    "# TASK 12: compute the coefficient of determination (R squared) of the model over the training set\n",
    "# HINT: you first have to compute the correlation coefficient between the predicted y-values\n",
    "# and the observed y-values\n",
    "corr_coef = numpy.corrcoef(x_train, x_test)[1, 0]\n",
    "R_squared = corr_coef * corr_coef\n",
    "print(R_squared)"
   ]
  },
  {
   "cell_type": "code",
   "execution_count": 19,
   "metadata": {},
   "outputs": [],
   "source": [
    "# TASK 13: use the model to predict 'Total charge' for the test set\n",
    "predicted = fitted_model.predict([fitted_model.coef_])"
   ]
  },
  {
   "cell_type": "code",
   "execution_count": 20,
   "metadata": {},
   "outputs": [
    {
     "name": "stdout",
     "output_type": "stream",
     "text": [
      "0.7034378672291489\n"
     ]
    }
   ],
   "source": [
    "# TASK 14: compute the coefficient of determination (R squared) of the model over the test set\n",
    "# HINT: you first have to compute the correlation coefficient between the predicted y-values\n",
    "# and the observed y-values\n",
    "corr_coef = numpy.corrcoef(x_test, x_train)[1, 0]\n",
    "R_squared = corr_coef * corr_coef\n",
    "print(R_squared)"
   ]
  },
  {
   "cell_type": "code",
   "execution_count": 21,
   "metadata": {},
   "outputs": [],
   "source": [
    "# QUESTION 04: what can you conclude about the performance of the model?\n",
    "# ANSWER:\n",
    "# The model performed well with the training set having an R squared value of 0.9371185470056625\n",
    "# and the test set having an R squared value of 0.7034378672291489"
   ]
  },
  {
   "cell_type": "code",
   "execution_count": 22,
   "metadata": {},
   "outputs": [],
   "source": [
    "# TASK 15: build a multiple linear model to predict 'Total charge' with all features as\n",
    "# predictors using sklearn.linear_model\n",
    "model = linear_model.LinearRegression()\n",
    "fitted_model = model.fit(X = x_train[['Account length','International plan','Voice mail plan','Number voice mail messages','Total day minutes','Total day calls','Total eve minutes','Total eve calls','Total night minutes','Total night calls','Total intl minutes','Total intl calls','Customer service calls']], y = y_train)"
   ]
  },
  {
   "cell_type": "code",
   "execution_count": 23,
   "metadata": {},
   "outputs": [
    {
     "name": "stdout",
     "output_type": "stream",
     "text": [
      "[ 4.67743917e-06 -1.85464851e-04  1.08533516e-03 -3.39106456e-05\n",
      "  1.69997525e-01  1.01717400e-05  8.50025652e-02  4.25389253e-06\n",
      "  4.50002819e-02  1.90140991e-06  2.69978278e-01  5.53135351e-05\n",
      " -1.85687895e-05]\n",
      "-0.0009324705502606889\n"
     ]
    }
   ],
   "source": [
    "# TASK 16: print the coefficients and the y-intercept of the model\n",
    "print(fitted_model.coef_)\n",
    "print(fitted_model.intercept_)"
   ]
  },
  {
   "cell_type": "code",
   "execution_count": 24,
   "metadata": {},
   "outputs": [],
   "source": [
    "# TASK 17: use the model to predict 'Total charge' for the training set\n",
    "predicted = fitted_model.predict([fitted_model.coef_])"
   ]
  },
  {
   "cell_type": "code",
   "execution_count": 25,
   "metadata": {},
   "outputs": [
    {
     "name": "stdout",
     "output_type": "stream",
     "text": [
      "0.9371185470056625\n"
     ]
    }
   ],
   "source": [
    "# TASK 18: compute the coefficient of determination (R squared) of the model over the training set\n",
    "# HINT: you first have to compute the correlation coefficient between the predicted y-values\n",
    "# and the observed y-values\n",
    "corr_coef = numpy.corrcoef(x_train, x_test)[1, 0]\n",
    "R_squared = corr_coef * corr_coef\n",
    "print(R_squared)"
   ]
  },
  {
   "cell_type": "code",
   "execution_count": 26,
   "metadata": {},
   "outputs": [],
   "source": [
    "# TASK 19: use the model to predict 'Total charge' for the test set\n",
    "predicted = fitted_model.predict([fitted_model.coef_])"
   ]
  },
  {
   "cell_type": "code",
   "execution_count": 27,
   "metadata": {},
   "outputs": [
    {
     "name": "stdout",
     "output_type": "stream",
     "text": [
      "0.7034378672291489\n"
     ]
    }
   ],
   "source": [
    "# TASK 20: compute the coefficient of determination (R squared) of the model over the test set\n",
    "# HINT: you first have to compute the correlation coefficient between the predicted y-values\n",
    "# and the observed y-values\n",
    "corr_coef = numpy.corrcoef(x_test, x_train)[1, 0]\n",
    "R_squared = corr_coef * corr_coef\n",
    "print(R_squared)"
   ]
  },
  {
   "cell_type": "code",
   "execution_count": 28,
   "metadata": {},
   "outputs": [],
   "source": [
    "# QUESTION 05: what can you conclude about the performance of the model?\n",
    "# ANSWER:\n",
    "# The model performed well with the training set having an R squared value of 0.9371185470056625\n",
    "# and the test set having an R squared value of 0.7034378672291489"
   ]
  },
  {
   "cell_type": "code",
   "execution_count": 29,
   "metadata": {},
   "outputs": [],
   "source": [
    "# TASK 21: build a LASSO regression model to predict 'Total charge' with all features as\n",
    "# predictors using sklearn.linear_model\n",
    "# HINT: use parameter alpha = 1\n",
    "model = linear_model.Lasso(alpha = 1)\n",
    "fitted_model = model.fit(X = x_train, y = y_train)"
   ]
  },
  {
   "cell_type": "code",
   "execution_count": 30,
   "metadata": {},
   "outputs": [
    {
     "name": "stdout",
     "output_type": "stream",
     "text": [
      "[ 0.          0.         -0.          0.          0.16960325  0.\n",
      "  0.08452968  0.          0.04442609 -0.          0.14269088  0.\n",
      " -0.        ]\n",
      "1.5872500488227317\n"
     ]
    }
   ],
   "source": [
    "# TASK 22: print the coefficients and the y-intercept of the model\n",
    "print(fitted_model.coef_)\n",
    "print(fitted_model.intercept_)"
   ]
  },
  {
   "cell_type": "code",
   "execution_count": 31,
   "metadata": {},
   "outputs": [],
   "source": [
    "# QUESTION 06: what can you conclude about the coefficients of the model?\n",
    "# ANSWER: The coefficients are very low, so we can conclude that the Lasso Regression minimized the coefficients\n",
    "# as best as it could, and also made some coefficients become 0, which means they can be dropped."
   ]
  },
  {
   "cell_type": "code",
   "execution_count": 32,
   "metadata": {},
   "outputs": [],
   "source": [
    "# TASK 23: use the model to predict 'Total charge' for the training set\n",
    "predicted = fitted_model.predict([fitted_model.coef_])"
   ]
  },
  {
   "cell_type": "code",
   "execution_count": 33,
   "metadata": {},
   "outputs": [
    {
     "name": "stdout",
     "output_type": "stream",
     "text": [
      "0.9371185470056625\n"
     ]
    }
   ],
   "source": [
    "# TASK 24: compute the coefficient of determination (R squared) of the model over the training set\n",
    "# HINT: you first have to compute the correlation coefficient between the predicted y-values\n",
    "# and the observed y-values\n",
    "corr_coef = numpy.corrcoef(x_train, x_test)[1, 0]\n",
    "R_squared = corr_coef * corr_coef\n",
    "print(R_squared)"
   ]
  },
  {
   "cell_type": "code",
   "execution_count": 34,
   "metadata": {},
   "outputs": [],
   "source": [
    "# TASK 25: use the model to predict 'Total charge' for the test set\n",
    "predicted = fitted_model.predict([fitted_model.coef_])"
   ]
  },
  {
   "cell_type": "code",
   "execution_count": 35,
   "metadata": {},
   "outputs": [
    {
     "name": "stdout",
     "output_type": "stream",
     "text": [
      "0.7034378672291489\n"
     ]
    }
   ],
   "source": [
    "# TASK 26: compute the coefficient of determination (R squared) of the model over the test set\n",
    "# HINT: you first have to compute the correlation coefficient between the predicted y-values\n",
    "# and the observed y-values\n",
    "corr_coef = numpy.corrcoef(x_test, x_train)[1, 0]\n",
    "R_squared = corr_coef * corr_coef\n",
    "print(R_squared)"
   ]
  },
  {
   "cell_type": "code",
   "execution_count": 36,
   "metadata": {},
   "outputs": [],
   "source": [
    "# QUESTION 07: what can you conclude about the performance of the model?\n",
    "# ANSWER:\n",
    "# The model performed well with the training set having an R squared value of 0.9371185470056625\n",
    "# and the test set having an R squared value of 0.7034378672291489"
   ]
  },
  {
   "cell_type": "code",
   "execution_count": 37,
   "metadata": {},
   "outputs": [],
   "source": [
    "# QUESTION 08: based on all the results obtained, what are the most important variables\n",
    "# to predict the total charge of a customer? Justify your answer.\n",
    "# ANSWER: The Total day minutes, Total eve minutes, Total night minutes, and Total intl minutes are the most\n",
    "# important variables to predict the total charge of a customer since their coefficients did not become 0 when put \n",
    "# into the Lasso Regression technique, which means that they can not be dropped, which means they are important."
   ]
  }
 ],
 "metadata": {
  "kernelspec": {
   "display_name": "Python 3",
   "language": "python",
   "name": "python3"
  },
  "language_info": {
   "codemirror_mode": {
    "name": "ipython",
    "version": 3
   },
   "file_extension": ".py",
   "mimetype": "text/x-python",
   "name": "python",
   "nbconvert_exporter": "python",
   "pygments_lexer": "ipython3",
   "version": "3.6.5"
  }
 },
 "nbformat": 4,
 "nbformat_minor": 2
}

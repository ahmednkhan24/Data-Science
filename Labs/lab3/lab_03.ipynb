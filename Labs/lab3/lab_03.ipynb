{
 "cells": [
  {
   "cell_type": "code",
   "execution_count": 85,
   "metadata": {},
   "outputs": [],
   "source": [
    "# Lab Assignment 03\n",
    "# The objective of this lab assignment is to build and evaluate classification models to predict\n",
    "# customer churn given information from customers of a telephone company (data_lab_03.csv)."
   ]
  },
  {
   "cell_type": "code",
   "execution_count": 86,
   "metadata": {},
   "outputs": [],
   "source": [
    "# load libraries\n",
    "import pandas as pd\n",
    "import matplotlib.pyplot as plt\n",
    "import seaborn as sns\n",
    "from sklearn.model_selection import train_test_split\n",
    "from sklearn.preprocessing import StandardScaler  \n",
    "from sklearn.tree import DecisionTreeClassifier\n",
    "from sklearn.neighbors import KNeighborsClassifier \n",
    "from sklearn.naive_bayes import GaussianNB\n",
    "from sklearn.svm import SVC\n",
    "from sklearn import metrics"
   ]
  },
  {
   "cell_type": "code",
   "execution_count": 87,
   "metadata": {},
   "outputs": [
    {
     "data": {
      "text/html": [
       "<div>\n",
       "<style scoped>\n",
       "    .dataframe tbody tr th:only-of-type {\n",
       "        vertical-align: middle;\n",
       "    }\n",
       "\n",
       "    .dataframe tbody tr th {\n",
       "        vertical-align: top;\n",
       "    }\n",
       "\n",
       "    .dataframe thead th {\n",
       "        text-align: right;\n",
       "    }\n",
       "</style>\n",
       "<table border=\"1\" class=\"dataframe\">\n",
       "  <thead>\n",
       "    <tr style=\"text-align: right;\">\n",
       "      <th></th>\n",
       "      <th>Account length</th>\n",
       "      <th>International plan</th>\n",
       "      <th>Voice mail plan</th>\n",
       "      <th>Number voice mail messages</th>\n",
       "      <th>Total day minutes</th>\n",
       "      <th>Total day calls</th>\n",
       "      <th>Total day charge</th>\n",
       "      <th>Total eve minutes</th>\n",
       "      <th>Total eve calls</th>\n",
       "      <th>Total eve charge</th>\n",
       "      <th>Total night minutes</th>\n",
       "      <th>Total night calls</th>\n",
       "      <th>Total night charge</th>\n",
       "      <th>Total intl minutes</th>\n",
       "      <th>Total intl calls</th>\n",
       "      <th>Total intl charge</th>\n",
       "      <th>Customer service calls</th>\n",
       "      <th>Churn</th>\n",
       "    </tr>\n",
       "  </thead>\n",
       "  <tbody>\n",
       "    <tr>\n",
       "      <th>0</th>\n",
       "      <td>128</td>\n",
       "      <td>0</td>\n",
       "      <td>1</td>\n",
       "      <td>25</td>\n",
       "      <td>265.1</td>\n",
       "      <td>110</td>\n",
       "      <td>45.07</td>\n",
       "      <td>197.4</td>\n",
       "      <td>99</td>\n",
       "      <td>16.78</td>\n",
       "      <td>244.7</td>\n",
       "      <td>91</td>\n",
       "      <td>11.01</td>\n",
       "      <td>10.0</td>\n",
       "      <td>3</td>\n",
       "      <td>2.70</td>\n",
       "      <td>1</td>\n",
       "      <td>0</td>\n",
       "    </tr>\n",
       "    <tr>\n",
       "      <th>1</th>\n",
       "      <td>107</td>\n",
       "      <td>0</td>\n",
       "      <td>1</td>\n",
       "      <td>26</td>\n",
       "      <td>161.6</td>\n",
       "      <td>123</td>\n",
       "      <td>27.47</td>\n",
       "      <td>195.5</td>\n",
       "      <td>103</td>\n",
       "      <td>16.62</td>\n",
       "      <td>254.4</td>\n",
       "      <td>103</td>\n",
       "      <td>11.45</td>\n",
       "      <td>13.7</td>\n",
       "      <td>3</td>\n",
       "      <td>3.70</td>\n",
       "      <td>1</td>\n",
       "      <td>0</td>\n",
       "    </tr>\n",
       "    <tr>\n",
       "      <th>2</th>\n",
       "      <td>137</td>\n",
       "      <td>0</td>\n",
       "      <td>0</td>\n",
       "      <td>0</td>\n",
       "      <td>243.4</td>\n",
       "      <td>114</td>\n",
       "      <td>41.38</td>\n",
       "      <td>121.2</td>\n",
       "      <td>110</td>\n",
       "      <td>10.30</td>\n",
       "      <td>162.6</td>\n",
       "      <td>104</td>\n",
       "      <td>7.32</td>\n",
       "      <td>12.2</td>\n",
       "      <td>5</td>\n",
       "      <td>3.29</td>\n",
       "      <td>0</td>\n",
       "      <td>0</td>\n",
       "    </tr>\n",
       "    <tr>\n",
       "      <th>3</th>\n",
       "      <td>84</td>\n",
       "      <td>1</td>\n",
       "      <td>0</td>\n",
       "      <td>0</td>\n",
       "      <td>299.4</td>\n",
       "      <td>71</td>\n",
       "      <td>50.90</td>\n",
       "      <td>61.9</td>\n",
       "      <td>88</td>\n",
       "      <td>5.26</td>\n",
       "      <td>196.9</td>\n",
       "      <td>89</td>\n",
       "      <td>8.86</td>\n",
       "      <td>6.6</td>\n",
       "      <td>7</td>\n",
       "      <td>1.78</td>\n",
       "      <td>2</td>\n",
       "      <td>0</td>\n",
       "    </tr>\n",
       "    <tr>\n",
       "      <th>4</th>\n",
       "      <td>75</td>\n",
       "      <td>1</td>\n",
       "      <td>0</td>\n",
       "      <td>0</td>\n",
       "      <td>166.7</td>\n",
       "      <td>113</td>\n",
       "      <td>28.34</td>\n",
       "      <td>148.3</td>\n",
       "      <td>122</td>\n",
       "      <td>12.61</td>\n",
       "      <td>186.9</td>\n",
       "      <td>121</td>\n",
       "      <td>8.41</td>\n",
       "      <td>10.1</td>\n",
       "      <td>3</td>\n",
       "      <td>2.73</td>\n",
       "      <td>3</td>\n",
       "      <td>0</td>\n",
       "    </tr>\n",
       "  </tbody>\n",
       "</table>\n",
       "</div>"
      ],
      "text/plain": [
       "   Account length  International plan  Voice mail plan  \\\n",
       "0             128                   0                1   \n",
       "1             107                   0                1   \n",
       "2             137                   0                0   \n",
       "3              84                   1                0   \n",
       "4              75                   1                0   \n",
       "\n",
       "   Number voice mail messages  Total day minutes  Total day calls  \\\n",
       "0                          25              265.1              110   \n",
       "1                          26              161.6              123   \n",
       "2                           0              243.4              114   \n",
       "3                           0              299.4               71   \n",
       "4                           0              166.7              113   \n",
       "\n",
       "   Total day charge  Total eve minutes  Total eve calls  Total eve charge  \\\n",
       "0             45.07              197.4               99             16.78   \n",
       "1             27.47              195.5              103             16.62   \n",
       "2             41.38              121.2              110             10.30   \n",
       "3             50.90               61.9               88              5.26   \n",
       "4             28.34              148.3              122             12.61   \n",
       "\n",
       "   Total night minutes  Total night calls  Total night charge  \\\n",
       "0                244.7                 91               11.01   \n",
       "1                254.4                103               11.45   \n",
       "2                162.6                104                7.32   \n",
       "3                196.9                 89                8.86   \n",
       "4                186.9                121                8.41   \n",
       "\n",
       "   Total intl minutes  Total intl calls  Total intl charge  \\\n",
       "0                10.0                 3               2.70   \n",
       "1                13.7                 3               3.70   \n",
       "2                12.2                 5               3.29   \n",
       "3                 6.6                 7               1.78   \n",
       "4                10.1                 3               2.73   \n",
       "\n",
       "   Customer service calls  Churn  \n",
       "0                       1      0  \n",
       "1                       1      0  \n",
       "2                       0      0  \n",
       "3                       2      0  \n",
       "4                       3      0  "
      ]
     },
     "execution_count": 87,
     "metadata": {},
     "output_type": "execute_result"
    }
   ],
   "source": [
    "# load the dataset and display the first five rows\n",
    "data = pd.read_csv('data_lab_03.csv')\n",
    "data.head()"
   ]
  },
  {
   "cell_type": "code",
   "execution_count": 88,
   "metadata": {},
   "outputs": [],
   "source": [
    "# TASK 01: partition the dataset into \n",
    "# training set: 75% of the data\n",
    "# test set: 25% of the data\n",
    "# using sklearn.model_selection.train_test_split\n",
    "# HINT: use 75% of the data for training and 25% for testing and set parameter random_state to 0\n",
    "x_train, x_test, y_train, y_test = train_test_split(data[['Account length', 'International plan', 'Voice mail plan', 'Number voice mail messages', 'Total day minutes', 'Total day calls', 'Total day charge', 'Total eve minutes', 'Total eve calls', 'Total eve charge', 'Total night minutes', 'Total night calls', 'Total night charge', 'Total intl minutes', 'Total intl calls', 'Total intl charge', 'Customer service calls']],\\\n",
    "                                                    data['Churn'], train_size=0.75, test_size=0.25, random_state=0)"
   ]
  },
  {
   "cell_type": "code",
   "execution_count": 89,
   "metadata": {},
   "outputs": [
    {
     "name": "stdout",
     "output_type": "stream",
     "text": [
      "[(2499, 17), (834, 17)]\n"
     ]
    }
   ],
   "source": [
    "# determine the dimensionality of the training set and test set\n",
    "print([x_train.shape, x_test.shape])"
   ]
  },
  {
   "cell_type": "code",
   "execution_count": 90,
   "metadata": {},
   "outputs": [],
   "source": [
    "# QUESTION 01: how many observations and how many features does the training set contain?\n",
    "# ANSWER: 2499 observations, 17 features"
   ]
  },
  {
   "cell_type": "code",
   "execution_count": 91,
   "metadata": {},
   "outputs": [],
   "source": [
    "# QUESTION 02: how many observations and how many features does the test set contain?\n",
    "# ANSWER: 834 observations, 17 features"
   ]
  },
  {
   "cell_type": "code",
   "execution_count": 92,
   "metadata": {},
   "outputs": [],
   "source": [
    "# TASK 02: standardize the training set and test set using sklearn.preprocessing.StandardScaler\n",
    "# HINT: compute the mean and standard deviation using only the training set and then apply this\n",
    "# transformation on the training set and test set\n",
    "scaler = StandardScaler()\n",
    "scaler.fit(x_train)\n",
    "x_train_scaled = scaler.transform(x_train)\n",
    "x_test_scaled = scaler.transform(x_test)"
   ]
  },
  {
   "cell_type": "code",
   "execution_count": 93,
   "metadata": {},
   "outputs": [
    {
     "data": {
      "text/plain": [
       "DecisionTreeClassifier(class_weight=None, criterion='entropy', max_depth=None,\n",
       "            max_features=None, max_leaf_nodes=None,\n",
       "            min_impurity_decrease=0.0, min_impurity_split=None,\n",
       "            min_samples_leaf=1, min_samples_split=2,\n",
       "            min_weight_fraction_leaf=0.0, presort=False, random_state=0,\n",
       "            splitter='best')"
      ]
     },
     "execution_count": 93,
     "metadata": {},
     "output_type": "execute_result"
    }
   ],
   "source": [
    "# TASK 03: build decision tree classifier to classify customers as churned/non-churned\n",
    "# HINT: use sklearn.tree.DecisionTreeClassifier with entropy as the split criterion\n",
    "classifier = DecisionTreeClassifier(criterion = \"entropy\", random_state = 0)\n",
    "classifier.fit(x_train_scaled, y_train)"
   ]
  },
  {
   "cell_type": "code",
   "execution_count": 94,
   "metadata": {},
   "outputs": [
    {
     "name": "stdout",
     "output_type": "stream",
     "text": [
      "[(  1, 238,  4,  1.37790751e+00, 0.60293799, 2499, 2.499e+03)\n",
      " (  2, 199, 16,  1.47932553e+00, 0.4991475 , 2278, 2.278e+03)\n",
      " (  3, 186,  1,  1.39084876e+00, 0.37934172, 2105, 2.105e+03)\n",
      " (  4, 135,  6,  7.91448593e-01, 0.26832186, 1921, 1.921e+03)\n",
      " (  5,   6, 12, -1.40246248e+00, 0.1779243 , 1681, 1.681e+03)\n",
      " ( -1,  -1, -2, -2.00000000e+00, 0.        ,  124, 1.240e+02)\n",
      " (  7,   8, 10, -1.40125608e+00, 0.18885385, 1557, 1.557e+03)\n",
      " ( -1,  -1, -2, -2.00000000e+00, 0.        ,    1, 1.000e+00)\n",
      " (  9,  26,  7, -6.43222094e-01, 0.18567934, 1556, 1.556e+03)\n",
      " ( 10,  25, 13,  3.73752005e-02, 0.09482908,  411, 4.110e+02)\n",
      " ( 11,  22, 13,  1.76009070e-03, 0.16417121,  207, 2.070e+02)\n",
      " ( 12,  17,  3,  1.93759680e+00, 0.11102003,  203, 2.030e+02)\n",
      " ( 13,  16,  0, -1.88109088e+00, 0.04741446,  190, 1.900e+02)\n",
      " ( 14,  15,  5, -1.34136140e+00, 0.72192809,    5, 5.000e+00)\n",
      " ( -1,  -1, -2, -2.00000000e+00, 0.        ,    1, 1.000e+00)\n",
      " ( -1,  -1, -2, -2.00000000e+00, 0.        ,    4, 4.000e+00)\n",
      " ( -1,  -1, -2, -2.00000000e+00, 0.        ,  185, 1.850e+02)\n",
      " ( 18,  19,  0,  9.24853444e-01, 0.61938219,   13, 1.300e+01)\n",
      " ( -1,  -1, -2, -2.00000000e+00, 0.        ,    9, 9.000e+00)\n",
      " ( 20,  21,  7, -1.54412925e+00, 1.        ,    4, 4.000e+00)\n",
      " ( -1,  -1, -2, -2.00000000e+00, 0.        ,    2, 2.000e+00)\n",
      " ( -1,  -1, -2, -2.00000000e+00, 0.        ,    2, 2.000e+00)\n",
      " ( 23,  24,  7, -1.24317551e+00, 1.        ,    4, 4.000e+00)\n",
      " ( -1,  -1, -2, -2.00000000e+00, 0.        ,    2, 2.000e+00)\n",
      " ( -1,  -1, -2, -2.00000000e+00, 0.        ,    2, 2.000e+00)\n",
      " ( -1,  -1, -2, -2.00000000e+00, 0.        ,  204, 2.040e+02)\n",
      " ( 27,  92, 11,  7.33808935e-01, 0.21436617, 1145, 1.145e+03)\n",
      " ( 28,  29, 13, -7.10542083e-01, 0.17017729,  870, 8.700e+02)\n",
      " ( -1,  -1, -2, -2.00000000e+00, 0.        ,  197, 1.970e+02)\n",
      " ( 30,  45,  0, -1.02322608e-01, 0.20770499,  673, 6.730e+02)\n",
      " ( 31,  32, 12,  6.40130222e-01, 0.11670201,  318, 3.180e+02)\n",
      " ( -1,  -1, -2, -2.00000000e+00, 0.        ,  214, 2.140e+02)\n",
      " ( 33,  34, 10,  6.54101729e-01, 0.27817101,  104, 1.040e+02)\n",
      " ( -1,  -1, -2, -2.00000000e+00, 0.        ,    1, 1.000e+00)\n",
      " ( 35,  40,  8,  8.06315780e-01, 0.23692475,  103, 1.030e+02)\n",
      " ( 36,  37,  5,  2.11814451e+00, 0.09227725,   85, 8.500e+01)\n",
      " ( -1,  -1, -2, -2.00000000e+00, 0.        ,   83, 8.300e+01)\n",
      " ( 38,  39,  5,  2.59102678e+00, 1.        ,    2, 2.000e+00)\n",
      " ( -1,  -1, -2, -2.00000000e+00, 0.        ,    1, 1.000e+00)\n",
      " ( -1,  -1, -2, -2.00000000e+00, 0.        ,    1, 1.000e+00)\n",
      " ( 41,  44,  5, -5.44928372e-01, 0.65002242,   18, 1.800e+01)\n",
      " ( 42,  43,  0, -4.15486038e-01, 0.97095059,    5, 5.000e+00)\n",
      " ( -1,  -1, -2, -2.00000000e+00, 0.        ,    3, 3.000e+00)\n",
      " ( -1,  -1, -2, -2.00000000e+00, 0.        ,    2, 2.000e+00)\n",
      " ( -1,  -1, -2, -2.00000000e+00, 0.        ,   13, 1.300e+01)\n",
      " ( 46,  53,  0, -2.11031316e-03, 0.27735376,  355, 3.550e+02)\n",
      " ( 47,  52,  7,  1.43707240e+00, 0.73828487,   24, 2.400e+01)\n",
      " ( 48,  49,  8,  1.59283429e-01, 0.5746357 ,   22, 2.200e+01)\n",
      " ( -1,  -1, -2, -2.00000000e+00, 0.        ,   15, 1.500e+01)\n",
      " ( 50,  51, 11, -4.60047245e-01, 0.98522814,    7, 7.000e+00)\n",
      " ( -1,  -1, -2, -2.00000000e+00, 0.        ,    4, 4.000e+00)\n",
      " ( -1,  -1, -2, -2.00000000e+00, 0.        ,    3, 3.000e+00)\n",
      " ( -1,  -1, -2, -2.00000000e+00, 0.        ,    2, 2.000e+00)\n",
      " ( 54,  75,  8, -6.37064099e-01, 0.22484398,  331, 3.310e+02)\n",
      " ( 55,  64,  0,  1.98314279e-01, 0.40707681,   86, 8.600e+01)\n",
      " ( 56,  59, 11, -5.10849655e-01, 0.83664074,   15, 1.500e+01)\n",
      " ( 57,  58,  4,  8.18777606e-02, 0.81127812,    4, 4.000e+00)\n",
      " ( -1,  -1, -2, -2.00000000e+00, 0.        ,    1, 1.000e+00)\n",
      " ( -1,  -1, -2, -2.00000000e+00, 0.        ,    3, 3.000e+00)\n",
      " ( 60,  63,  7, -5.43555558e-01, 0.43949699,   11, 1.100e+01)\n",
      " ( 61,  62,  7, -6.02182925e-01, 1.        ,    2, 2.000e+00)\n",
      " ( -1,  -1, -2, -2.00000000e+00, 0.        ,    1, 1.000e+00)\n",
      " ( -1,  -1, -2, -2.00000000e+00, 0.        ,    1, 1.000e+00)\n",
      " ( -1,  -1, -2, -2.00000000e+00, 0.        ,    9, 9.000e+00)\n",
      " ( 65,  70,  5,  1.02304912e+00, 0.25253077,   71, 7.100e+01)\n",
      " ( 66,  67,  4,  6.59936428e-01, 0.12741851,   57, 5.700e+01)\n",
      " ( -1,  -1, -2, -2.00000000e+00, 0.        ,   54, 5.400e+01)\n",
      " ( 68,  69,  0,  8.74747276e-01, 0.91829583,    3, 3.000e+00)\n",
      " ( -1,  -1, -2, -2.00000000e+00, 0.        ,    2, 2.000e+00)\n",
      " ( -1,  -1, -2, -2.00000000e+00, 0.        ,    1, 1.000e+00)\n",
      " ( 71,  74,  7,  2.71364868e-01, 0.59167278,   14, 1.400e+01)\n",
      " ( 72,  73,  7, -8.62620771e-02, 0.97095059,    5, 5.000e+00)\n",
      " ( -1,  -1, -2, -2.00000000e+00, 0.        ,    3, 3.000e+00)\n",
      " ( -1,  -1, -2, -2.00000000e+00, 0.        ,    2, 2.000e+00)\n",
      " ( -1,  -1, -2, -2.00000000e+00, 0.        ,    9, 9.000e+00)\n",
      " ( 76,  91,  0,  3.01678514e+00, 0.14372617,  245, 2.450e+02)\n",
      " ( 77,  78,  9, -6.27053618e-01, 0.12068101,  244, 2.440e+02)\n",
      " ( -1,  -1, -2, -2.00000000e+00, 0.        ,    1, 1.000e+00)\n",
      " ( 79,  90, 10, -6.68515116e-02, 0.0959704 ,  243, 2.430e+02)\n",
      " ( 80,  89, 12, -8.31054002e-02, 0.19143325,  102, 1.020e+02)\n",
      " ( 81,  82,  0,  6.99375749e-01, 0.14032727,  101, 1.010e+02)\n",
      " ( -1,  -1, -2, -2.00000000e+00, 0.        ,   57, 5.700e+01)\n",
      " ( 83,  88,  0,  7.49481916e-01, 0.26676499,   44, 4.400e+01)\n",
      " ( 84,  85, 14, -3.98192674e-01, 0.97095059,    5, 5.000e+00)\n",
      " ( -1,  -1, -2, -2.00000000e+00, 0.        ,    2, 2.000e+00)\n",
      " ( 86,  87, 10, -3.62728357e-01, 0.91829583,    3, 3.000e+00)\n",
      " ( -1,  -1, -2, -2.00000000e+00, 0.        ,    2, 2.000e+00)\n",
      " ( -1,  -1, -2, -2.00000000e+00, 0.        ,    1, 1.000e+00)\n",
      " ( -1,  -1, -2, -2.00000000e+00, 0.        ,   39, 3.900e+01)\n",
      " ( -1,  -1, -2, -2.00000000e+00, 0.        ,    1, 1.000e+00)\n",
      " ( -1,  -1, -2, -2.00000000e+00, 0.        ,  141, 1.410e+02)\n",
      " ( -1,  -1, -2, -2.00000000e+00, 0.        ,    1, 1.000e+00)\n",
      " ( 93, 116, 10,  7.37933517e-01, 0.33462053,  275, 2.750e+02)\n",
      " ( 94, 109,  0,  1.28812289e+00, 0.2085566 ,  213, 2.130e+02)\n",
      " ( 95, 100,  3,  1.42354321e+00, 0.14431028,  195, 1.950e+02)\n",
      " ( 96,  97,  8,  1.25426126e+00, 0.05390791,  163, 1.630e+02)\n",
      " ( -1,  -1, -2, -2.00000000e+00, 0.        ,  146, 1.460e+02)\n",
      " ( 98,  99,  6, -1.03000557e+00, 0.32275696,   17, 1.700e+01)\n",
      " ( -1,  -1, -2, -2.00000000e+00, 0.        ,    1, 1.000e+00)\n",
      " ( -1,  -1, -2, -2.00000000e+00, 0.        ,   16, 1.600e+01)\n",
      " (101, 102,  8, -1.14461005e-01, 0.44886449,   32, 3.200e+01)\n",
      " ( -1,  -1, -2, -2.00000000e+00, 0.        ,   17, 1.700e+01)\n",
      " (103, 108,  5,  1.51950508e-01, 0.72192809,   15, 1.500e+01)\n",
      " (104, 107,  8,  1.00540268e+00, 0.954434  ,    8, 8.000e+00)\n",
      " (105, 106,  9,  9.76564109e-01, 0.81127812,    4, 4.000e+00)\n",
      " ( -1,  -1, -2, -2.00000000e+00, 0.        ,    3, 3.000e+00)\n",
      " ( -1,  -1, -2, -2.00000000e+00, 0.        ,    1, 1.000e+00)\n",
      " ( -1,  -1, -2, -2.00000000e+00, 0.        ,    4, 4.000e+00)\n",
      " ( -1,  -1, -2, -2.00000000e+00, 0.        ,    7, 7.000e+00)\n",
      " (110, 115, 10, -2.04974730e-02, 0.65002242,   18, 1.800e+01)\n",
      " (111, 114, 11,  1.26723409e+00, 0.98522814,    7, 7.000e+00)\n",
      " (112, 113,  7, -8.52849483e-02, 0.72192809,    5, 5.000e+00)\n",
      " ( -1,  -1, -2, -2.00000000e+00, 0.        ,    1, 1.000e+00)\n",
      " ( -1,  -1, -2, -2.00000000e+00, 0.        ,    4, 4.000e+00)\n",
      " ( -1,  -1, -2, -2.00000000e+00, 0.        ,    2, 2.000e+00)\n",
      " ( -1,  -1, -2, -2.00000000e+00, 0.        ,   11, 1.100e+01)\n",
      " (117, 134, 11,  1.49584484e+00, 0.6373875 ,   62, 6.200e+01)\n",
      " (118, 121,  7, -4.18483824e-01, 0.81127812,   40, 4.000e+01)\n",
      " (119, 120, 16,  3.37504923e-01, 0.72192809,    5, 5.000e+00)\n",
      " ( -1,  -1, -2, -2.00000000e+00, 0.        ,    4, 4.000e+00)\n",
      " ( -1,  -1, -2, -2.00000000e+00, 0.        ,    1, 1.000e+00)\n",
      " (122, 133,  7,  1.99012387e+00, 0.66096234,   35, 3.500e+01)\n",
      " (123, 126, 10,  8.52339268e-01, 0.53283506,   33, 3.300e+01)\n",
      " (124, 125, 15,  3.93572509e-01, 0.91829583,    3, 3.000e+00)\n",
      " ( -1,  -1, -2, -2.00000000e+00, 0.        ,    1, 1.000e+00)\n",
      " ( -1,  -1, -2, -2.00000000e+00, 0.        ,    2, 2.000e+00)\n",
      " (127, 132,  5, -1.71600401e-01, 0.35335934,   30, 3.000e+01)\n",
      " (128, 129,  5, -4.95151341e-01, 0.65002242,   12, 1.200e+01)\n",
      " ( -1,  -1, -2, -2.00000000e+00, 0.        ,    8, 8.000e+00)\n",
      " (130, 131,  4, -1.53764009e-01, 1.        ,    4, 4.000e+00)\n",
      " ( -1,  -1, -2, -2.00000000e+00, 0.        ,    2, 2.000e+00)\n",
      " ( -1,  -1, -2, -2.00000000e+00, 0.        ,    2, 2.000e+00)\n",
      " ( -1,  -1, -2, -2.00000000e+00, 0.        ,   18, 1.800e+01)\n",
      " ( -1,  -1, -2, -2.00000000e+00, 0.        ,    2, 2.000e+00)\n",
      " ( -1,  -1, -2, -2.00000000e+00, 0.        ,   22, 2.200e+01)\n",
      " (136, 177,  9,  1.13635111e+00, 0.67825063,  240, 2.400e+02)\n",
      " (137, 172,  7,  8.43958855e-01, 0.41666476,  202, 2.020e+02)\n",
      " (138, 171,  5,  4.50612903e-01, 0.34918437,  183, 1.830e+02)\n",
      " (139, 140,  4,  7.96166897e-01, 0.44412605,  130, 1.300e+02)\n",
      " ( -1,  -1, -2, -2.00000000e+00, 0.        ,    1, 1.000e+00)\n",
      " (141, 142,  0, -2.01888275e+00, 0.42048596,  129, 1.290e+02)\n",
      " ( -1,  -1, -2, -2.00000000e+00, 0.        ,    1, 1.000e+00)\n",
      " (143, 170,  0,  9.74959612e-01, 0.39553781,  128, 1.280e+02)\n",
      " (144, 167,  5,  4.00835812e-01, 0.45969421,  103, 1.030e+02)\n",
      " (145, 146, 15, -1.01130235e+00, 0.40502013,   99, 9.900e+01)\n",
      " ( -1,  -1, -2, -2.00000000e+00, 0.        ,   18, 1.800e+01)\n",
      " (147, 148,  0, -1.90614390e+00, 0.46506984,   81, 8.100e+01)\n",
      " ( -1,  -1, -2, -2.00000000e+00, 0.        ,    1, 1.000e+00)\n",
      " (149, 166, 15,  4.99103040e-01, 0.42806963,   80, 8.000e+01)\n",
      " (150, 163, 13,  3.93526316e-01, 0.59167278,   49, 4.900e+01)\n",
      " (151, 152, 10, -1.39632487e+00, 0.49596907,   46, 4.600e+01)\n",
      " ( -1,  -1, -2, -2.00000000e+00, 0.        ,    1, 1.000e+00)\n",
      " (153, 154, 12, -2.38710642e-01, 0.43275016,   45, 4.500e+01)\n",
      " ( -1,  -1, -2, -2.00000000e+00, 0.        ,   17, 1.700e+01)\n",
      " (155, 156, 12, -1.99261427e-01, 0.59167278,   28, 2.800e+01)\n",
      " ( -1,  -1, -2, -2.00000000e+00, 0.        ,    1, 1.000e+00)\n",
      " (157, 158,  7, -4.13598210e-01, 0.50325833,   27, 2.700e+01)\n",
      " ( -1,  -1, -2, -2.00000000e+00, 0.        ,   15, 1.500e+01)\n",
      " (159, 162, 10,  1.08706820e+00, 0.81127812,   12, 1.200e+01)\n",
      " (160, 161, 11,  1.03862333e+00, 0.46899559,   10, 1.000e+01)\n",
      " ( -1,  -1, -2, -2.00000000e+00, 0.        ,    9, 9.000e+00)\n",
      " ( -1,  -1, -2, -2.00000000e+00, 0.        ,    1, 1.000e+00)\n",
      " ( -1,  -1, -2, -2.00000000e+00, 0.        ,    2, 2.000e+00)\n",
      " (164, 165, 14,  1.64804101e+00, 0.91829583,    3, 3.000e+00)\n",
      " ( -1,  -1, -2, -2.00000000e+00, 0.        ,    2, 2.000e+00)\n",
      " ( -1,  -1, -2, -2.00000000e+00, 0.        ,    1, 1.000e+00)\n",
      " ( -1,  -1, -2, -2.00000000e+00, 0.        ,   31, 3.100e+01)\n",
      " (168, 169,  7, -7.43865728e-01, 1.        ,    4, 4.000e+00)\n",
      " ( -1,  -1, -2, -2.00000000e+00, 0.        ,    2, 2.000e+00)\n",
      " ( -1,  -1, -2, -2.00000000e+00, 0.        ,    2, 2.000e+00)\n",
      " ( -1,  -1, -2, -2.00000000e+00, 0.        ,   25, 2.500e+01)\n",
      " ( -1,  -1, -2, -2.00000000e+00, 0.        ,   53, 5.300e+01)\n",
      " (173, 174, 10,  6.82655796e-02, 0.83147439,   19, 1.900e+01)\n",
      " ( -1,  -1, -2, -2.00000000e+00, 0.        ,   10, 1.000e+01)\n",
      " (175, 176,  2,  4.90775019e-01, 0.99107606,    9, 9.000e+00)\n",
      " ( -1,  -1, -2, -2.00000000e+00, 0.        ,    5, 5.000e+00)\n",
      " ( -1,  -1, -2, -2.00000000e+00, 0.        ,    4, 4.000e+00)\n",
      " (178, 185,  3, -1.92053795e-01, 0.89974376,   38, 3.800e+01)\n",
      " (179, 184,  9,  1.31568050e+00, 0.56650951,   30, 3.000e+01)\n",
      " (180, 181,  7,  1.19572306e+00, 0.99107606,    9, 9.000e+00)\n",
      " ( -1,  -1, -2, -2.00000000e+00, 0.        ,    4, 4.000e+00)\n",
      " (182, 183,  5,  1.52081978e+00, 0.72192809,    5, 5.000e+00)\n",
      " ( -1,  -1, -2, -2.00000000e+00, 0.        ,    4, 4.000e+00)\n",
      " ( -1,  -1, -2, -2.00000000e+00, 0.        ,    1, 1.000e+00)\n",
      " ( -1,  -1, -2, -2.00000000e+00, 0.        ,   21, 2.100e+01)\n",
      " ( -1,  -1, -2, -2.00000000e+00, 0.        ,    8, 8.000e+00)\n",
      " (187, 188, 14, -8.07439446e-01, 0.94605843,  184, 1.840e+02)\n",
      " ( -1,  -1, -2, -2.00000000e+00, 0.        ,   36, 3.600e+01)\n",
      " (189, 198, 15,  1.01356423e+00, 0.74044825,  148, 1.480e+02)\n",
      " (190, 197,  7,  2.40833235e+00, 0.24678396,  122, 1.220e+02)\n",
      " (191, 194,  6,  1.32099152e+00, 0.16866093,  120, 1.200e+02)\n",
      " (192, 193, 10, -2.31255674e+00, 0.07099895,  117, 1.170e+02)\n",
      " ( -1,  -1, -2, -2.00000000e+00, 0.        ,    1, 1.000e+00)\n",
      " ( -1,  -1, -2, -2.00000000e+00, 0.        ,  116, 1.160e+02)\n",
      " (195, 196,  7, -1.56614915e-01, 0.91829583,    3, 3.000e+00)\n",
      " ( -1,  -1, -2, -2.00000000e+00, 0.        ,    1, 1.000e+00)\n",
      " ( -1,  -1, -2, -2.00000000e+00, 0.        ,    2, 2.000e+00)\n",
      " ( -1,  -1, -2, -2.00000000e+00, 0.        ,    2, 2.000e+00)\n",
      " ( -1,  -1, -2, -2.00000000e+00, 0.        ,   26, 2.600e+01)\n",
      " (200, 211,  6, -3.67264807e-01, 0.99302328,  173, 1.730e+02)\n",
      " (201, 206,  7,  6.19220614e-01, 0.37123233,   70, 7.000e+01)\n",
      " (202, 203,  8,  2.29946733e+00, 0.12741851,   57, 5.700e+01)\n",
      " ( -1,  -1, -2, -2.00000000e+00, 0.        ,   55, 5.500e+01)\n",
      " (204, 205,  8,  2.69764090e+00, 1.        ,    2, 2.000e+00)\n",
      " ( -1,  -1, -2, -2.00000000e+00, 0.        ,    1, 1.000e+00)\n",
      " ( -1,  -1, -2, -2.00000000e+00, 0.        ,    1, 1.000e+00)\n",
      " (207, 208,  4, -8.38597894e-01, 0.89049164,   13, 1.300e+01)\n",
      " ( -1,  -1, -2, -2.00000000e+00, 0.        ,    7, 7.000e+00)\n",
      " (209, 210, 15,  2.48468071e-01, 0.91829583,    6, 6.000e+00)\n",
      " ( -1,  -1, -2, -2.00000000e+00, 0.        ,    4, 4.000e+00)\n",
      " ( -1,  -1, -2, -2.00000000e+00, 0.        ,    2, 2.000e+00)\n",
      " (212, 217,  9, -8.99496198e-01, 0.87034605,  103, 1.030e+02)\n",
      " (213, 214,  0,  8.12114596e-01, 0.35335934,   15, 1.500e+01)\n",
      " ( -1,  -1, -2, -2.00000000e+00, 0.        ,   13, 1.300e+01)\n",
      " (215, 216,  2,  4.90775019e-01, 1.        ,    2, 2.000e+00)\n",
      " ( -1,  -1, -2, -2.00000000e+00, 0.        ,    1, 1.000e+00)\n",
      " ( -1,  -1, -2, -2.00000000e+00, 0.        ,    1, 1.000e+00)\n",
      " (218, 223,  6, -1.21444270e-01, 0.68403844,   88, 8.800e+01)\n",
      " (219, 222,  9,  2.02919155e-01, 0.99277445,   20, 2.000e+01)\n",
      " (220, 221,  4, -3.42461526e-01, 0.46899559,   10, 1.000e+01)\n",
      " ( -1,  -1, -2, -2.00000000e+00, 0.        ,    1, 1.000e+00)\n",
      " ( -1,  -1, -2, -2.00000000e+00, 0.        ,    9, 9.000e+00)\n",
      " ( -1,  -1, -2, -2.00000000e+00, 0.        ,   10, 1.000e+01)\n",
      " (224, 233,  1,  1.39084876e+00, 0.47825016,   68, 6.800e+01)\n",
      " (225, 226, 11,  4.03593391e-01, 0.21357982,   59, 5.900e+01)\n",
      " ( -1,  -1, -2, -2.00000000e+00, 0.        ,   42, 4.200e+01)\n",
      " (227, 232, 14, -3.98192674e-01, 0.52255937,   17, 1.700e+01)\n",
      " (228, 229,  9,  1.54638186e-01, 0.97095059,    5, 5.000e+00)\n",
      " ( -1,  -1, -2, -2.00000000e+00, 0.        ,    2, 2.000e+00)\n",
      " (230, 231, 10, -1.33616328e+00, 0.91829583,    3, 3.000e+00)\n",
      " ( -1,  -1, -2, -2.00000000e+00, 0.        ,    1, 1.000e+00)\n",
      " ( -1,  -1, -2, -2.00000000e+00, 0.        ,    2, 2.000e+00)\n",
      " ( -1,  -1, -2, -2.00000000e+00, 0.        ,   12, 1.200e+01)\n",
      " (234, 237,  7,  7.25726962e-01, 0.99107606,    9, 9.000e+00)\n",
      " (235, 236, 12,  1.42631784e-01, 0.72192809,    5, 5.000e+00)\n",
      " ( -1,  -1, -2, -2.00000000e+00, 0.        ,    1, 1.000e+00)\n",
      " ( -1,  -1, -2, -2.00000000e+00, 0.        ,    4, 4.000e+00)\n",
      " ( -1,  -1, -2, -2.00000000e+00, 0.        ,    4, 4.000e+00)\n",
      " (239, 274,  2,  4.90775019e-01, 0.99667435,  221, 2.210e+02)\n",
      " (240, 259,  7, -2.56804619e-02, 0.92594006,  170, 1.700e+02)\n",
      " (241, 258,  4,  2.41252208e+00, 0.97663491,   78, 7.800e+01)\n",
      " (242, 247, 12, -1.29129484e-01, 0.92752659,   70, 7.000e+01)\n",
      " (243, 244,  6,  1.90413833e+00, 0.36205125,   29, 2.900e+01)\n",
      " ( -1,  -1, -2, -2.00000000e+00, 0.        ,   24, 2.400e+01)\n",
      " (245, 246,  8, -5.62406480e-01, 0.97095059,    5, 5.000e+00)\n",
      " ( -1,  -1, -2, -2.00000000e+00, 0.        ,    2, 2.000e+00)\n",
      " ( -1,  -1, -2, -2.00000000e+00, 0.        ,    3, 3.000e+00)\n",
      " (248, 249,  9, -1.21562147e+00, 0.99613448,   41, 4.100e+01)\n",
      " ( -1,  -1, -2, -2.00000000e+00, 0.        ,    8, 8.000e+00)\n",
      " (250, 257,  6,  1.72329235e+00, 0.91829583,   33, 3.300e+01)\n",
      " (251, 256, 10,  1.57132006e+00, 0.99836367,   21, 2.100e+01)\n",
      " (252, 253,  7, -4.27277923e-01, 0.89603823,   16, 1.600e+01)\n",
      " ( -1,  -1, -2, -2.00000000e+00, 0.        ,    9, 9.000e+00)\n",
      " (254, 255,  8, -3.63319606e-01, 0.86312057,    7, 7.000e+00)\n",
      " ( -1,  -1, -2, -2.00000000e+00, 0.        ,    2, 2.000e+00)\n",
      " ( -1,  -1, -2, -2.00000000e+00, 0.        ,    5, 5.000e+00)\n",
      " ( -1,  -1, -2, -2.00000000e+00, 0.        ,    5, 5.000e+00)\n",
      " ( -1,  -1, -2, -2.00000000e+00, 0.        ,   12, 1.200e+01)\n",
      " ( -1,  -1, -2, -2.00000000e+00, 0.        ,    8, 8.000e+00)\n",
      " (260, 267, 12, -8.72089744e-01, 0.55862937,   92, 9.200e+01)\n",
      " (261, 266,  6,  1.78555965e+00, 0.99750255,   17, 1.700e+01)\n",
      " (262, 263, 14,  1.10540837e-02, 0.68403844,   11, 1.100e+01)\n",
      " ( -1,  -1, -2, -2.00000000e+00, 0.        ,    8, 8.000e+00)\n",
      " (264, 265,  5,  6.99498236e-01, 0.91829583,    3, 3.000e+00)\n",
      " ( -1,  -1, -2, -2.00000000e+00, 0.        ,    2, 2.000e+00)\n",
      " ( -1,  -1, -2, -2.00000000e+00, 0.        ,    1, 1.000e+00)\n",
      " ( -1,  -1, -2, -2.00000000e+00, 0.        ,    6, 6.000e+00)\n",
      " (268, 273,  4,  1.48468268e+00, 0.24229219,   75, 7.500e+01)\n",
      " (269, 272, 14, -8.07439446e-01, 0.81127812,   12, 1.200e+01)\n",
      " (270, 271, 10,  3.45403552e-01, 0.97095059,    5, 5.000e+00)\n",
      " ( -1,  -1, -2, -2.00000000e+00, 0.        ,    3, 3.000e+00)\n",
      " ( -1,  -1, -2, -2.00000000e+00, 0.        ,    2, 2.000e+00)\n",
      " ( -1,  -1, -2, -2.00000000e+00, 0.        ,    7, 7.000e+00)\n",
      " ( -1,  -1, -2, -2.00000000e+00, 0.        ,   63, 6.300e+01)\n",
      " (275, 278,  1,  1.39084876e+00, 0.52255937,   51, 5.100e+01)\n",
      " (276, 277,  6,  2.53980637e+00, 0.15935006,   43, 4.300e+01)\n",
      " ( -1,  -1, -2, -2.00000000e+00, 0.        ,   42, 4.200e+01)\n",
      " ( -1,  -1, -2, -2.00000000e+00, 0.        ,    1, 1.000e+00)\n",
      " (279, 282,  0, -3.96899208e-02, 0.954434  ,    8, 8.000e+00)\n",
      " (280, 281, 14, -8.07439446e-01, 0.81127812,    4, 4.000e+00)\n",
      " ( -1,  -1, -2, -2.00000000e+00, 0.        ,    1, 1.000e+00)\n",
      " ( -1,  -1, -2, -2.00000000e+00, 0.        ,    3, 3.000e+00)\n",
      " ( -1,  -1, -2, -2.00000000e+00, 0.        ,    4, 4.000e+00)]\n"
     ]
    },
    {
     "data": {
      "text/plain": [
       "283"
      ]
     },
     "execution_count": 94,
     "metadata": {},
     "output_type": "execute_result"
    }
   ],
   "source": [
    "# show the structure of decision tree classifier\n",
    "print(classifier.tree_.__getstate__()['nodes'])\n",
    "len(classifier.tree_.__getstate__()['nodes'])"
   ]
  },
  {
   "cell_type": "code",
   "execution_count": 95,
   "metadata": {},
   "outputs": [],
   "source": [
    "# QUESTION 03: how many nodes are in the tree? Which variable was selected to split the root node of the tree?\n",
    "# ANSWER: 283 nodes. Variable 4."
   ]
  },
  {
   "cell_type": "code",
   "execution_count": 96,
   "metadata": {},
   "outputs": [],
   "source": [
    "# QUESTION 04: what do you conclude from observing the structure of the tree?\n",
    "# ANSWER: The root node had an entropy of 0.60293799 with 2499 original observations."
   ]
  },
  {
   "cell_type": "code",
   "execution_count": 97,
   "metadata": {},
   "outputs": [],
   "source": [
    "# TASK 04: predict class labels using decision tree classifier\n",
    "y_pred = classifier.predict(x_test_scaled)"
   ]
  },
  {
   "cell_type": "code",
   "execution_count": 98,
   "metadata": {},
   "outputs": [
    {
     "data": {
      "image/png": "[encoded data removed]",
      "text/plain": [
       "<Figure size 432x288 with 2 Axes>"
      ]
     },
     "metadata": {},
     "output_type": "display_data"
    }
   ],
   "source": [
    "# TASK 05: plot confusion matrix for decision tree classifier\n",
    "conf_matrix = metrics.confusion_matrix(y_test, y_pred)\n",
    "sns.heatmap(conf_matrix, annot = True, fmt = \".3f\", square = True, cmap = plt.cm.Blues)\n",
    "plt.ylabel('Actual')\n",
    "plt.xlabel('Predicted')\n",
    "plt.title('Confusion matrix')\n",
    "plt.tight_layout()"
   ]
  },
  {
   "cell_type": "code",
   "execution_count": 99,
   "metadata": {},
   "outputs": [
    {
     "name": "stdout",
     "output_type": "stream",
     "text": [
      "[[671  48]\n",
      " [ 24  91]]\n"
     ]
    }
   ],
   "source": [
    "print(conf_matrix)"
   ]
  },
  {
   "cell_type": "code",
   "execution_count": 100,
   "metadata": {},
   "outputs": [
    {
     "name": "stdout",
     "output_type": "stream",
     "text": [
      "0.9136690647482014\n",
      "0.08633093525179858\n",
      "[0.96546763 0.65467626]\n",
      "[0.93324061 0.79130435]\n",
      "[0.94908062 0.71653543]\n"
     ]
    }
   ],
   "source": [
    "# TASK 06: compute evaluation metrics for decision tree classifier\n",
    "accuracy = metrics.accuracy_score(y_test, y_pred)\n",
    "error = 1 - metrics.accuracy_score(y_test, y_pred)\n",
    "precision = metrics.precision_score(y_test, y_pred, average = None)\n",
    "recall = metrics.recall_score(y_test, y_pred, average = None)\n",
    "F1_score = metrics.f1_score(y_test, y_pred, average = None)\n",
    "#print([accuracy, error, precision, recall, F1_score])\n",
    "print(accuracy)\n",
    "print(error)\n",
    "print(precision)\n",
    "print(recall)\n",
    "print(F1_score)"
   ]
  },
  {
   "cell_type": "code",
   "execution_count": 101,
   "metadata": {},
   "outputs": [],
   "source": [
    "# QUESTION 05: what do you conclude about the performance of the decision tree classifier?\n",
    "# ANSWER: The F1 score is the trade off between precision and recall. The score at [0.94908062 0.71653543] shows that\n",
    "#          the decision tree classifier performed well with 91.4% accuracy.\n",
    "#          Class 0 was predicted well, but class 1 had miscalculations."
   ]
  },
  {
   "cell_type": "code",
   "execution_count": 102,
   "metadata": {},
   "outputs": [
    {
     "data": {
      "text/plain": [
       "KNeighborsClassifier(algorithm='auto', leaf_size=30, metric='minkowski',\n",
       "           metric_params=None, n_jobs=1, n_neighbors=3, p=2,\n",
       "           weights='uniform')"
      ]
     },
     "execution_count": 102,
     "metadata": {},
     "output_type": "execute_result"
    }
   ],
   "source": [
    "# TASK 07: build k-Nearest Neighbors classifier to classify customers as churned/non-churned\n",
    "# HINT: use sklearn.neighbors.KNeighborsClassifier with k = 3 (number of nearest neighbors)\n",
    "classifier = KNeighborsClassifier(n_neighbors = 3)\n",
    "classifier.fit(x_train_scaled, y_train)"
   ]
  },
  {
   "cell_type": "code",
   "execution_count": 103,
   "metadata": {},
   "outputs": [],
   "source": [
    "# TASK 08: predict class labels using k-nearest neighbors classifier\n",
    "y_pred = classifier.predict(x_test_scaled)"
   ]
  },
  {
   "cell_type": "code",
   "execution_count": 104,
   "metadata": {},
   "outputs": [
    {
     "data": {
      "image/png": "[encoded data removed]",
      "text/plain": [
       "<Figure size 432x288 with 2 Axes>"
      ]
     },
     "metadata": {},
     "output_type": "display_data"
    }
   ],
   "source": [
    "# TASK 09: plot confusion matrix for k-nearest neighbors classifier\n",
    "conf_matrix = metrics.confusion_matrix(y_test, y_pred)\n",
    "sns.heatmap(conf_matrix, annot = True, fmt = \".3f\", square = True, cmap = plt.cm.Blues)\n",
    "plt.ylabel('Actual')\n",
    "plt.xlabel('Predicted')\n",
    "plt.title('Confusion matrix')\n",
    "plt.tight_layout()"
   ]
  },
  {
   "cell_type": "code",
   "execution_count": 105,
   "metadata": {},
   "outputs": [
    {
     "name": "stdout",
     "output_type": "stream",
     "text": [
      "0.9100719424460432\n",
      "0.08992805755395683\n",
      "[0.92146597 0.78571429]\n",
      "[0.97913769 0.47826087]\n",
      "[0.94942684 0.59459459]\n"
     ]
    }
   ],
   "source": [
    "# TASK 10: compute evaluation metrics for k-nearest neighbors classifier\n",
    "accuracy = metrics.accuracy_score(y_test, y_pred)\n",
    "error = 1 - metrics.accuracy_score(y_test, y_pred)\n",
    "precision = metrics.precision_score(y_test, y_pred, average = None)\n",
    "recall = metrics.recall_score(y_test, y_pred, average = None)\n",
    "F1_score = metrics.f1_score(y_test, y_pred, average = None)\n",
    "# print([accuracy, error, precision, recall, F1_score])\n",
    "print(accuracy)\n",
    "print(error)\n",
    "print(precision)\n",
    "print(recall)\n",
    "print(F1_score)"
   ]
  },
  {
   "cell_type": "code",
   "execution_count": 106,
   "metadata": {},
   "outputs": [],
   "source": [
    "# QUESTION 06: what do you conclude about the performance of the k-nearest neighbors classifier?\n",
    "# ANSWER: Class 0 was predicted correctly, therefore the k-nearest neighbor classifier performed well with 91% accuracy."
   ]
  },
  {
   "cell_type": "code",
   "execution_count": 107,
   "metadata": {},
   "outputs": [
    {
     "data": {
      "text/plain": [
       "GaussianNB(priors=None)"
      ]
     },
     "execution_count": 107,
     "metadata": {},
     "output_type": "execute_result"
    }
   ],
   "source": [
    "# TASK 11: build Naive Bayes classifier to classify customers as churned/non-churned\n",
    "# HINT: use sklearn.naive_bayes.GaussianNB\n",
    "classifier = GaussianNB()\n",
    "classifier.fit(x_train_scaled, y_train)"
   ]
  },
  {
   "cell_type": "code",
   "execution_count": 108,
   "metadata": {},
   "outputs": [],
   "source": [
    "# TASK 12: predict class labels using Naive Bayes classifier\n",
    "y_pred = classifier.predict(x_test_scaled)"
   ]
  },
  {
   "cell_type": "code",
   "execution_count": 109,
   "metadata": {},
   "outputs": [
    {
     "data": {
      "image/png": "[encoded data removed]",
      "text/plain": [
       "<Figure size 432x288 with 2 Axes>"
      ]
     },
     "metadata": {},
     "output_type": "display_data"
    }
   ],
   "source": [
    "# TASK 13: plot confusion matrix for Naive Bayes classifier\n",
    "conf_matrix = metrics.confusion_matrix(y_test, y_pred)\n",
    "sns.heatmap(conf_matrix, annot = True, fmt = \".3f\", square = True, cmap = plt.cm.Blues)\n",
    "plt.ylabel('Actual')\n",
    "plt.xlabel('Predicted')\n",
    "plt.title('Confusion matrix')\n",
    "plt.tight_layout()"
   ]
  },
  {
   "cell_type": "code",
   "execution_count": 110,
   "metadata": {},
   "outputs": [
    {
     "name": "stdout",
     "output_type": "stream",
     "text": [
      "0.8621103117505995\n",
      "0.1378896882494005\n",
      "[0.93142857 0.5       ]\n",
      "[0.90681502 0.5826087 ]\n",
      "[0.91895701 0.53815261]\n"
     ]
    }
   ],
   "source": [
    "# TASK 14: compute evaluation metrics for Naive Bayes classifier\n",
    "accuracy = metrics.accuracy_score(y_test, y_pred)\n",
    "error = 1 - metrics.accuracy_score(y_test, y_pred)\n",
    "precision = metrics.precision_score(y_test, y_pred, average = None)\n",
    "recall = metrics.recall_score(y_test, y_pred, average = None)\n",
    "F1_score = metrics.f1_score(y_test, y_pred, average = None)\n",
    "#print([accuracy, error, precision, recall, F1_score])\n",
    "print(accuracy)\n",
    "print(error)\n",
    "print(precision)\n",
    "print(recall)\n",
    "print(F1_score)"
   ]
  },
  {
   "cell_type": "code",
   "execution_count": 111,
   "metadata": {},
   "outputs": [],
   "source": [
    "# QUESTION 07: what do you conclude about the performance of the Naive Bayes classifier?\n",
    "# ANSWER: The Naive Bayes Classifier performed okay, with an accuracy of 86%. K-Nearest Neighbors is better for this set"
   ]
  },
  {
   "cell_type": "code",
   "execution_count": 112,
   "metadata": {},
   "outputs": [
    {
     "data": {
      "text/plain": [
       "SVC(C=1.0, cache_size=200, class_weight=None, coef0=0.0,\n",
       "  decision_function_shape='ovr', degree=3, gamma='auto', kernel='linear',\n",
       "  max_iter=-1, probability=False, random_state=None, shrinking=True,\n",
       "  tol=0.001, verbose=False)"
      ]
     },
     "execution_count": 112,
     "metadata": {},
     "output_type": "execute_result"
    }
   ],
   "source": [
    "# TASK 15: build linear SVM classifier to classify customers as churned/non-churned\n",
    "# HINT: use sklearn.svm.SVC with kernel = \"linear\" (no kernel)\n",
    "classifier = SVC(kernel = 'linear')\n",
    "classifier.fit(x_train_scaled, y_train)"
   ]
  },
  {
   "cell_type": "code",
   "execution_count": 113,
   "metadata": {},
   "outputs": [
    {
     "data": {
      "text/plain": [
       "0.4237695078031212"
      ]
     },
     "execution_count": 113,
     "metadata": {},
     "output_type": "execute_result"
    }
   ],
   "source": [
    "# determine the complexity of linear SVM classifier by computing the percentage of support vectors\n",
    "len(classifier.support_vectors_)/len(x_train_scaled)"
   ]
  },
  {
   "cell_type": "code",
   "execution_count": 114,
   "metadata": {},
   "outputs": [],
   "source": [
    "# QUESTION 08: what do you conclude about the complexity of the linear SVM classifier?\n",
    "# ANSWER: We are using around 42% of our training observations as super vectors.\n",
    "#         It's a good value but a pretty high value still, so I would say we are slightly overfitting, but not too much"
   ]
  },
  {
   "cell_type": "code",
   "execution_count": 115,
   "metadata": {},
   "outputs": [],
   "source": [
    "# TASK 16: predict class labels using linear SVM classifier\n",
    "y_pred = classifier.predict(x_test_scaled)"
   ]
  },
  {
   "cell_type": "code",
   "execution_count": 116,
   "metadata": {},
   "outputs": [
    {
     "data": {
      "image/png": "[encoded data removed]",
      "text/plain": [
       "<Figure size 432x288 with 2 Axes>"
      ]
     },
     "metadata": {},
     "output_type": "display_data"
    }
   ],
   "source": [
    "# TASK 17: plot confusion matrix for linear SVM classifier\n",
    "conf_matrix = metrics.confusion_matrix(y_test, y_pred)\n",
    "sns.heatmap(conf_matrix, annot = True, fmt = \".3f\", square = True, cmap = plt.cm.Blues)\n",
    "plt.ylabel('Actual')\n",
    "plt.xlabel('Predicted')\n",
    "plt.title('Confusion matrix')\n",
    "plt.tight_layout()"
   ]
  },
  {
   "cell_type": "code",
   "execution_count": 117,
   "metadata": {},
   "outputs": [
    {
     "name": "stdout",
     "output_type": "stream",
     "text": [
      "0.8621103117505995\n",
      "0.1378896882494005\n",
      "[0.86211031 0.        ]\n",
      "[1. 0.]\n",
      "[0.92594977 0.        ]\n"
     ]
    },
    {
     "name": "stderr",
     "output_type": "stream",
     "text": [
      "/anaconda3/lib/python3.6/site-packages/sklearn/metrics/classification.py:1135: UndefinedMetricWarning: Precision is ill-defined and being set to 0.0 in labels with no predicted samples.\n",
      "  'precision', 'predicted', average, warn_for)\n",
      "/anaconda3/lib/python3.6/site-packages/sklearn/metrics/classification.py:1135: UndefinedMetricWarning: F-score is ill-defined and being set to 0.0 in labels with no predicted samples.\n",
      "  'precision', 'predicted', average, warn_for)\n"
     ]
    }
   ],
   "source": [
    "# TASK 18: compute evaluation metrics for linear SVM classifier\n",
    "accuracy = metrics.accuracy_score(y_test, y_pred)\n",
    "error = 1 - metrics.accuracy_score(y_test, y_pred)\n",
    "precision = metrics.precision_score(y_test, y_pred, average = None)\n",
    "recall = metrics.recall_score(y_test, y_pred, average = None)\n",
    "F1_score = metrics.f1_score(y_test, y_pred, average = None)\n",
    "# print([accuracy, error, precision, recall, F1_score])\n",
    "print(accuracy)\n",
    "print(error)\n",
    "print(precision)\n",
    "print(recall)\n",
    "print(F1_score)"
   ]
  },
  {
   "cell_type": "code",
   "execution_count": 118,
   "metadata": {},
   "outputs": [],
   "source": [
    "# QUESTION 09: what do you conclude about the performance of the linear SVM classifier?\n",
    "# ANSWER: The Linear SVM performed well with little misclassification, but still had an accuracy at 86%."
   ]
  },
  {
   "cell_type": "code",
   "execution_count": 119,
   "metadata": {},
   "outputs": [
    {
     "data": {
      "text/plain": [
       "SVC(C=1.0, cache_size=200, class_weight=None, coef0=0.0,\n",
       "  decision_function_shape='ovr', degree=3, gamma='auto', kernel='rbf',\n",
       "  max_iter=-1, probability=False, random_state=None, shrinking=True,\n",
       "  tol=0.001, verbose=False)"
      ]
     },
     "execution_count": 119,
     "metadata": {},
     "output_type": "execute_result"
    }
   ],
   "source": [
    "# TASK 19: build kernel SVM classifier to classify customers as churned/non-churned\n",
    "# HINT: use sklearn.svm.SVC with kernel = \"rbf\" (radial basis function kernel)\n",
    "classifier = SVC(kernel = 'rbf')\n",
    "classifier.fit(x_train_scaled, y_train)"
   ]
  },
  {
   "cell_type": "code",
   "execution_count": 120,
   "metadata": {},
   "outputs": [
    {
     "data": {
      "text/plain": [
       "0.304921968787515"
      ]
     },
     "execution_count": 120,
     "metadata": {},
     "output_type": "execute_result"
    }
   ],
   "source": [
    "# determine the complexity of kernel SVM classifier by computing the percentage of support vectors\n",
    "len(classifier.support_vectors_)/len(x_train_scaled)"
   ]
  },
  {
   "cell_type": "code",
   "execution_count": 121,
   "metadata": {},
   "outputs": [],
   "source": [
    "# QUESTION 10: what do you conclude about the complexity of the kernel SVM classifier?\n",
    "# ANSWER: We are using around 30% of our training observations as super vectors. This is better than our linear,\n",
    "#         and performed well."
   ]
  },
  {
   "cell_type": "code",
   "execution_count": 122,
   "metadata": {},
   "outputs": [],
   "source": [
    "# TASK 20: predict class labels using kernel SVM classifier\n",
    "y_pred = classifier.predict(x_test_scaled)"
   ]
  },
  {
   "cell_type": "code",
   "execution_count": 123,
   "metadata": {},
   "outputs": [
    {
     "data": {
      "image/png": "[encoded data removed]",
      "text/plain": [
       "<Figure size 432x288 with 2 Axes>"
      ]
     },
     "metadata": {},
     "output_type": "display_data"
    }
   ],
   "source": [
    "# TASK 21: plot confusion matrix for kernel SVM classifier\n",
    "conf_matrix = metrics.confusion_matrix(y_test, y_pred)\n",
    "sns.heatmap(conf_matrix, annot = True, fmt = \".3f\", square = True, cmap = plt.cm.Blues)\n",
    "plt.ylabel('Actual')\n",
    "plt.xlabel('Predicted')\n",
    "plt.title('Confusion matrix')\n",
    "plt.tight_layout()"
   ]
  },
  {
   "cell_type": "code",
   "execution_count": 124,
   "metadata": {},
   "outputs": [
    {
     "name": "stdout",
     "output_type": "stream",
     "text": [
      "0.9268585131894485\n",
      "0.07314148681055155\n",
      "[0.93062827 0.88571429]\n",
      "[0.98887344 0.53913043]\n",
      "[0.95886716 0.67027027]\n"
     ]
    }
   ],
   "source": [
    "# TASK 22: compute evaluation metrics for kernel SVM classifier\n",
    "accuracy = metrics.accuracy_score(y_test, y_pred)\n",
    "error = 1 - metrics.accuracy_score(y_test, y_pred)\n",
    "precision = metrics.precision_score(y_test, y_pred, average = None)\n",
    "recall = metrics.recall_score(y_test, y_pred, average = None)\n",
    "F1_score = metrics.f1_score(y_test, y_pred, average = None)\n",
    "# print([accuracy, error, precision, recall, F1_score])\n",
    "print(accuracy)\n",
    "print(error)\n",
    "print(precision)\n",
    "print(recall)\n",
    "print(F1_score)"
   ]
  },
  {
   "cell_type": "code",
   "execution_count": 125,
   "metadata": {},
   "outputs": [],
   "source": [
    "# QUESTION 11: what do you conclude about the performance of the kernel SVM classifier?\n",
    "# ANSWER: The RBF kernel SVM performed well with a 92.7% accuracy."
   ]
  },
  {
   "cell_type": "code",
   "execution_count": 126,
   "metadata": {},
   "outputs": [],
   "source": [
    "# QUESTION 12: which of the five classifiers had the best performance?\n",
    "# ANSWER: The RBF kernel SVM classifier had the best performance."
   ]
  },
  {
   "cell_type": "code",
   "execution_count": 127,
   "metadata": {},
   "outputs": [],
   "source": [
    "# OPTIONAL: can you improve the results obtained by changing the parameters of the classifiers?"
   ]
  },
  {
   "cell_type": "code",
   "execution_count": null,
   "metadata": {},
   "outputs": [],
   "source": []
  }
 ],
 "metadata": {
  "kernelspec": {
   "display_name": "Python 3",
   "language": "python",
   "name": "python3"
  },
  "language_info": {
   "codemirror_mode": {
    "name": "ipython",
    "version": 3
   },
   "file_extension": ".py",
   "mimetype": "text/x-python",
   "name": "python",
   "nbconvert_exporter": "python",
   "pygments_lexer": "ipython3",
   "version": "3.6.5"
  }
 },
 "nbformat": 4,
 "nbformat_minor": 2
}
